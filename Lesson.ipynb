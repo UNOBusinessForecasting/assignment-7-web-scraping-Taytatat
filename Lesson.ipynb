{
  "cells": [
    {
      "cell_type": "markdown",
      "id": "eae89d37-a227-4844-9ed5-e961739b408c",
      "metadata": {
        "id": "eae89d37-a227-4844-9ed5-e961739b408c"
      },
      "source": [
        "## Collecting data from websites\n",
        "\n",
        "Have you ever needed to collect data from websites where the data is not made readily available? If you have, then you probably spent a significant amount of time copying and pasting from the website to a spreadsheet, and trying to carefully collect only the information that you need, while avoiding mistakes based on copying and pasting or typing. If your project required that data be collected from *many* pages, then this likely became a painful and repetitive effort that occupied a substantial amount of time.\n",
        "\n",
        "Fortunately, your knowledge of Python can facilitate the data collection process through libraries designed to automate the collection of data from large numbers of pages. This class, we will focus on how to use a few of these libraries to streamline the collection of information from websites. The best way to understand this process is to do it, so we will be walking through the process while learning about why we scrape data the way that we do.\n"
      ]
    },
    {
      "cell_type": "markdown",
      "id": "05b36089-33c4-4110-b7d6-31823074c6b4",
      "metadata": {
        "id": "05b36089-33c4-4110-b7d6-31823074c6b4"
      },
      "source": [
        "## Parsing websites with Python\n",
        "\n",
        "Obviously, if we want to scrape a website, we will first want to *access* that website. We can do this with the `requests` library, like we did before to grab some text for our regex experiments."
      ]
    },
    {
      "cell_type": "code",
      "execution_count": null,
      "id": "459a31fc-f611-426a-92bc-ca3e3bb1b11d",
      "metadata": {
        "id": "459a31fc-f611-426a-92bc-ca3e3bb1b11d"
      },
      "outputs": [],
      "source": [
        "import requests\n",
        "myPage = requests.get(\"https://brickset.com/sets/year-2020\")"
      ]
    },
    {
      "cell_type": "markdown",
      "id": "50c16d8e-f6e6-4d6e-8f2c-6da1e4fe2a5b",
      "metadata": {
        "tags": [],
        "id": "50c16d8e-f6e6-4d6e-8f2c-6da1e4fe2a5b"
      },
      "source": [
        "During this lesson, we will be using [brickset.com](https://brickset.com/) as our example. This is a GREAT website for learning to scrape, because the website is so simple that we can quickly determine whether or not the results of our scrape match the true output of the website. Even better, the website is about Legos, and Legos are the best!\n",
        "\n",
        "Now we will focus on exploring the page to see what information we can extract.\n",
        "\n",
        "### Process the HTML"
      ]
    },
    {
      "cell_type": "code",
      "execution_count": null,
      "id": "5900e353-a220-4237-9185-2abd3e67962e",
      "metadata": {
        "id": "5900e353-a220-4237-9185-2abd3e67962e"
      },
      "outputs": [],
      "source": [
        "from bs4 import BeautifulSoup\n",
        "\n",
        "parsed = BeautifulSoup(myPage.text)"
      ]
    },
    {
      "cell_type": "markdown",
      "id": "af84c86a-0aca-4440-bc4b-c8080cf29da7",
      "metadata": {
        "id": "af84c86a-0aca-4440-bc4b-c8080cf29da7"
      },
      "source": [
        "The code above imports the `BeautifulSoup` library/function, and prepares our requested URL for scraping. When we feed our website into the parser, we need to make sure to pass the `text` attribute of the requested URL, since this is the place in which the full HTML of the page is stored. If we just pass the `myPage` object, then we will be unable to parse the HTML like we want to. Now, we simply store a parsed website as an object (in this case we call it `parsed`), and we are ready to go."
      ]
    },
    {
      "cell_type": "code",
      "execution_count": null,
      "id": "d4020d6f-c76f-4e41-9818-aa85e40ee9fa",
      "metadata": {
        "id": "d4020d6f-c76f-4e41-9818-aa85e40ee9fa"
      },
      "outputs": [],
      "source": [
        "parsed.title"
      ]
    },
    {
      "cell_type": "markdown",
      "id": "cde932c6-fea9-43cf-97b0-45a1e0b41824",
      "metadata": {
        "id": "cde932c6-fea9-43cf-97b0-45a1e0b41824"
      },
      "source": [
        "    <title>2020  | Brickset: LEGO set guide and database</title>\n",
        "\n",
        "\n",
        "\n",
        "`BeautifulSoup`'s parsed pages are structured based on the HTML tags that are encountered within the page. For example, above we requested the `title` tag from the page, and we got back the full tag, as well as all content within that tag. In order to only return the text inside the tag, we can use the following code:"
      ]
    },
    {
      "cell_type": "code",
      "execution_count": null,
      "id": "a5bcc419-f07c-4e69-ba50-116c06a51165",
      "metadata": {
        "id": "a5bcc419-f07c-4e69-ba50-116c06a51165"
      },
      "outputs": [],
      "source": [
        "parsed.title.text"
      ]
    },
    {
      "cell_type": "markdown",
      "id": "2f7ffe1b-84a8-4298-94a2-ef781b1c5004",
      "metadata": {
        "id": "2f7ffe1b-84a8-4298-94a2-ef781b1c5004"
      },
      "source": [
        "    '2020  | Brickset: LEGO set guide and database'\n",
        "\n",
        "\n",
        "\n",
        "For a tag with nothing else embedded inside, this is a great way to extract the text. However, many tags will contain one or more other tags, which add to the formatting of the page. The tag that we will be most interested in for now is the `article` tag, which is wrapped around each individual Lego set that is listed on the website. If we just look for the article tag like we did with the title, then we will only see the first article on the page:"
      ]
    },
    {
      "cell_type": "code",
      "execution_count": null,
      "id": "3b6b53df-69d8-460e-98d8-c02b8ea8cb0b",
      "metadata": {
        "id": "3b6b53df-69d8-460e-98d8-c02b8ea8cb0b"
      },
      "outputs": [],
      "source": [
        "parsed.article"
      ]
    },
    {
      "cell_type": "markdown",
      "id": "760d8d97-88fb-4bd5-8d2d-8a4a03409904",
      "metadata": {
        "id": "760d8d97-88fb-4bd5-8d2d-8a4a03409904"
      },
      "source": [
        "    <article class=\"set\">\n",
        "    <a class=\"highslide plain mainimg\" href=\"/assets/images/misc/blankbox.gif\" onclick=\"return hs.expand(this)\"><img onerror=\"this.src='/assets/images/spacer2.png'\" src=\"/assets/images/misc/blankbox.gif\" title=\"356-2: Basic Building Set with Storage Case\"/></a>\n",
        "    <div class=\"highslide-caption\">\n",
        "    <h1>Basic Building Set with Storage Case</h1><div class=\"tags floatleft\"><a href=\"/sets/356-2/Basic-Building-Set-with-Storage-Case\">356-2</a> <a href=\"/sets/theme-Basic\">Basic</a> <a class=\"year\" href=\"/sets/theme-Basic/year-2020\">2020</a> </div><div class=\"floatright\">©2020 LEGO Group</div>\n",
        "    <div class=\"pn\">\n",
        "    <a href=\"#\" onclick=\"return hs.previous(this)\" title=\"Previous (left arrow key)\">« Previous</a>\n",
        "    <a href=\"#\" onclick=\"return hs.next(this)\" title=\"Next (right arrow key)\">Next »</a>\n",
        "    </div>\n",
        "    </div>\n",
        "    <div class=\"meta\"><h1><a href=\"/sets/356-2/Basic-Building-Set-with-Storage-Case\"><span>356: </span> Basic Building Set with Storage Case</a></h1><div class=\"tags\"><a href=\"/sets/356-2/Basic-Building-Set-with-Storage-Case\">356-2</a> <a href=\"/sets/theme-Basic\">Basic</a> <a class=\"year\" href=\"/sets/theme-Basic/year-2020\">2020</a> </div><div class=\"tags\"><span id=\"tags30652\"></span></div><div class=\"col\"><dl><dt>Pieces</dt><dd>1987</dd><dt>Set type</dt><dd>Normal</dd></dl></div><div class=\"col\"><dl></dl><dl class=\"highlight\"></dl></div></div><div class=\"action\"><dl class=\"admin\"><dt class=\"hideingallery\">Our community</dt><dd class=\"hideingallery\"><a class=\"popuplink\" href=\"ownedBy?SetID=30652\">0 own this set</a>, 3 want it</dd></dl><dl class=\"admin\"><dt class=\"hideingallery\">Your collection</dt><dd><a href=\"/signup\">Sign up</a> for a free account to record your LEGO collection here at Brickset</dd></dl><dl class=\"buylinks\"><dt>Buy this set at</dt><dd><ul><li>\n",
        "    </li><li>\n",
        "    <a class=\"amazon\" href=\"https://www.amazon.com/s/?url=search-alias=aps&amp;field-keywords=LEGO%20356&amp;tag=brickset-20&amp;link_code=wql&amp;camp=212361&amp;creative=380601&amp;_encoding=UTF-8\">Amazon</a>\n",
        "    </li><li>\n",
        "    <a class=\"ebay\" href=\"https://rover.ebay.com/rover/1/711-53200-19255-0/1?icep_ff3=9&amp;pub=5574779132&amp;toolid=10001&amp;campid=5336183597&amp;customid=&amp;icep_uq=LEGO+356&amp;icep_sellerId=&amp;icep_ex_kw=&amp;icep_sortBy=12&amp;icep_catId=&amp;icep_minPrice=&amp;icep_maxPrice=&amp;ipn=psmain&amp;icep_vectorid=229466&amp;kwid=902099&amp;mtid=824&amp;kw=lg\">eBay</a>\n",
        "    </li><li>\n",
        "    <a class=\"bricklink\" href='http://alpha.bricklink.com/pages/clone/catalogitem.page?S=356-2#T=S&amp;O={\"ss\":\"US\"}'>BrickLink</a>\n",
        "    </li></ul></dd></dl></div></article>\n",
        "\n",
        "\n",
        "\n",
        "Wow! There sure is a lot of stuff for us to work through within that tag! It turns out that the article tag contains *everything* related to a particular set, so we will have to work through that information more carefully if we would like to be able to scrape information about each set.\n",
        "\n",
        "The first thing that we need to do, though, is collect ALL of the article tags (or all of the sets), so that we can scrape each one and collect the most useful information."
      ]
    },
    {
      "cell_type": "markdown",
      "id": "60bd49d8-f88b-4c7e-9a61-290f596ca3b7",
      "metadata": {
        "id": "60bd49d8-f88b-4c7e-9a61-290f596ca3b7"
      },
      "source": [
        "## Navigating scraped data\n",
        "\n",
        "Our processed website has some other tools besides being able to reference each tag. One of the most helpful is a method called `find_all`, which will allow us to look in a specific portion of the page (or across the whole page) for *all instances* of a specific tag. Before, we could only see the first instance of the article tag, but this will allow us to find all the articles on a page!\n",
        "\n",
        "In order to not end up with a massive text blob for output, let's store the results of our `find_all` method in a list."
      ]
    },
    {
      "cell_type": "code",
      "execution_count": null,
      "id": "8f0ad307-bc33-4d06-80aa-eb2d4a7ead46",
      "metadata": {
        "id": "8f0ad307-bc33-4d06-80aa-eb2d4a7ead46"
      },
      "outputs": [],
      "source": [
        "a = [i for i in parsed.find_all('article')]"
      ]
    },
    {
      "cell_type": "markdown",
      "id": "dcd5b3da-7d40-4c9c-8b3e-9f86b1837459",
      "metadata": {
        "id": "dcd5b3da-7d40-4c9c-8b3e-9f86b1837459"
      },
      "source": [
        "To store the article tags in a list, we use a simple list comprehension, so that each separate article tag is a new entry in the list called `a`. One of the really cool things about `BeautifulSoup` is that each object is treated just like the full parsed webpage: we can use tags as attributes to walk through each of our new objects in the list.\n",
        "\n",
        "Let's try finding a `ul` tag inside of the first article:"
      ]
    },
    {
      "cell_type": "code",
      "execution_count": null,
      "id": "c1be9b47-3a35-4ca7-8231-507239799c34",
      "metadata": {
        "id": "c1be9b47-3a35-4ca7-8231-507239799c34"
      },
      "outputs": [],
      "source": [
        "a[1].ul"
      ]
    },
    {
      "cell_type": "markdown",
      "id": "95190649-ebd6-4356-944b-f8dd29b356c3",
      "metadata": {
        "id": "95190649-ebd6-4356-944b-f8dd29b356c3"
      },
      "source": [
        "    <ul><li>\n",
        "    <a class=\"lego\" href=\"https://click.linksynergy.com/link?id=oSv/vWYkQIY&amp;offerid=115554.10270&amp;type=15&amp;murl=https%3A%2F%2Fwww.lego.com%2Fen-us%2Fproduct%2Fbookshop-10270\">LEGO</a></li><li>\n",
        "    <a class=\"amazon\" href=\"https://www.amazon.com/s/?url=search-alias=aps&amp;field-keywords=LEGO%2010270&amp;tag=brickset-20&amp;link_code=wql&amp;camp=212361&amp;creative=380601&amp;_encoding=UTF-8\">Amazon</a>\n",
        "    </li><li>\n",
        "    <a class=\"ebay\" href=\"https://rover.ebay.com/rover/1/711-53200-19255-0/1?icep_ff3=9&amp;pub=5574779132&amp;toolid=10001&amp;campid=5336183597&amp;customid=&amp;icep_uq=LEGO+10270&amp;icep_sellerId=&amp;icep_ex_kw=&amp;icep_sortBy=12&amp;icep_catId=&amp;icep_minPrice=&amp;icep_maxPrice=&amp;ipn=psmain&amp;icep_vectorid=229466&amp;kwid=902099&amp;mtid=824&amp;kw=lg\">eBay</a>\n",
        "    </li><li>\n",
        "    <a class=\"bricklink\" href='http://alpha.bricklink.com/pages/clone/catalogitem.page?S=10270-1#T=S&amp;O={\"ss\":\"US\"}'>BrickLink</a>\n",
        "    </li></ul>\n",
        "\n",
        "\n",
        "\n",
        "Awesome! We can walk through that list if we would like, as well!\n",
        "\n",
        "Next, let's see how many articles are stored on each page of search results:"
      ]
    },
    {
      "cell_type": "code",
      "execution_count": null,
      "id": "ebd35e1b-f340-4eba-adde-bd0026823695",
      "metadata": {
        "id": "ebd35e1b-f340-4eba-adde-bd0026823695"
      },
      "outputs": [],
      "source": [
        "parsed.find(\"ul\", class_=\"pagelength\").span.text"
      ]
    },
    {
      "cell_type": "markdown",
      "id": "909cbebb-9eb2-4587-b489-c8356eed9a31",
      "metadata": {
        "id": "909cbebb-9eb2-4587-b489-c8356eed9a31"
      },
      "source": [
        "    '25'\n",
        "\n",
        "\n",
        "\n",
        "It looks like each results page has 25 or fewer results. How did we know to look for a `ul` tag that had the class `pagelength`? We opened a page of results up, and we used the developer \"Inspect\" tool built into our browser to help us find the part of the page that tells us how many results will be shown on each page. As we prepare to scrape a page, we will spend a lot of time going back and forth between the website as we see it, and the code that we are designing to scrape that website.\n",
        "\n",
        "As we look through our list of articles, though, we will want to start extracting information that will help us learn about each Lego set. Let's try our hand at finding the name of the sets, and the price of the sets in Euros. Fortunately, the title of each set will be very easy to find. If we inspect the title of the first result (using the link that we started with at the top of the notebook), we can see that the name of the set is stored within the article tag using an `h1` tag. Let's request that from our list:"
      ]
    },
    {
      "cell_type": "code",
      "execution_count": null,
      "id": "e123ee9a-0388-41b0-a524-188cceaef5fc",
      "metadata": {
        "id": "e123ee9a-0388-41b0-a524-188cceaef5fc"
      },
      "outputs": [],
      "source": [
        "a[1].h1.text"
      ]
    },
    {
      "cell_type": "markdown",
      "id": "de741e0c-3277-441f-ab5e-659d983be46a",
      "metadata": {
        "id": "de741e0c-3277-441f-ab5e-659d983be46a"
      },
      "source": [
        "    'Basic Building Set with Storage Case'\n",
        "\n",
        "\n",
        "\n",
        "Perfect! We get back the text title for our first search result! We can also return the title of each set on the page:"
      ]
    },
    {
      "cell_type": "code",
      "execution_count": null,
      "id": "42540a00-e9e6-4bb2-b682-57c787d32575",
      "metadata": {
        "id": "42540a00-e9e6-4bb2-b682-57c787d32575"
      },
      "outputs": [],
      "source": [
        "[i.h1.text for i in a]"
      ]
    },
    {
      "cell_type": "markdown",
      "id": "4a62086d-a484-437c-936b-9cf68d059826",
      "metadata": {
        "id": "4a62086d-a484-437c-936b-9cf68d059826"
      },
      "source": [
        "    ['Basic Building Set with Storage Case',\n",
        "     'Bookshop',\n",
        "     'Fiat 500',\n",
        "     'Old Trafford - Manchester United',\n",
        "     'Haunted House',\n",
        "     '{?}',\n",
        "     '{?}',\n",
        "     '{?}',\n",
        "     'Crocodile Locomotive',\n",
        "     'Heart Box',\n",
        "     'Brick Box',\n",
        "     'Deluxe Brick Box',\n",
        "     'Alphabet Truck',\n",
        "     'Fire Truck',\n",
        "     'Tow Truck',\n",
        "     'Batcave',\n",
        "     \"Elsa and Olaf's Tea Party\",\n",
        "     'Super Heroes Lab',\n",
        "     \"Ariel's Undersea Castle\",\n",
        "     \"Lightning McQueen's Race Day\",\n",
        "     'Playroom',\n",
        "     'Bedroom',\n",
        "     'Pizza Stand',\n",
        "     'Bakery',\n",
        "     'Modular Playhouse']\n",
        "\n",
        "\n",
        "\n",
        "That was the easy part. Now that we have the set names, we need to find their prices. We will start by finding their prices on the website itself. We can see that the prices are listed in both dollars and Euros, and that they are always shown next to text that says \"RRP\". This stands for Recommended Retail Price, and is the number we want to collect.\n",
        "\n",
        "Our first step in extracting the price is to note that, because the price changes from set to set, we are going to have to find some other consistent marker from which we can reference the price. That marker is the text \"RRP\". We need to describe a way to always reach that text, no matter which set we are focused on. If we inspect the page, we will see that \"RRP\" is contained in a `dt` tag. There are several of these tags, each containing different information about the set, so we will need to make sure that we get the right one.\n",
        "\n",
        "Using the `.find` method, we can tell `BeautifulSoup` to look for a tag of specific kind (in this case, `dt`) with some attribute (in this case, text that is equal to \"RRP\")."
      ]
    },
    {
      "cell_type": "code",
      "execution_count": null,
      "id": "1c7e14b2-6a58-4d2f-8b94-5f3352cdbe1b",
      "metadata": {
        "id": "1c7e14b2-6a58-4d2f-8b94-5f3352cdbe1b"
      },
      "outputs": [],
      "source": [
        "a[1].find('dt', text=\"RRP\")"
      ]
    },
    {
      "cell_type": "markdown",
      "id": "2be57d74-eca0-482a-861b-cf80a246bdca",
      "metadata": {
        "id": "2be57d74-eca0-482a-861b-cf80a246bdca"
      },
      "source": [
        "    <dt>RRP</dt>\n",
        "\n",
        "\n",
        "\n",
        "Got it! This isn't so bad if we just move slowly. Next up, we need to make our way from the \"RRP\" tag to the tag containing the price. It turns out that `dt` tags are part of a table, and each one will correspond to a `dd` tag. These tags within a table are considered **siblings**, meaning that they exist embedded within the same tag as one another.\n",
        "\n",
        "Since the `dd` tag containing the price ALWAYS immediately follows the `dt` containing \"RRP\", we can use the `.find_next_sibling()` method to move from the `dt` tag to the `dd` tag! The price is contained as the text of the `dd` tag, so let's go ahead and grab that text, now."
      ]
    },
    {
      "cell_type": "code",
      "execution_count": null,
      "id": "ad6f4d82-80d6-4877-b60f-b6c18f6d9567",
      "metadata": {
        "id": "ad6f4d82-80d6-4877-b60f-b6c18f6d9567"
      },
      "outputs": [],
      "source": [
        "a[1].find('dt', text=\"RRP\").find_next_sibling().text"
      ]
    },
    {
      "cell_type": "markdown",
      "id": "f7ac186f-4d39-4970-b36f-d7ccd25e5abb",
      "metadata": {
        "id": "f7ac186f-4d39-4970-b36f-d7ccd25e5abb"
      },
      "source": [
        "    '$179.99, 155.96€ | More'\n",
        "\n",
        "\n",
        "\n",
        "Almost there.... Unfortunately, the text contains more stuff than just the price in Euros. It turns out that the website just has a blob of text that contains prices, possibly in dollars, possibly in Euros, and possibly both, with some extra text at the end. Since price isn't a consistent number of digits, we need a way to recognize patterns in text and extract only the part that we want.\n",
        "\n",
        "Regular expression comes to the rescue!"
      ]
    },
    {
      "cell_type": "code",
      "execution_count": null,
      "id": "c55a8d66-8a28-469f-bb2e-f6853da70b75",
      "metadata": {
        "id": "c55a8d66-8a28-469f-bb2e-f6853da70b75"
      },
      "outputs": [],
      "source": [
        "import re\n",
        "\n",
        "re.search(r'(\\d+.\\d+)(\\u20AC)', a[1].find('dt', text=\"RRP\").find_next_sibling().text, re.UNICODE).groups()[0]"
      ]
    },
    {
      "cell_type": "markdown",
      "id": "59c4ec57-9ec9-4911-a87c-e2b14713db1c",
      "metadata": {
        "id": "59c4ec57-9ec9-4911-a87c-e2b14713db1c"
      },
      "source": [
        "    '155.96'\n",
        "\n",
        "\n",
        "\n",
        "`r'(\\d+.\\d+)(\\u20AC)'` is a regular expression that looks for one or more numbers before a period, a period, and one or more numbers after the period followed by the Euro symbol (`\\u20AC` is the code that represents the Euro symbol). We simply provide the string to the `re.search` function, along with our regular expression and an extra argument (`re.UNICODE`) that allows us to find less common characters like the Euro symbol.\n",
        "\n",
        "When we get back the results from this search, we only need the first group (or value in parentheses), which omits the Euro symbol. This will return only the number value representing the price of the set. It's a string, but we can easily convert it to a number using the `float()` function.\n",
        "\n",
        "Now that we know how to find each of the two values that we care about, it is time to start formalizing our code with a `for` loop to grab the same pieces of information from each set. We can use our loop to walk through each `article` tag and extract the relevant information."
      ]
    },
    {
      "cell_type": "code",
      "execution_count": null,
      "id": "e9585352-4ce1-403e-ae60-b410e159d515",
      "metadata": {
        "id": "e9585352-4ce1-403e-ae60-b410e159d515"
      },
      "outputs": [],
      "source": [
        "data = []\n",
        "\n",
        "for i in a:\n",
        "    row = []\n",
        "    row.append(i.h1.text)\n",
        "    try:\n",
        "        row.append(re.search(r'(\\d+.\\d+)(\\u20AC)', i.find('dt', text=\"RRP\").find_next_sibling().text, re.UNICODE).groups()[0])\n",
        "    except:\n",
        "        row.append('')\n",
        "    data.append(row)"
      ]
    },
    {
      "cell_type": "markdown",
      "id": "7d87c070-c6eb-4426-905e-c489eee8c288",
      "metadata": {
        "id": "7d87c070-c6eb-4426-905e-c489eee8c288"
      },
      "source": [
        "We created an empty list called `data`, and our `for` loop was used to add rows to that list. Each row consists of a list of two items: set name and set price. Once we have created the list representing that row, we simply append it to the `data` list and move on to the next set.\n",
        "\n",
        "The next step (below) is to create a Data Frame based on our list called `data`, and to name our columns. This provides easy structure and functionality to our data:"
      ]
    },
    {
      "cell_type": "code",
      "execution_count": null,
      "id": "01f83bec-219f-448f-b6aa-b9bbcbee592e",
      "metadata": {
        "id": "01f83bec-219f-448f-b6aa-b9bbcbee592e"
      },
      "outputs": [],
      "source": [
        "import pandas as pd\n",
        "\n",
        "data = pd.DataFrame(data, columns = ['Set', 'Price_Euro'])\n",
        "\n",
        "data"
      ]
    },
    {
      "cell_type": "markdown",
      "id": "c7dcc2f3-5e20-44de-ba41-56d1da8b4377",
      "metadata": {
        "id": "c7dcc2f3-5e20-44de-ba41-56d1da8b4377"
      },
      "source": [
        "<div>\n",
        "<style scoped>\n",
        "    .dataframe tbody tr th:only-of-type {\n",
        "        vertical-align: middle;\n",
        "    }\n",
        "\n",
        "    .dataframe tbody tr th {\n",
        "        vertical-align: top;\n",
        "    }\n",
        "\n",
        "    .dataframe thead th {\n",
        "        text-align: right;\n",
        "    }\n",
        "</style>\n",
        "<table border=\"1\" class=\"dataframe\">\n",
        "  <thead>\n",
        "    <tr style=\"text-align: right;\">\n",
        "      <th></th>\n",
        "      <th>Set</th>\n",
        "      <th>Price_Euro</th>\n",
        "    </tr>\n",
        "  </thead>\n",
        "  <tbody>\n",
        "    <tr>\n",
        "      <th>0</th>\n",
        "      <td>Basic Building Set with Storage Case</td>\n",
        "      <td></td>\n",
        "    </tr>\n",
        "    <tr>\n",
        "      <th>1</th>\n",
        "      <td>Bookshop</td>\n",
        "      <td>155.96</td>\n",
        "    </tr>\n",
        "    <tr>\n",
        "      <th>2</th>\n",
        "      <td>Fiat 500</td>\n",
        "      <td>77.97</td>\n",
        "    </tr>\n",
        "    <tr>\n",
        "      <th>3</th>\n",
        "      <td>Old Trafford - Manchester United</td>\n",
        "      <td>263.18</td>\n",
        "    </tr>\n",
        "    <tr>\n",
        "      <th>4</th>\n",
        "      <td>Haunted House</td>\n",
        "      <td>224.19</td>\n",
        "    </tr>\n",
        "    <tr>\n",
        "      <th>5</th>\n",
        "      <td>{?}</td>\n",
        "      <td></td>\n",
        "    </tr>\n",
        "    <tr>\n",
        "      <th>6</th>\n",
        "      <td>{?}</td>\n",
        "      <td></td>\n",
        "    </tr>\n",
        "    <tr>\n",
        "      <th>7</th>\n",
        "      <td>{?}</td>\n",
        "      <td></td>\n",
        "    </tr>\n",
        "    <tr>\n",
        "      <th>8</th>\n",
        "      <td>Crocodile Locomotive</td>\n",
        "      <td>97.47</td>\n",
        "    </tr>\n",
        "    <tr>\n",
        "      <th>9</th>\n",
        "      <td>Heart Box</td>\n",
        "      <td>19.49</td>\n",
        "    </tr>\n",
        "    <tr>\n",
        "      <th>10</th>\n",
        "      <td>Brick Box</td>\n",
        "      <td>29.23</td>\n",
        "    </tr>\n",
        "    <tr>\n",
        "      <th>11</th>\n",
        "      <td>Deluxe Brick Box</td>\n",
        "      <td>48.73</td>\n",
        "    </tr>\n",
        "    <tr>\n",
        "      <th>12</th>\n",
        "      <td>Alphabet Truck</td>\n",
        "      <td>29.23</td>\n",
        "    </tr>\n",
        "    <tr>\n",
        "      <th>13</th>\n",
        "      <td>Fire Truck</td>\n",
        "      <td>4.86</td>\n",
        "    </tr>\n",
        "    <tr>\n",
        "      <th>14</th>\n",
        "      <td>Tow Truck</td>\n",
        "      <td>4.86</td>\n",
        "    </tr>\n",
        "    <tr>\n",
        "      <th>15</th>\n",
        "      <td>Batcave</td>\n",
        "      <td>34.11</td>\n",
        "    </tr>\n",
        "    <tr>\n",
        "      <th>16</th>\n",
        "      <td>Elsa and Olaf's Tea Party</td>\n",
        "      <td>19.49</td>\n",
        "    </tr>\n",
        "    <tr>\n",
        "      <th>17</th>\n",
        "      <td>Super Heroes Lab</td>\n",
        "      <td>29.23</td>\n",
        "    </tr>\n",
        "    <tr>\n",
        "      <th>18</th>\n",
        "      <td>Ariel's Undersea Castle</td>\n",
        "      <td>29.23</td>\n",
        "    </tr>\n",
        "    <tr>\n",
        "      <th>19</th>\n",
        "      <td>Lightning McQueen's Race Day</td>\n",
        "      <td>29.23</td>\n",
        "    </tr>\n",
        "    <tr>\n",
        "      <th>20</th>\n",
        "      <td>Playroom</td>\n",
        "      <td>14.61</td>\n",
        "    </tr>\n",
        "    <tr>\n",
        "      <th>21</th>\n",
        "      <td>Bedroom</td>\n",
        "      <td>14.61</td>\n",
        "    </tr>\n",
        "    <tr>\n",
        "      <th>22</th>\n",
        "      <td>Pizza Stand</td>\n",
        "      <td>9.74</td>\n",
        "    </tr>\n",
        "    <tr>\n",
        "      <th>23</th>\n",
        "      <td>Bakery</td>\n",
        "      <td>38.98</td>\n",
        "    </tr>\n",
        "    <tr>\n",
        "      <th>24</th>\n",
        "      <td>Modular Playhouse</td>\n",
        "      <td>58.48</td>\n",
        "    </tr>\n",
        "  </tbody>\n",
        "</table>\n",
        "</div>"
      ]
    },
    {
      "cell_type": "markdown",
      "id": "514c268d-046b-4c6b-ae51-61f161c88313",
      "metadata": {
        "id": "514c268d-046b-4c6b-ae51-61f161c88313"
      },
      "source": [
        "## Scraping many pages\n",
        "\n",
        "Now that we have established a pattern of code that is able to collect the information we desire, it is time to make sure that we can collect the same information from each page of search results. It is typically insufficient to collect only one page of search results, so we want to be able to follow the links in our search from page to page in order to continue collecting data.\n",
        "\n",
        "On the page, we can inspect the button that navigates from one page to the next. We find that the element is an `li` or list item tag, with a class of `next`. Using the `find` method, we can can then extract the `href` parameter from the `a` tag representing the link that takes us to the next page:"
      ]
    },
    {
      "cell_type": "code",
      "execution_count": null,
      "id": "e5ec1bf8-6d26-417d-8e07-36888e27c587",
      "metadata": {
        "id": "e5ec1bf8-6d26-417d-8e07-36888e27c587"
      },
      "outputs": [],
      "source": [
        "nextPage = parsed.find('li', class_=\"next\").a['href']\n",
        "\n",
        "nextPage"
      ]
    },
    {
      "cell_type": "markdown",
      "id": "ba505062-ac81-46c9-8b43-3019f26ef246",
      "metadata": {
        "id": "ba505062-ac81-46c9-8b43-3019f26ef246"
      },
      "source": [
        "    'https://brickset.com/sets/year-2020/page-2'\n",
        "\n",
        "\n",
        "\n",
        "This link certainly looks like it will take us to the next page of results! Now, we can consolidate the code that we used above into a single code block, so that we can recycle our code to collect data from another page of search results. Below is the code that we have collected so far, applied to the second page of results."
      ]
    },
    {
      "cell_type": "code",
      "execution_count": null,
      "id": "75b792aa-4329-4be7-855f-031538780d2e",
      "metadata": {
        "id": "75b792aa-4329-4be7-855f-031538780d2e"
      },
      "outputs": [],
      "source": [
        "myPage = requests.get(nextPage)\n",
        "\n",
        "parsed = BeautifulSoup(myPage.text)\n",
        "a = [i for i in parsed.find_all('article')]\n",
        "\n",
        "newData = []\n",
        "\n",
        "for i in a:\n",
        "    row = []\n",
        "    row.append(i.h1.text)\n",
        "    try:\n",
        "        row.append(re.search(r'(\\d+.\\d+)(\\u20AC)', i.find('dt', text=\"RRP\").find_next_sibling().text, re.UNICODE).groups()[0])\n",
        "    except:\n",
        "        row.append('')\n",
        "    newData.append(row)\n",
        "\n",
        "newData = pd.DataFrame(newData, columns = ['Set', 'Price_Euro'])\n",
        "\n",
        "newData"
      ]
    },
    {
      "cell_type": "markdown",
      "id": "fe614d84-465f-457a-9812-cb4fa461001f",
      "metadata": {
        "id": "fe614d84-465f-457a-9812-cb4fa461001f"
      },
      "source": [
        "<div>\n",
        "<style scoped>\n",
        "    .dataframe tbody tr th:only-of-type {\n",
        "        vertical-align: middle;\n",
        "    }\n",
        "\n",
        "    .dataframe tbody tr th {\n",
        "        vertical-align: top;\n",
        "    }\n",
        "\n",
        "    .dataframe thead th {\n",
        "        text-align: right;\n",
        "    }\n",
        "</style>\n",
        "<table border=\"1\" class=\"dataframe\">\n",
        "  <thead>\n",
        "    <tr style=\"text-align: right;\">\n",
        "      <th></th>\n",
        "      <th>Set</th>\n",
        "      <th>Price_Euro</th>\n",
        "    </tr>\n",
        "  </thead>\n",
        "  <tbody>\n",
        "    <tr>\n",
        "      <th>0</th>\n",
        "      <td>Bulldozer</td>\n",
        "      <td>9.74</td>\n",
        "    </tr>\n",
        "    <tr>\n",
        "      <th>1</th>\n",
        "      <td>Truck &amp; Tracked Excavator</td>\n",
        "      <td>19.49</td>\n",
        "    </tr>\n",
        "    <tr>\n",
        "      <th>2</th>\n",
        "      <td>Wrecking Ball Demolition</td>\n",
        "      <td>58.48</td>\n",
        "    </tr>\n",
        "    <tr>\n",
        "      <th>3</th>\n",
        "      <td>Tower Crane &amp; Construction</td>\n",
        "      <td>116.97</td>\n",
        "    </tr>\n",
        "    <tr>\n",
        "      <th>4</th>\n",
        "      <td>Creative Animals</td>\n",
        "      <td>58.48</td>\n",
        "    </tr>\n",
        "    <tr>\n",
        "      <th>5</th>\n",
        "      <td>Creative Blue Bricks</td>\n",
        "      <td>4.86</td>\n",
        "    </tr>\n",
        "    <tr>\n",
        "      <th>6</th>\n",
        "      <td>Creative Green Bricks</td>\n",
        "      <td>4.86</td>\n",
        "    </tr>\n",
        "    <tr>\n",
        "      <th>7</th>\n",
        "      <td>Bricks and Houses</td>\n",
        "      <td>19.49</td>\n",
        "    </tr>\n",
        "    <tr>\n",
        "      <th>8</th>\n",
        "      <td>Bricks and Lights</td>\n",
        "      <td>29.23</td>\n",
        "    </tr>\n",
        "    <tr>\n",
        "      <th>9</th>\n",
        "      <td>White Baseplate</td>\n",
        "      <td>7.79</td>\n",
        "    </tr>\n",
        "    <tr>\n",
        "      <th>10</th>\n",
        "      <td>Bricks and Animals</td>\n",
        "      <td>58.48</td>\n",
        "    </tr>\n",
        "    <tr>\n",
        "      <th>11</th>\n",
        "      <td>Bricks Bricks Plates</td>\n",
        "      <td>68.23</td>\n",
        "    </tr>\n",
        "    <tr>\n",
        "      <th>12</th>\n",
        "      <td>Robot</td>\n",
        "      <td></td>\n",
        "    </tr>\n",
        "    <tr>\n",
        "      <th>13</th>\n",
        "      <td>Tokyo</td>\n",
        "      <td>58.48</td>\n",
        "    </tr>\n",
        "    <tr>\n",
        "      <th>14</th>\n",
        "      <td>Dubai</td>\n",
        "      <td>58.48</td>\n",
        "    </tr>\n",
        "    <tr>\n",
        "      <th>15</th>\n",
        "      <td>The White House</td>\n",
        "      <td>97.47</td>\n",
        "    </tr>\n",
        "    <tr>\n",
        "      <th>16</th>\n",
        "      <td>BigFig Creeper and Ocelot</td>\n",
        "      <td>14.61</td>\n",
        "    </tr>\n",
        "    <tr>\n",
        "      <th>17</th>\n",
        "      <td>BigFig Pig with Baby Zombie</td>\n",
        "      <td>14.61</td>\n",
        "    </tr>\n",
        "    <tr>\n",
        "      <th>18</th>\n",
        "      <td>The Panda Nursery</td>\n",
        "      <td>19.49</td>\n",
        "    </tr>\n",
        "    <tr>\n",
        "      <th>19</th>\n",
        "      <td>The Pillager Outpost</td>\n",
        "      <td>29.23</td>\n",
        "    </tr>\n",
        "    <tr>\n",
        "      <th>20</th>\n",
        "      <td>The Illager Raid</td>\n",
        "      <td>68.23</td>\n",
        "    </tr>\n",
        "    <tr>\n",
        "      <th>21</th>\n",
        "      <td>The Crafting Box 3.0</td>\n",
        "      <td>77.97</td>\n",
        "    </tr>\n",
        "    <tr>\n",
        "      <th>22</th>\n",
        "      <td>The Taiga Adventure</td>\n",
        "      <td>9.74</td>\n",
        "    </tr>\n",
        "    <tr>\n",
        "      <th>23</th>\n",
        "      <td>The Redstone Battle</td>\n",
        "      <td>53.60</td>\n",
        "    </tr>\n",
        "    <tr>\n",
        "      <th>24</th>\n",
        "      <td>International Space Station</td>\n",
        "      <td>68.23</td>\n",
        "    </tr>\n",
        "  </tbody>\n",
        "</table>\n",
        "</div>"
      ]
    },
    {
      "cell_type": "markdown",
      "id": "9861b9d4-9de6-47a2-8c13-a02c8b2ce0c4",
      "metadata": {
        "id": "9861b9d4-9de6-47a2-8c13-a02c8b2ce0c4"
      },
      "source": [
        "Additionally, we can concatenate our Data Frames so that we have a single Data Frame containing all of the results from our scrape. After we concatenate our data, it is good practice to reset the index using the `.reset_index()` method. This will overwrite the index of the Data Frame so that it does not have any repeat values. Be sure to include the argument `drop=True`, so that the old index isn't added back into your Data Frame."
      ]
    },
    {
      "cell_type": "code",
      "execution_count": null,
      "id": "550fcfbd-0c9a-4895-9fb9-f1e31c926299",
      "metadata": {
        "id": "550fcfbd-0c9a-4895-9fb9-f1e31c926299"
      },
      "outputs": [],
      "source": [
        "data = pd.concat([data, newData], axis=0).reset_index(drop=True)\n",
        "\n",
        "data"
      ]
    },
    {
      "cell_type": "markdown",
      "id": "4db0cf92-3300-4f92-9a63-047e295597cc",
      "metadata": {
        "id": "4db0cf92-3300-4f92-9a63-047e295597cc"
      },
      "source": [
        "<div>\n",
        "<style scoped>\n",
        "    .dataframe tbody tr th:only-of-type {\n",
        "        vertical-align: middle;\n",
        "    }\n",
        "\n",
        "    .dataframe tbody tr th {\n",
        "        vertical-align: top;\n",
        "    }\n",
        "\n",
        "    .dataframe thead th {\n",
        "        text-align: right;\n",
        "    }\n",
        "</style>\n",
        "<table border=\"1\" class=\"dataframe\">\n",
        "  <thead>\n",
        "    <tr style=\"text-align: right;\">\n",
        "      <th></th>\n",
        "      <th>Set</th>\n",
        "      <th>Price_Euro</th>\n",
        "    </tr>\n",
        "  </thead>\n",
        "  <tbody>\n",
        "    <tr>\n",
        "      <th>0</th>\n",
        "      <td>Basic Building Set with Storage Case</td>\n",
        "      <td></td>\n",
        "    </tr>\n",
        "    <tr>\n",
        "      <th>1</th>\n",
        "      <td>Bookshop</td>\n",
        "      <td>155.96</td>\n",
        "    </tr>\n",
        "    <tr>\n",
        "      <th>2</th>\n",
        "      <td>Fiat 500</td>\n",
        "      <td>77.97</td>\n",
        "    </tr>\n",
        "    <tr>\n",
        "      <th>3</th>\n",
        "      <td>Old Trafford - Manchester United</td>\n",
        "      <td>263.18</td>\n",
        "    </tr>\n",
        "    <tr>\n",
        "      <th>4</th>\n",
        "      <td>Haunted House</td>\n",
        "      <td>224.19</td>\n",
        "    </tr>\n",
        "    <tr>\n",
        "      <th>5</th>\n",
        "      <td>{?}</td>\n",
        "      <td></td>\n",
        "    </tr>\n",
        "    <tr>\n",
        "      <th>6</th>\n",
        "      <td>{?}</td>\n",
        "      <td></td>\n",
        "    </tr>\n",
        "    <tr>\n",
        "      <th>7</th>\n",
        "      <td>{?}</td>\n",
        "      <td></td>\n",
        "    </tr>\n",
        "    <tr>\n",
        "      <th>8</th>\n",
        "      <td>Crocodile Locomotive</td>\n",
        "      <td>97.47</td>\n",
        "    </tr>\n",
        "    <tr>\n",
        "      <th>9</th>\n",
        "      <td>Heart Box</td>\n",
        "      <td>19.49</td>\n",
        "    </tr>\n",
        "    <tr>\n",
        "      <th>10</th>\n",
        "      <td>Brick Box</td>\n",
        "      <td>29.23</td>\n",
        "    </tr>\n",
        "    <tr>\n",
        "      <th>11</th>\n",
        "      <td>Deluxe Brick Box</td>\n",
        "      <td>48.73</td>\n",
        "    </tr>\n",
        "    <tr>\n",
        "      <th>12</th>\n",
        "      <td>Alphabet Truck</td>\n",
        "      <td>29.23</td>\n",
        "    </tr>\n",
        "    <tr>\n",
        "      <th>13</th>\n",
        "      <td>Fire Truck</td>\n",
        "      <td>4.86</td>\n",
        "    </tr>\n",
        "    <tr>\n",
        "      <th>14</th>\n",
        "      <td>Tow Truck</td>\n",
        "      <td>4.86</td>\n",
        "    </tr>\n",
        "    <tr>\n",
        "      <th>15</th>\n",
        "      <td>Batcave</td>\n",
        "      <td>34.11</td>\n",
        "    </tr>\n",
        "    <tr>\n",
        "      <th>16</th>\n",
        "      <td>Elsa and Olaf's Tea Party</td>\n",
        "      <td>19.49</td>\n",
        "    </tr>\n",
        "    <tr>\n",
        "      <th>17</th>\n",
        "      <td>Super Heroes Lab</td>\n",
        "      <td>29.23</td>\n",
        "    </tr>\n",
        "    <tr>\n",
        "      <th>18</th>\n",
        "      <td>Ariel's Undersea Castle</td>\n",
        "      <td>29.23</td>\n",
        "    </tr>\n",
        "    <tr>\n",
        "      <th>19</th>\n",
        "      <td>Lightning McQueen's Race Day</td>\n",
        "      <td>29.23</td>\n",
        "    </tr>\n",
        "    <tr>\n",
        "      <th>20</th>\n",
        "      <td>Playroom</td>\n",
        "      <td>14.61</td>\n",
        "    </tr>\n",
        "    <tr>\n",
        "      <th>21</th>\n",
        "      <td>Bedroom</td>\n",
        "      <td>14.61</td>\n",
        "    </tr>\n",
        "    <tr>\n",
        "      <th>22</th>\n",
        "      <td>Pizza Stand</td>\n",
        "      <td>9.74</td>\n",
        "    </tr>\n",
        "    <tr>\n",
        "      <th>23</th>\n",
        "      <td>Bakery</td>\n",
        "      <td>38.98</td>\n",
        "    </tr>\n",
        "    <tr>\n",
        "      <th>24</th>\n",
        "      <td>Modular Playhouse</td>\n",
        "      <td>58.48</td>\n",
        "    </tr>\n",
        "    <tr>\n",
        "      <th>25</th>\n",
        "      <td>Bulldozer</td>\n",
        "      <td>9.74</td>\n",
        "    </tr>\n",
        "    <tr>\n",
        "      <th>26</th>\n",
        "      <td>Truck &amp; Tracked Excavator</td>\n",
        "      <td>19.49</td>\n",
        "    </tr>\n",
        "    <tr>\n",
        "      <th>27</th>\n",
        "      <td>Wrecking Ball Demolition</td>\n",
        "      <td>58.48</td>\n",
        "    </tr>\n",
        "    <tr>\n",
        "      <th>28</th>\n",
        "      <td>Tower Crane &amp; Construction</td>\n",
        "      <td>116.97</td>\n",
        "    </tr>\n",
        "    <tr>\n",
        "      <th>29</th>\n",
        "      <td>Creative Animals</td>\n",
        "      <td>58.48</td>\n",
        "    </tr>\n",
        "    <tr>\n",
        "      <th>30</th>\n",
        "      <td>Creative Blue Bricks</td>\n",
        "      <td>4.86</td>\n",
        "    </tr>\n",
        "    <tr>\n",
        "      <th>31</th>\n",
        "      <td>Creative Green Bricks</td>\n",
        "      <td>4.86</td>\n",
        "    </tr>\n",
        "    <tr>\n",
        "      <th>32</th>\n",
        "      <td>Bricks and Houses</td>\n",
        "      <td>19.49</td>\n",
        "    </tr>\n",
        "    <tr>\n",
        "      <th>33</th>\n",
        "      <td>Bricks and Lights</td>\n",
        "      <td>29.23</td>\n",
        "    </tr>\n",
        "    <tr>\n",
        "      <th>34</th>\n",
        "      <td>White Baseplate</td>\n",
        "      <td>7.79</td>\n",
        "    </tr>\n",
        "    <tr>\n",
        "      <th>35</th>\n",
        "      <td>Bricks and Animals</td>\n",
        "      <td>58.48</td>\n",
        "    </tr>\n",
        "    <tr>\n",
        "      <th>36</th>\n",
        "      <td>Bricks Bricks Plates</td>\n",
        "      <td>68.23</td>\n",
        "    </tr>\n",
        "    <tr>\n",
        "      <th>37</th>\n",
        "      <td>Robot</td>\n",
        "      <td></td>\n",
        "    </tr>\n",
        "    <tr>\n",
        "      <th>38</th>\n",
        "      <td>Tokyo</td>\n",
        "      <td>58.48</td>\n",
        "    </tr>\n",
        "    <tr>\n",
        "      <th>39</th>\n",
        "      <td>Dubai</td>\n",
        "      <td>58.48</td>\n",
        "    </tr>\n",
        "    <tr>\n",
        "      <th>40</th>\n",
        "      <td>The White House</td>\n",
        "      <td>97.47</td>\n",
        "    </tr>\n",
        "    <tr>\n",
        "      <th>41</th>\n",
        "      <td>BigFig Creeper and Ocelot</td>\n",
        "      <td>14.61</td>\n",
        "    </tr>\n",
        "    <tr>\n",
        "      <th>42</th>\n",
        "      <td>BigFig Pig with Baby Zombie</td>\n",
        "      <td>14.61</td>\n",
        "    </tr>\n",
        "    <tr>\n",
        "      <th>43</th>\n",
        "      <td>The Panda Nursery</td>\n",
        "      <td>19.49</td>\n",
        "    </tr>\n",
        "    <tr>\n",
        "      <th>44</th>\n",
        "      <td>The Pillager Outpost</td>\n",
        "      <td>29.23</td>\n",
        "    </tr>\n",
        "    <tr>\n",
        "      <th>45</th>\n",
        "      <td>The Illager Raid</td>\n",
        "      <td>68.23</td>\n",
        "    </tr>\n",
        "    <tr>\n",
        "      <th>46</th>\n",
        "      <td>The Crafting Box 3.0</td>\n",
        "      <td>77.97</td>\n",
        "    </tr>\n",
        "    <tr>\n",
        "      <th>47</th>\n",
        "      <td>The Taiga Adventure</td>\n",
        "      <td>9.74</td>\n",
        "    </tr>\n",
        "    <tr>\n",
        "      <th>48</th>\n",
        "      <td>The Redstone Battle</td>\n",
        "      <td>53.60</td>\n",
        "    </tr>\n",
        "    <tr>\n",
        "      <th>49</th>\n",
        "      <td>International Space Station</td>\n",
        "      <td>68.23</td>\n",
        "    </tr>\n",
        "  </tbody>\n",
        "</table>\n",
        "</div>"
      ]
    },
    {
      "cell_type": "markdown",
      "id": "0da6c7ae-8cf0-4413-b6ef-c9ebc3d8fe63",
      "metadata": {
        "tags": [],
        "id": "0da6c7ae-8cf0-4413-b6ef-c9ebc3d8fe63"
      },
      "source": [
        "## Moving from script to function\n",
        "\n",
        "We talked about functions earlier in the term as an excellent way to make our code more reusable, and to eliminate the need to copy and paste code with the risk of creating more typos and places for code to be updated. Now that we know how to scrape useful information from a website, let's create a function to do the work for us, so that we don't have to copy and paste the code for each subsequent page of search results.\n",
        "\n",
        "In order to make our code into a function, we will have to create a function that takes a starting URL (the URL for our search results), and returns a Data Frame after reading through each page of the search results. We will have to perform some abstraction to make our code work on each page, but the differences are pretty minor:\n",
        "\n",
        "- Use `requests.get()` on the URL passed to the function\n",
        "- Check whether or not a \"next\" page exists\n",
        "    - If there IS a next page, we need to call the function on *that* page, then merge the results\n",
        "    - If there is NOT a next page, we return the existing data as a Data Frame.\n",
        "    \n",
        "Take some time to examine the code below and how each of these changes is made:"
      ]
    },
    {
      "cell_type": "code",
      "execution_count": null,
      "id": "a969cf5e-18c2-46ef-a7ba-39db111b4a1a",
      "metadata": {
        "id": "a969cf5e-18c2-46ef-a7ba-39db111b4a1a"
      },
      "outputs": [],
      "source": [
        "import requests\n",
        "from bs4 import BeautifulSoup\n",
        "import numpy as np\n",
        "import pandas as pd\n",
        "import re\n",
        "import time\n",
        "\n",
        "# A function to collect lego sets from search results on brickset.com\n",
        "def collectLegoSets(startURL):\n",
        "    # Add headers to imitate a real browser\n",
        "    headers = {\n",
        "        'User-Agent': 'Mozilla/5.0 (Windows NT 10.0; Win64; x64) AppleWebKit/537.36 (KHTML, like Gecko) Chrome/102.0.0.0 Safari/537.36',\n",
        "        'Accept': 'text/html,application/xhtml+xml,application/xml;q=0.9,image/webp,*/*;q=0.8',\n",
        "        'Referer': 'https://www.google.com/'\n",
        "    }\n",
        "    # Retrieve starting URL\n",
        "    myPage = requests.get(startURL)\n",
        "\n",
        "    # Parse the website with Beautiful Soup\n",
        "    parsed = BeautifulSoup(myPage.text)\n",
        "\n",
        "    # Grab all sets from the page\n",
        "    a = [i for i in parsed.find_all('article')]\n",
        "\n",
        "    # Create and empty data set\n",
        "    newData = []\n",
        "\n",
        "    # Iterate over all sets on the page\n",
        "    for i in a:\n",
        "        row = []\n",
        "        # Add the set name to the row of data\n",
        "        row.append(i.h1.text)\n",
        "        try:\n",
        "            # Extract price and translate to a floating point number from string, append to row IF PRICE EXISTS\n",
        "            row.append(float(re.search(r'(\\d+.\\d+)(\\u20AC)', i.find('dt', text=\"RRP\").find_next_sibling().text, re.UNICODE).groups()[0]))\n",
        "        except:\n",
        "            # Missing value for sets with no price, append to row IF NO PRICE EXISTS\n",
        "            row.append(np.nan)\n",
        "\n",
        "        # Add the row of data to the dataset\n",
        "        newData.append(row)\n",
        "\n",
        "    newData = pd.DataFrame(newData, columns = ['Set', 'Price_Euro'])\n",
        "\n",
        "    # Check if there are more results on the \"next\" page\n",
        "    try:\n",
        "        nextPage = parsed.find('li', class_=\"next\").a['href']\n",
        "    except:\n",
        "        nextPage = None\n",
        "\n",
        "    # If there is another page of results, grab it and combine\n",
        "    if nextPage:\n",
        "        # Tell our program not to load new pages too fast by \"sleeping\" for two seconds before\n",
        "        #   going to the next page\n",
        "        time.sleep(2)\n",
        "        # Merge current data with next page\n",
        "        return pd.concat([newData, collectLegoSets(nextPage)], axis=0)\n",
        "    # Otherwise return the current data\n",
        "    else:\n",
        "        return newData"
      ]
    },
    {
      "cell_type": "markdown",
      "id": "191925db-86dd-49e5-b40e-dd869aee4453",
      "metadata": {
        "id": "191925db-86dd-49e5-b40e-dd869aee4453"
      },
      "source": [
        "*Note: We sometimes need to use **headers** (text telling the website what kind of browser we are \"using\") so that we are able to access the website we want to scrape. Mileage will vary by website*\n",
        "(Shoutout to Kiran Best of Aalto University for finding the right header to keep this site working as an example)\n",
        "\n",
        "Observe that we use several `try`-`except` blocks. These code blocks permit us to write code that *might* result in an error. This is the code that is indented beneath the `try` keyword. Then, we write code that should be executed whenever an error *does* occur under the `except` keyword. In this way, we prevent errors from breaking our function, and we can better control the data that is recorded in our Data Frame. Let's run the code now:"
      ]
    },
    {
      "cell_type": "markdown",
      "id": "fe479a47-53e0-41d9-a96b-218d854c9548",
      "metadata": {
        "id": "fe479a47-53e0-41d9-a96b-218d854c9548"
      },
      "source": [
        "lego2020 = collectLegoSets(\"https://brickset.com/sets/year-2020\")\n",
        "\n",
        "lego2020"
      ]
    },
    {
      "cell_type": "markdown",
      "id": "e05f7c32-4321-4d11-8728-e5ab27033056",
      "metadata": {
        "id": "e05f7c32-4321-4d11-8728-e5ab27033056"
      },
      "source": [
        "<div>\n",
        "<style scoped>\n",
        "    .dataframe tbody tr th:only-of-type {\n",
        "        vertical-align: middle;\n",
        "    }\n",
        "\n",
        "    .dataframe tbody tr th {\n",
        "        vertical-align: top;\n",
        "    }\n",
        "\n",
        "    .dataframe thead th {\n",
        "        text-align: right;\n",
        "    }\n",
        "</style>\n",
        "<table border=\"1\" class=\"dataframe\">\n",
        "  <thead>\n",
        "    <tr style=\"text-align: right;\">\n",
        "      <th></th>\n",
        "      <th>Set</th>\n",
        "      <th>Price_Euro</th>\n",
        "    </tr>\n",
        "  </thead>\n",
        "  <tbody>\n",
        "    <tr>\n",
        "      <th>0</th>\n",
        "      <td>Basic Building Set with Storage Case</td>\n",
        "      <td>NaN</td>\n",
        "    </tr>\n",
        "    <tr>\n",
        "      <th>1</th>\n",
        "      <td>Bookshop</td>\n",
        "      <td>155.96</td>\n",
        "    </tr>\n",
        "    <tr>\n",
        "      <th>2</th>\n",
        "      <td>Fiat 500</td>\n",
        "      <td>77.97</td>\n",
        "    </tr>\n",
        "    <tr>\n",
        "      <th>3</th>\n",
        "      <td>Old Trafford - Manchester United</td>\n",
        "      <td>263.18</td>\n",
        "    </tr>\n",
        "    <tr>\n",
        "      <th>4</th>\n",
        "      <td>Haunted House</td>\n",
        "      <td>224.19</td>\n",
        "    </tr>\n",
        "    <tr>\n",
        "      <th>...</th>\n",
        "      <td>...</td>\n",
        "      <td>...</td>\n",
        "    </tr>\n",
        "    <tr>\n",
        "      <th>8</th>\n",
        "      <td>Building LEGO Trains</td>\n",
        "      <td>NaN</td>\n",
        "    </tr>\n",
        "    <tr>\n",
        "      <th>9</th>\n",
        "      <td>Porsche 911: Legends Made of LEGO</td>\n",
        "      <td>NaN</td>\n",
        "    </tr>\n",
        "    <tr>\n",
        "      <th>10</th>\n",
        "      <td>Iconic Objects Made From LEGO Bricks</td>\n",
        "      <td>NaN</td>\n",
        "    </tr>\n",
        "    <tr>\n",
        "      <th>11</th>\n",
        "      <td>Newsstand</td>\n",
        "      <td>NaN</td>\n",
        "    </tr>\n",
        "    <tr>\n",
        "      <th>12</th>\n",
        "      <td>Valentine's Bear</td>\n",
        "      <td>NaN</td>\n",
        "    </tr>\n",
        "  </tbody>\n",
        "</table>\n",
        "<p>663 rows × 2 columns</p>\n",
        "</div>\n",
        "\n",
        "\n",
        "\n",
        "There you have it! A single, easy-to-read function that will collect data on all Lego sets from the year 2020 into a Data Frame for us to analyze. We can even use this Data Frame to streamline calculations:"
      ]
    },
    {
      "cell_type": "code",
      "execution_count": null,
      "id": "361906c9-a3f4-43b0-b2b6-6a27e9e70787",
      "metadata": {
        "id": "361906c9-a3f4-43b0-b2b6-6a27e9e70787"
      },
      "outputs": [],
      "source": [
        "lego2020['Price_Euro'].mean()"
      ]
    },
    {
      "cell_type": "markdown",
      "id": "d528558f-1ddc-49bc-9d45-2c4a920655ec",
      "metadata": {
        "id": "d528558f-1ddc-49bc-9d45-2c4a920655ec"
      },
      "source": [
        "    40.550406504065045\n",
        "\n",
        "\n",
        "\n",
        "Based on the data we have collected, the mean price (in Euros) of 2020 Lego sets is 40.61€.\n",
        "\n",
        "Now, it's your turn to collect data!\n",
        "\n",
        "**Solve it!**\n",
        "\n",
        "Update the code used in this lesson to extract the following information regarding Lego sets from the year 2019:\n",
        "- Name of the set\n",
        "- Price of the set (in Euros)\n",
        "- Number of pieces\n",
        "- Number of minifigs\n",
        "\n",
        "You should collect this information for ALL lego sets from 2019 (there are 849 as of Jan 2024). Store your results in a csv called `lego2019.csv` using code that you save in the cell labeled `#si-exercise`. The columns should be labeled `Set`, `Price_Euro`, `Pieces`, `Minifigs`, respectively. The Data Frame should have the first page of results at the top, and the last page of results at the bottom (this order will enable comparison of your results with mine). You will receive points for the following:\n",
        "\n",
        "- `lego2019.csv` contains 849 entries [1 point]\n",
        "- Columns are labeled `Set`, `Price_Euro`, `Pieces`, `Minifigs`, respectively [1 point]\n",
        "- Column `Set` contains the correct names for each set [1 point]\n",
        "- Column `Price_Euro` contains the correct price in Euros for each set (missing prices should be replaced with `np.nan`) [1 point]\n",
        "- Column `Pieces` contains the correct number of pieces (replaced with `np.nan` where missing) [1 point]\n",
        "- A function called `collectLegoSets` is defined in your code [1 point]\n",
        "- Your code writes the results of a DataFrame to CSV (be sure NOT to save the index column!) [1 point]\n",
        "\n",
        "\n",
        "*WARNING: This submission may be slow to grade, since it will take a while for your code to scrape the website and process the data! Be patient.*\n",
        "\n",
        "Please put ALL NECESSARY CODE into the cell!"
      ]
    },
    {
      "cell_type": "code",
      "execution_count": 71,
      "id": "6bd3015f-1757-469e-a54d-21cd3ee5755a",
      "metadata": {
        "colab": {
          "base_uri": "https://localhost:8080/",
          "height": 522
        },
        "id": "6bd3015f-1757-469e-a54d-21cd3ee5755a",
        "outputId": "4b56a4f8-86a7-4d11-9cb6-5c0565d53766"
      },
      "outputs": [
        {
          "output_type": "stream",
          "name": "stdout",
          "text": [
            "https://brickset.com/sets/year-2020\n",
            "https://brickset.com/sets/year-2020/page-2\n",
            "https://brickset.com/sets/year-2020/page-3\n",
            "https://brickset.com/sets/year-2020/page-4\n",
            "https://brickset.com/sets/year-2020/page-5\n",
            "https://brickset.com/sets/year-2020/page-6\n",
            "https://brickset.com/sets/year-2020/page-7\n",
            "https://brickset.com/sets/year-2020/page-8\n",
            "https://brickset.com/sets/year-2020/page-9\n",
            "https://brickset.com/sets/year-2020/page-10\n",
            "https://brickset.com/sets/year-2020/page-11\n",
            "https://brickset.com/sets/year-2020/page-12\n",
            "https://brickset.com/sets/year-2020/page-13\n",
            "https://brickset.com/sets/year-2020/page-14\n",
            "https://brickset.com/sets/year-2020/page-15\n",
            "https://brickset.com/sets/year-2020/page-16\n",
            "https://brickset.com/sets/year-2020/page-17\n",
            "https://brickset.com/sets/year-2020/page-18\n",
            "https://brickset.com/sets/year-2020/page-19\n",
            "https://brickset.com/sets/year-2020/page-20\n",
            "https://brickset.com/sets/year-2020/page-21\n",
            "https://brickset.com/sets/year-2020/page-22\n"
          ]
        },
        {
          "output_type": "execute_result",
          "data": {
            "text/plain": [
              "\",Set,Price_Euro,Peices,Minifigs\\n0,Bookshop,199.99,2504,\\n1,Fiat 500,79.99,960,\\n2,Old Trafford - Manchester United,279.99,3898,\\n3,Haunted House,299.99,3231,\\n4,Ghostbusters ECTO-1,239.99,2352,\\n5,Elf Club House,89.99,1197,\\n6,Colosseum,549.99,9036,\\n7,Crocodile Locomotive,99.99,1271,\\n8,Heart Box,19.99,80,\\n9,Brick Box,29.99,65,\\n10,Deluxe Brick Box,49.99,85,\\n11,Alphabet Truck,29.99,36,\\n12,Fire Truck,4.86,6,\\n13,Tow Truck,4.99,7,\\n14,Batcave,34.99,33,\\n15,Elsa and Olaf's Tea Party,19.99,17,\\n16,Super Heroes Lab,29.99,30,\\n17,Ariel's Undersea Castle,29.99,35,\\n18,Lightning McQueen's Race Day,29.99,42,\\n19,Playroom,14.99,17,\\n20,Bedroom,14.99,16,\\n21,Pizza Stand,9.99,18,\\n22,Bakery,39.99,46,\\n23,Modular Playhouse,59.99,129,\\n24,Bulldozer,9.99,10,\\n0,Truck & Tracked Excavator,19.99,20,\\n1,Wrecking Ball Demolition,59.99,56,\\n2,Tower Crane & Construction,129.99,123,\\n3,Creative Animals,59.99,175,\\n4,Creative Blue Bricks,4.99,52,\\n5,Creative Green Bricks,4.99,60,\\n6,Bricks and Houses,19.99,270,\\n7,Bricks and Lights,29.99,441,\\n8,White Baseplate,8.99,1,\\n9,Bricks and Animals,59.99,1500,\\n10,Bricks Bricks Plates,69.99,1504,\\n11,The LEGO Games Book parts,,0,\\n12,Halloween Ideas parts,,0,\\n13,Cute Ideas parts,,35,\\n14,Epic History parts,,53,\\n15,Jurassic World Build Your Own Adventure parts,,63,\\n16,City Build Your Own Adventure: Police Chase parts,,0,\\n17,Robot,,45,\\n18,Octopus,,63,\\n19,Castle,,52,\\n20,Frog,,56,\\n21,Lunar Lander,,45,\\n22,Ant,,25,\\n23,Tokyo,59.99,547,\\n24,Dubai,59.99,740,\\n0,The White House,99.99,1483,\\n1,BigFig Creeper and Ocelot,14.61,184,\\n2,BigFig Pig with Baby Zombie,14.61,159,\\n3,The Panda Nursery,19.99,204,\\n4,The Pillager Outpost,29.99,303,\\n5,The Illager Raid,69.99,562,\\n6,The Crafting Box 3.0,79.99,564,\\n7,The Taiga Adventure,9.99,74,\\n8,The Redstone Battle,54.99,504,\\n9,International Space Station,69.99,864,\\n10,Pirates of Barracuda Bay,199.99,2545,\\n11,Grand Piano,399.99,3662,\\n12,123 Sesame Street,119.99,1367,\\n13,My First Giraffe,,5,\\n14,Birthday Cake,3.99,9,\\n15,Monkie Kid's Delivery Bike,,22,\\n16,Lamborghini Huracán Super Trofeo EVO,3.89,70,\\n17,Police Car,3.99,37,\\n18,Police Helicopter,,39,\\n19,Fire Rescue Water Scooter,,33,\\n20,Beach Buggy,3.99,45,\\n21,Ocean Diver,,22,\\n22,Super Mushroom Surprise,,18,\\n23,Poe Dameron's X-wing Fighter,3.99,72,\\n24,The Skeleton Defense,3.99,31,\\n0,Chocolate Box & Flower,3.99,75,\\n1,Park Picnic,3.99,44,\\n2,Harry Potter and Hedwig: Owl Delivery,,31,\\n3,Captain Marvel and Nick Fury,3.99,32,\\n4,Chef Enzo's Haunted Hotdogs,,43,\\n5,El Fuego's Stunt Cannon,3.99,46,\\n6,Combo Charger,,71,\\n7,Merchant Avatar Jay,,47,\\n8,Build Your Own Birds - Make It Yours,,26,\\n9,Build Your Own Vehicles - Make It Yours,,59,\\n10,Easter Bunny,,67,\\n11,Cinderella Mini Castle,,43,\\n12,Poppy's Carriage,3.89,51,\\n13,Mini Frame,3.99,85,\\n14,Cat,3.99,55,\\n15,Train,3.99,59,\\n16,Holiday Tree,,70,\\n17,Monster Book of Monsters,,320,\\n18,Propeller Plane,9.99,128,\\n19,Sports Car,9.99,134,\\n20,Monster Truck,14.99,163,\\n21,Fire Dragon,19.99,234,\\n22,Rocket Truck,24.36,198,\\n23,Monster Burger Truck,49.99,499,\\n24,Townhouse Toy Store,49.99,554,\\n0,Space Rover Explorer,49.99,510,\\n1,Caravan Family Holiday,79.99,766,\\n2,Pirate Ship,129.99,1264,\\n3,Andy Warhol's Marilyn Monroe,119.99,3341,\\n4,The Beatles,119.99,2933,\\n5,Marvel Studios Iron Man,119.99,3167,\\n6,Star Wars The Sith,119.99,3406,\\n7,Year of the Rat,,162,\\n8,BYGGLEK,14.99,201,\\n9,LEGO® Trains 40th Anniversary Set,,188,\\n10,Easter Egg,12.99,239,\\n11,Police MF Accessory Set,12.99,42,\\n12,Fairground Accessory Set,12.99,51,\\n13,Golden Zane Accessory Set ,12.99,73,\\n14,Sports Accessories,3.99,36,\\n15,Botanical Accessories,3.99,32,\\n16,Donald Duck,9.99,90,\\n17,Goofy & Pluto,14.99,214,\\n18,Valentine's Bear,9.99,150,\\n19,Easter Sheep,9.99,192,\\n20,Monkey King,9.99,175,\\n21,Birthday Set,12.99,141,\\n22,Wedding Bride,12.99,306,\\n23,Wedding Groom,12.99,255,\\n24,LEGO Trophy,12.99,200,\\n0,Batman,19.99,115,\\n1,First Order Stormtrooper,19.99,151,\\n2,LEGOLAND® Fire Academy,,221,\\n3,LEGO House Chef,,8,\\n4,Chinese Dragon,,67,\\n5,Valentine Panda,2.99,53,\\n6,Koi Fish,,33,\\n7,Easter Bunny,2.99,43,\\n8,Flowers and Watering Can,2.99,47,\\n9,Bird in a tree,,37,\\n10,Dog and Cat Friendship Day,2.99,73,\\n11,Youth Day Kids,,63,\\n12,Literacy Day Unicorn,2.99,54,\\n13,Teachers Day,2.99,43,\\n14,Kindness Day,2.99,49,\\n15,Human Rights Day Dove,2.99,50,\\n16,Death Star II Battle,,235,\\n17,Drag Racer,,134,\\n18,Hot Rod,,142,\\n19,Charles Dickens Tribute,24.99,333,\\n20,Creative Fun 12-in-1,,240,\\n21,Hagrid & Buckbeak,,270,\\n22,Mini Robots,,366,\\n23,Monty Mole & Super Mushroom,,163,\\n24,Ice Skating Rink,19.99,304,\\n0,Falcon & Black Widow Team-Up,14.99,60,\\n1,Hogwarts Students Accessory Set,14.99,53,\\n2,Frankenstein,9.99,108,\\n3,Halloween Hayride,12.99,148,\\n4,Winter Snowball Fight,12.99,149,\\n5,Nutcracker,9.99,180,\\n6,Christmas Wreath 2-in-1,39.99,510,\\n7,The Joker,19.99,170,\\n8,LEGOLAND NINJAGO World,,440,\\n9,BB-8,16.99,171,\\n10,Lucky Cat,9.99,134,\\n11,Extra DOTS - Levi Jeans Confetti Bag,,110,\\n12,Build your own Monkey King,,24,\\n13,The Wooden Duck,,621,\\n14,Techno Reef Dance Party,24.99,173,\\n15,Poppy's Pod,19.99,103,\\n16,Poppy's Air Balloon Adventure,34.99,250,\\n17,Lonesome Flats Raft Adventure,29.99,159,\\n18,Volcano Rock City Concert,39.99,387,\\n19,Pop Village Celebration,49.99,380,\\n20,Rainbow Caterbus,38.98,395,\\n21,Vibe City Concert,59.99,494,\\n22,Ice Cream Cart,9.74,97,\\n23,Andrea's Car & Stage,19.99,240,\\n24,Heartlake City Hair Salon,19.99,235,\\n0,Nature Glamping,29.99,241,\\n1,Baking Competition,39.99,361,\\n2,Heartlake City Hospital,59.99,379,\\n3,Friendship Bus,69.99,778,\\n4,Puppy Playground,9.99,57,\\n5,Juice Truck,19.49,103,\\n6,Stephanie's House,39.99,170,\\n7,Andrea's Play Cube,9.99,49,\\n8,Stephanie's Play Cube,9.99,44,\\n9,Olivia's Play Cube,9.99,40,\\n10,Mia's Play Cube,9.99,36,\\n11,Emma's Play Cube,9.99,40,\\n12,Andrea's Shopping Play Cube,9.74,40,\\n13,Stephanie's Shopping Play Cube,9.74,44,\\n14,Olivia's Shopping Play Cube,9.99,47,\\n15,Mia's Shopping Play Cube,9.74,37,\\n16,Emma's Shopping Play Cube,9.74,49,\\n17,Andrea's Summer Play Cube,9.99,43,\\n18,Stephanie's Summer Play Cube,9.99,47,\\n19,Olivia's Summer Play Cube,9.99,48,\\n20,Mia's Summer Play Cube,9.99,50,\\n21,Emma's Summer Play Cube,9.74,46,\\n22,LEGO Friends Advent Calendar,24.36,236,\\n23,Baby Elephant Jungle Rescue,19.99,203,\\n24,Panda Jungle Tree House,29.99,265,\\n0,Tiger Hot Air Balloon Jungle Rescue,39.99,302,\\n1,Jungle Rescue Base,79.99,648,\\n2,Olivia's Flower Garden,9.99,92,\\n3,Heartlake City Park Café,19.99,224,\\n4,Emma's Fashion Shop,29.99,343,\\n5,Beach House,49.99,444,\\n6,Heartlake City Airplane,69.99,574,\\n7,Summer Fun Water Park,99.99,1001,\\n8,Heartlake City Brick Box,39.99,321,\\n9,Alpaca Mountain Jungle Rescue,59.99,512,\\n10,Party Boat,79.99,640,\\n11,Andrea's Jungle Play Cube,9.74,47,\\n12,Stephanie's Jungle Play Cube,,41,\\n13,Olivia's Jungle Play Cube,9.74,51,\\n14,Mia's Jungle Play Cube,9.74,43,\\n15,Emma's Jungle Play Cube,,50,\\n16,Rainbow Bracelet,5.99,33,\\n17,Funky Animals Bracelet,5.99,33,\\n18,Sparkly Unicorn Bracelet,5.99,33,\\n19,Cosmic Wonder Bracelet,5.99,33,\\n20,Animal Picture Holders,14.99,423,\\n21,Rainbow Jewelry Stand,14.99,213,\\n22,Pineapple Pencil Holder,19.99,351,\\n23,Desk Organiser,19.99,405,\\n24,Extra DOTS - Series 1,3.99,109,\\n0,Go Team! Bracelet,5.99,33,\\n1,Love Birds Bracelet,5.99,33,\\n2,Bracelet Mega Pack,24.99,300,\\n3,Creative Picture Frames,19.99,398,\\n4,Jewelry Box,19.99,374,\\n5,Extra DOTS - Series 2,3.99,109,\\n6,Magic Forest Bracelet,5.99,33,\\n7,Power Bracelet,5.99,33,\\n8,Buggy,9.74,117,\\n9,Mini CLAAS XERION,9.99,130,\\n10,Dragster,19.99,225,\\n11,Race Truck,19.49,227,\\n12,Catamaran,39.99,404,\\n13,Stunt Show Truck & Bike,49.99,610,\\n14,Ducati Panigale V4 R,69.99,646,\\n15,Mobile Crane,99.99,1292,\\n16,App-Controlled Top Gear Rally Car,129.99,463,\\n17,Dom's Dodge Charger,119.99,1077,\\n18,Concrete Mixer Truck,99.99,1163,\\n19,Bell-Boeing V-22 Osprey,139.99,1636,\\n20,6x6 Volvo Articulated Hauler,259.99,2193,\\n21,Lamborghini Sián FKP 37,449.99,3696,\\n22,Moana's Ocean Adventure,9.74,46,\\n23,Aurora's Royal Carriage,9.74,62,\\n24,Mulan's Storybook Adventures,19.49,124,\\n0,Anna and Elsa's Storybook Adventures,19.99,133,\\n1,Ariel's Storybook Adventures,19.99,105,\\n2,Belle's Storybook Adventures,19.99,111,\\n3,Cinderella's Castle Celebration,29.23,168,\\n4,Mickey Mouse and Minnie Mouse,179.99,1739,\\n5,Belle's Castle Winter Celebration,49.99,238,\\n6,Mulan's Training Grounds,29.23,157,\\n7,Moana's Island Home,29.23,202,\\n8,Rapunzel's Tower,64.99,369,\\n9,Aurora's Forest Cottage,39.99,300,\\n10,Tubes,184.99,150,\\n11,Letters,,130,\\n12,My XL World,324.99,480,\\n13,Animals,,91,\\n14,People,,18,\\n15,Large Hub,,1,\\n16,Large Angular Motor,,1,\\n17,Medium Angular Motor,,1,\\n18,Distance Sensor,,1,\\n19,Colour Sensor,,1,\\n20,Force Sensor,,1,\\n21,Large hub battery,,1,\\n22,Micro USB connector cable,,1,\\n23,SPIKE Prime Set,464.99,528,\\n24,Expansion Set,119.99,603,\\n0,RePLAY Challenge Kit,,1634,\\n1,PLAYMAKERS Explore Set,,779,\\n2,PLAYMAKERS Discover Set,,76,\\n3,Robot Inventor,359.99,949,\\n4,Police Dog Unit,9.99,67,\\n5,Police Highway Arrest,19.99,185,\\n6,Police Helicopter Chase,29.99,212,\\n7,Police Helicopter Transport,44.99,317,\\n8,Police Monster Truck Heist,49.99,362,\\n9,Police Station,99.99,743,\\n10,Forest Fire,9.99,84,\\n11,Fire Helicopter Response,19.99,93,\\n12,Street Sweeper,9.99,89,\\n13,Mail Plane,9.99,74,\\n14,Monster Truck,9.99,55,\\n15,Construction Bulldozer,19.99,126,\\n16,Ice-Cream Truck,19.99,200,\\n17,Race Boat Transporter,29.99,238,\\n18,Stunt Team,9.74,62,\\n19,Racing Cars,19.99,190,\\n20,Service Station,49.99,354,\\n21,Tuning Workshop,99.99,897,\\n22,Air Race,29.99,140,\\n23,Central Airport,49.99,286,\\n24,Passenger Airplane,99.99,669,\\n0,Ocean Mini-Submarine,9.99,41,\\n1,Ocean Exploration Submarine,29.99,286,\\n2,Ocean Exploration Base,59.99,497,\\n3,Ocean Exploration Ship,129.99,745,\\n4,Safari Off-Roader,19.99,168,\\n5,LEGO City Advent Calendar,19.49,342,\\n6,Police Brick Box,39.99,301,\\n7,Main Square,179.99,1517,\\n8,Elite Police Boat Transport,19.99,166,\\n9,Elite Police Driller Chase,19.99,179,\\n10,Elite Police Lighthouse Capture,19.99,189,\\n11,Super mech pack,,452,\\n12,City 2 in 1 pack,,129,\\n13,City 2 in 1 pack,,173,\\n14,Vehicle Bundle 2 in 1,,158,\\n15,Ultimate Designer Kit,,388,\\n16,3-in-1 Bundle Pack,,377,\\n17,Space Bundle 2 in 1,,286,\\n18,Minecraft Bundle 2 in 1,,396,\\n19,Speed Champions Bundle 2 in 1,,396,\\n20,Swing Ride,,106,\\n21,Carousel,,109,\\n22,Ferris Wheel,,109,\\n23,Roller Coaster,,109,\\n24,Welcome to the Hidden Side,19.49,189,\\n0,Jack's Beach Buggy,19.49,170,\\n1,El Fuego's Stunt Plane,29.23,295,\\n2,Newbury Subway,29.23,348,\\n3,The Lighthouse of Darkness,48.73,540,\\n4,Haunted Fairground,48.73,466,\\n5,J.B.'s Submarine,19.49,224,\\n6,Supernatural Race Car,29.23,244,\\n7,Newbury Abandoned Prison,38.98,400,\\n8,Phantom Fire Truck 3000,69.99,760,\\n9,Mystery Castle,97.47,1035,\\n10,Spinjitzu Burst - Cole,9.99,48,\\n11,Spinjitzu Burst - Kai,9.99,48,\\n12,Spinjitzu Burst Lloyd,9.99,48,\\n13,LEGO Minifigures - DC Super Heroes Series {Random Bag},,0,\\n14,Mister Miracle,,10,\\n15,Wonder Woman,,9,\\n16,Aquaman,,8,\\n17,Stargirl,,9,\\n18,Sinestro,,10,\\n19,Cheetah,,9,\\n20,Superman,,9,\\n21,Green Lantern,,9,\\n22,Cyborg,,8,\\n23,Batman,,10,\\n24,Huntress,,10,\\n0,Metamorpho,,7,\\n1,Joker,,11,\\n2,Bumblebee,,10,\\n3,Flash,,10,\\n4,Bat-Mite,3.99,9,\\n5,LEGO Minifigures - DC Super Heroes Series - Complete,,148,\\n6,LEGO Minifigures - DC Super Heroes Series - Sealed Box,,0,\\n7,LEGO Minifigures - Series 20 {Random Bag},,0,\\n8,Piñata Boy,,9,\\n9,Breakdancer,,8,\\n10,Pea Pod Costume Girl,,6,\\n11,Tournament Knight,,8,\\n12,Pirate Girl,,7,\\n13,Space Fan,,10,\\n14,Llama Costume Girl,3.99,7,\\n15,Viking,,9,\\n16,Super Warrior,,6,\\n17,Martial Arts Boy,,6,\\n18,Athlete,,8,\\n19,Marine Biologist,,12,\\n20,Anniversary Brick Suit Guy,,6,\\n21,80s Musician,,6,\\n22,Pyjama Girl,,6,\\n23,Drone Pilot,,13,\\n24,LEGO Minifigures - Series 20 - Complete,,127,\\n0,LEGO Minifigures - Series 20 - Sealed Box,,0,\\n1,LEGO Minifigures - Harry Potter Series 2 {Random bag},,0,\\n2,Harry Potter,,9,\\n3,Albus Dumbledore,,8,\\n4,Hermione Granger,,7,\\n5,Ron Weasley,,7,\\n6,Luna Lovegood,,6,\\n7,Griphook,,7,\\n8,Lily Potter,,7,\\n9,James Potter,,8,\\n10,Ginny Weasley,,8,\\n11,Fred Weasley,,6,\\n12,George Weasley,,7,\\n13,Bellatrix Lestrange,,8,\\n14,Kingsley Shacklebolt,,8,\\n15,Moaning Myrtle,,8,\\n16,Professor Pomona Sprout,,9,\\n17,Neville Longbottom,,9,\\n18,LEGO Minifigures - Harry Potter Series 2 - Complete,,122,\\n19,LEGO Minifigures - Harry Potter Series 2 - Sealed Box,3.89,0,\\n20,Adventures with Mario,59.99,231,\\n21,Character Pack Series 1 {Random bag},,0,\\n22,Paragoomba,,0,\\n23,Fuzzy,,0,\\n24,Spiny,,0,\\n0,Buzzy Beetle,,0,\\n1,Bullet Bill,,0,\\n2,Bob-omb,,0,\\n3,Eep Cheep,,0,\\n4,Blooper,,0,\\n5,Urchin,,0,\\n6,Peepa,3.89,0,\\n7,Character Pack Series 1 - Complete,,0,\\n8,Character Pack Series 1 - Sealed Box,3.89,0,\\n9,Guarded Fortress,49.99,468,\\n10,Desert Pokey,19.99,180,\\n11,Whomp's Lava Trouble,19.99,133,\\n12,Piranha Plant Power Slide,29.99,217,\\n13,Boomer Bill Barrage,29.99,132,\\n14,Mario's House & Yoshi,29.99,205,\\n15,Toad's Treasure Hunt,79.99,464,\\n16,Bowser's Castle Boss Battle,99.99,1010,\\n17,Fire Mario Power-Up Pack ,9.99,11,\\n18,Propeller Mario Power-Up Pack,9.99,13,\\n19,Cat Mario Power-Up Pack,9.99,11,\\n20,Builder Mario Power-Up Pack,9.99,10,\\n21,Nintendo Entertainment System,269.99,2646,\\n22,Thwomp Drop,39.99,393,\\n23,King Boo and the Haunted Yard,49.99,431,\\n24,Thunder Raider,48.73,576,\\n0,Jungle Raider,9.99,127,\\n1,Kai's Fire Dragon,19.99,81,\\n2,Golden Mech,38.98,489,\\n3,Storm Fighter Battle,29.99,165,\\n4,Kai Fighter,39.99,513,\\n5,Destiny's Bounty,129.99,1781,\\n6,Cole's Speeder Car,9.99,52,\\n7,Kai's Mech Jet,19.99,217,\\n8,Gamer's Market,34.99,218,\\n9,Jay and Lloyd's Velocity Racers,29.99,322,\\n10,Ninja Tuner Car,39.99,419,\\n11,Jay's Cyber Dragon,49.99,518,\\n12,Empire Temple of Madness,79.99,810,\\n13,Empire Dragon,29.23,286,\\n14,Kai Avatar - Arcade Pod,9.74,49,\\n15,Jay Avatar - Arcade Pod,9.74,47,\\n16,Lloyd Avatar - Arcade Pod,9.74,48,\\n17,Journey to the Skull Dungeons,24.99,401,\\n18,Wu's Battle Dragon,19.99,321,\\n19,Zane's Mino Creature,49.99,616,\\n20,Fire Stone Mech,69.99,968,\\n21,Skull Sorcerer's Dragon,79.99,1016,\\n22,Skull Sorcerer's Dungeons,99.99,1171,\\n23,Resistance Y-wing Microfighter,9.74,86,\\n24,Kylo Ren's Shuttle Microfighter,9.74,72,\\n0,T-16 Skyhopper vs Bantha Microfighters,19.49,198,\\n1,Sith Troopers Battle Pack,14.99,105,\\n2,Mandalorian Battle Pack,14.99,102,\\n3,Snowspeeder,19.99,91,\\n4,Duel on Mustafar ,24.99,208,\\n5,Obi-Wan's Hut,29.99,200,\\n6,Luke Skywalker's Landspeeder,29.99,236,\\n7,Sith TIE Fighter,69.99,470,\\n8,Poe Dameron's X-wing Fighter,99.99,761,\\n9,TIE Fighter Pilot Helmet,59.99,724,\\n10,A-wing Starfighter,199.99,1673,\\n11,Stormtrooper Helmet,59.99,647,\\n12,Boba Fett Helmet,59.99,625,\\n13,D-O,69.99,519,\\n14,LEGO Star Wars Advent Calendar,29.23,311,\\n15,501st Legion Clone Troopers,29.99,285,\\n16,Anakin's Jedi Interceptor,29.99,248,\\n17,Armored Assault Tank (AAT),39.99,286,\\n18,Knights of Ren Transport Ship,69.99,595,\\n19,General Grievous's Starfighter,79.99,487,\\n20,AT-AT,169.99,1267,\\n21,Mos Eisley Cantina,399.99,3187,\\n22,Death Star Final Duel,99.99,775,\\n23,The Razor Crest,139.99,1023,\\n24,Resistance I-TS Transport,99.99,932,\\n0,Bespin Duel,,295,\\n1,The Mandalorian & The Child,19.99,295,\\n2,The Child,89.99,1073,\\n3,Unstoppable Bike Chase,19.99,136,\\n4,Brick-built Minions and their Lair,49.99,876,\\n5,Dr. Wu's Lab: Baby Dinosaurs Breakout,19.99,164,\\n6,Gallimimus and Pteranodon Breakout,59.99,391,\\n7,Indominus rex vs. Ankylosaurus,99.99,537,\\n8,Velociraptor: Biplane Rescue Mission,29.99,101,\\n9,Hogwarts Room of Requirement,19.99,193,\\n10,Forbidden Forest: Umbridge's Encounter,29.99,253,\\n11,4 Privet Drive,79.99,797,\\n12,Hogwarts Astronomy Tower,99.99,971,\\n13,Diagon Alley,449.99,5544,\\n14,Hedwig,39.99,630,\\n15,Attack on the Burrow,99.99,1047,\\n16,LEGO Harry Potter Advent Calendar,29.23,335,\\n17,Iron Man Mech,9.99,148,\\n18,Thanos Mech,9.99,152,\\n19,Avengers Speeder Bike Attack,24.36,226,\\n20,Avengers Truck Take-down,39.99,477,\\n21,Spider-Man Mech,9.99,152,\\n22,Vulture's Trucker Robbery,24.36,93,\\n23,Spider-Man vs. Doc Ock,29.23,234,\\n24,The Menace of Mysterio,34.99,163,\\n0,Spiderjet vs. Venom Mech,39.99,371,\\n1,Venomosaurus Ambush,79.99,640,\\n2,Avengers Wrath of Loki,59.99,223,\\n3,Avengers Helicarrier,119.99,1244,\\n4,Wonder Woman vs. Cheetah,39.99,371,\\n5,Batboat The Penguin Pursuit!,9.99,54,\\n6,Joker's Trike Chase,49.99,440,\\n7,Mobile Bat Base,89.99,743,\\n8,1989 Batwing,199.99,2363,\\n9,Black Widow's Helicopter Chase,29.99,271,\\n10,Venom Crawler,29.99,413,\\n11,Iron Man Hulkbuster versus A.I.M. Agent,39.99,456,\\n12,Iron Man Helmet,59.99,480,\\n13,Avengers Tower Battle,89.99,685,\\n14,Iron Man Armory,29.99,258,\\n15,Ferrari F8 Tributo,19.99,275,\\n16,Nissan GT-R NISMO,19.99,298,\\n17,1985 Audi Sport quattro S1,19.99,250,\\n18,Formula E Panasonic Jaguar Racing GEN2 Car & Jaguar I-PACE eTROPHY,39.99,565,\\n19,Lamborghini Urus ST-X & Huracán Super Trofeo EVO ,59.99,663,\\n20,Nebulon-B Frigate,,459,\\n21,Taskmaster's Ambush,,230,\\n22,Wonder Woman,,255,\\n23,Toad's Special Hideaway,,120,\\n24,White Dragon Horse Bike,29.99,259,\\n\""
            ],
            "application/vnd.google.colaboratory.intrinsic+json": {
              "type": "string"
            }
          },
          "metadata": {},
          "execution_count": 71
        }
      ],
      "source": [
        "#si-exercise\n",
        "#make a function that will lets us scrape an entire website (specifically the bricks.com website)\n",
        "#want to walk through every lego set, find the title and then find the price\n",
        "\n",
        "#use try and except in our code as a fail safe to prevent the code from failing\n",
        "\n",
        "#to not be idientified as a bot by a website use the time function to slow down and the code wont run so quickly on the website\n",
        "\n",
        "import pandas as pd\n",
        "import requests\n",
        "import re\n",
        "from bs4 import BeautifulSoup\n",
        "import numpy as np #want to incorporate numpy into our float column (idk this one) but it allows us to collect everything even with missing data\n",
        "import time\n",
        "\n",
        "\n",
        "def collectLegoSets(url):\n",
        "  time.sleep(4 + np.random.rand()*3) #has teh code run much more slowly and will be random pauses to prevent the website from detecting the scrpae function as bot\n",
        "  print(url)\n",
        "  site = requests.get(url)\n",
        "  soup = BeautifulSoup(site.text)\n",
        "\n",
        "  articles = soup.find_all('article')\n",
        "\n",
        "  #make a list with length 2 list will include: (title of lego set, price of lego set)<-- later need to add #of pieces and minifigs to this as well so it will be a list of 4\n",
        "\n",
        "  data = []\n",
        "\n",
        "  for i in articles:\n",
        "    row = [] #empty list where we will stick the title and the price\n",
        "    try:\n",
        "      title = i.find('h1').text\n",
        "      row.append(title) #adds the title to the row\n",
        "    except:\n",
        "      row.append('')\n",
        "\n",
        "    try:\n",
        "      price_s = i.find('dt', string = 'RRP' ).find_next_sibling().text\n",
        "      price = float(re.search(r'(\\u20AC)(\\d+[.]\\d{2})', price_s).groups()[1]) #adding the one at the end made it so that when we print out the expression it will only give us the numeric part (so the price) and not the euro symbol\n",
        "      row.append(price) #adds the found price to the row\n",
        "    except:\n",
        "      row.append(np.nan) #if we cant find a price then it will attribute teh result with np (so a missing value) this prevents teh code from failing when certain listing are missing a price\n",
        " #code for pieces\n",
        "    try:\n",
        "      row.append(i.find('dt', string = 'Pieces').find_next_sibling().text)\n",
        "    except:\n",
        "      row.append(0)\n",
        " #Code for mini figs (continuation as part of homework)\n",
        "    try:\n",
        "      row.append(minifigs_s = soup.find('dt', string = 'Minifigs').find_next_sibling().text)\n",
        "      # minifigs = (re.search(r'^[0-9]+$', minifigs_s)) #I want the result to only print out the number\n",
        "      # row.append(minifigs)\n",
        "    except:\n",
        "      row.append('')\n",
        "\n",
        "    data.append(row) #adds the title and row to our empty row that we added at the begining of the is for lop\n",
        "\n",
        "\n",
        "  data = pd.DataFrame(data, columns = ['Set', 'Price_Euro','Peices','Minifigs']) #created a data fram and then created a title column and a price_euro\n",
        "  data.to_csv(\"lego2019.csv\", index=False)\n",
        "\n",
        "  #now add the functionality that will let this function go through multiple pages\n",
        "\n",
        "  #use this try statement to have the function first try to see if theres a next page, if there isnt it wont return anything (this helps the function not crash)\n",
        "  try:\n",
        "    next_page = soup.find('li', class_=\"next\").a['href']\n",
        "  except:\n",
        "      next_page = None\n",
        "\n",
        "  #if there is anext page squash the next page reults with the current page results (concat.) if not then only return the current page results\n",
        "  if next_page:\n",
        "    return pd.concat([data, collectLegoSets(next_page)], axis=0)\n",
        "  else:\n",
        "    return data\n",
        "\n",
        "\n",
        "collectLegoSets('https://brickset.com/sets/year-2020').to_csv()\n",
        "    #for the homeowrk extend this and add 2 extra columns to this 1) #of pieces  3)Minfigs and then saves teh results as a csv\n",
        "\n"
      ]
    },
    {
      "cell_type": "code",
      "source": [
        "collectLegoSets('https://brickset.com/sets/year-2020').to_csv()"
      ],
      "metadata": {
        "colab": {
          "base_uri": "https://localhost:8080/",
          "height": 617
        },
        "id": "cXNnXEKbanE6",
        "outputId": "6386b6e5-2f88-40a1-ff15-e53336c1c601"
      },
      "id": "cXNnXEKbanE6",
      "execution_count": 38,
      "outputs": [
        {
          "output_type": "stream",
          "name": "stdout",
          "text": [
            "https://brickset.com/sets/year-2020\n",
            "https://brickset.com/sets/year-2020/page-2\n",
            "https://brickset.com/sets/year-2020/page-3\n",
            "https://brickset.com/sets/year-2020/page-4\n",
            "https://brickset.com/sets/year-2020/page-5\n",
            "https://brickset.com/sets/year-2020/page-6\n",
            "https://brickset.com/sets/year-2020/page-7\n",
            "https://brickset.com/sets/year-2020/page-8\n",
            "https://brickset.com/sets/year-2020/page-9\n",
            "https://brickset.com/sets/year-2020/page-10\n",
            "https://brickset.com/sets/year-2020/page-11\n",
            "https://brickset.com/sets/year-2020/page-12\n",
            "https://brickset.com/sets/year-2020/page-13\n",
            "https://brickset.com/sets/year-2020/page-14\n",
            "https://brickset.com/sets/year-2020/page-15\n",
            "https://brickset.com/sets/year-2020/page-16\n",
            "https://brickset.com/sets/year-2020/page-17\n",
            "https://brickset.com/sets/year-2020/page-18\n"
          ]
        },
        {
          "output_type": "error",
          "ename": "KeyboardInterrupt",
          "evalue": "",
          "traceback": [
            "\u001b[0;31m---------------------------------------------------------------------------\u001b[0m",
            "\u001b[0;31mKeyboardInterrupt\u001b[0m                         Traceback (most recent call last)",
            "\u001b[0;32m<ipython-input-38-37f49f6c8111>\u001b[0m in \u001b[0;36m<cell line: 1>\u001b[0;34m()\u001b[0m\n\u001b[0;32m----> 1\u001b[0;31m \u001b[0mcollectLegoSets\u001b[0m\u001b[0;34m(\u001b[0m\u001b[0;34m'https://brickset.com/sets/year-2020'\u001b[0m\u001b[0;34m)\u001b[0m\u001b[0;34m.\u001b[0m\u001b[0mto_csv\u001b[0m\u001b[0;34m(\u001b[0m\u001b[0;34m)\u001b[0m\u001b[0;34m\u001b[0m\u001b[0;34m\u001b[0m\u001b[0m\n\u001b[0m",
            "\u001b[0;32m<ipython-input-37-241945c02021>\u001b[0m in \u001b[0;36mcollectLegoSets\u001b[0;34m(url)\u001b[0m\n\u001b[1;32m     64\u001b[0m   \u001b[0;31m#if there is anext page squash the next page reults with the current page results (concat.) if not then only return the current page results\u001b[0m\u001b[0;34m\u001b[0m\u001b[0;34m\u001b[0m\u001b[0m\n\u001b[1;32m     65\u001b[0m   \u001b[0;32mif\u001b[0m \u001b[0mnext_page\u001b[0m\u001b[0;34m:\u001b[0m\u001b[0;34m\u001b[0m\u001b[0;34m\u001b[0m\u001b[0m\n\u001b[0;32m---> 66\u001b[0;31m     \u001b[0;32mreturn\u001b[0m \u001b[0mpd\u001b[0m\u001b[0;34m.\u001b[0m\u001b[0mconcat\u001b[0m\u001b[0;34m(\u001b[0m\u001b[0;34m[\u001b[0m\u001b[0mdata\u001b[0m\u001b[0;34m,\u001b[0m \u001b[0mcollectLegoSets\u001b[0m\u001b[0;34m(\u001b[0m\u001b[0mnext_page\u001b[0m\u001b[0;34m)\u001b[0m\u001b[0;34m]\u001b[0m\u001b[0;34m,\u001b[0m \u001b[0maxis\u001b[0m\u001b[0;34m=\u001b[0m\u001b[0;36m0\u001b[0m\u001b[0;34m)\u001b[0m\u001b[0;34m\u001b[0m\u001b[0;34m\u001b[0m\u001b[0m\n\u001b[0m\u001b[1;32m     67\u001b[0m   \u001b[0;32melse\u001b[0m\u001b[0;34m:\u001b[0m\u001b[0;34m\u001b[0m\u001b[0;34m\u001b[0m\u001b[0m\n\u001b[1;32m     68\u001b[0m     \u001b[0;32mreturn\u001b[0m \u001b[0mdata\u001b[0m\u001b[0;34m\u001b[0m\u001b[0;34m\u001b[0m\u001b[0m\n",
            "\u001b[0;32m<ipython-input-37-241945c02021>\u001b[0m in \u001b[0;36mcollectLegoSets\u001b[0;34m(url)\u001b[0m\n\u001b[1;32m     64\u001b[0m   \u001b[0;31m#if there is anext page squash the next page reults with the current page results (concat.) if not then only return the current page results\u001b[0m\u001b[0;34m\u001b[0m\u001b[0;34m\u001b[0m\u001b[0m\n\u001b[1;32m     65\u001b[0m   \u001b[0;32mif\u001b[0m \u001b[0mnext_page\u001b[0m\u001b[0;34m:\u001b[0m\u001b[0;34m\u001b[0m\u001b[0;34m\u001b[0m\u001b[0m\n\u001b[0;32m---> 66\u001b[0;31m     \u001b[0;32mreturn\u001b[0m \u001b[0mpd\u001b[0m\u001b[0;34m.\u001b[0m\u001b[0mconcat\u001b[0m\u001b[0;34m(\u001b[0m\u001b[0;34m[\u001b[0m\u001b[0mdata\u001b[0m\u001b[0;34m,\u001b[0m \u001b[0mcollectLegoSets\u001b[0m\u001b[0;34m(\u001b[0m\u001b[0mnext_page\u001b[0m\u001b[0;34m)\u001b[0m\u001b[0;34m]\u001b[0m\u001b[0;34m,\u001b[0m \u001b[0maxis\u001b[0m\u001b[0;34m=\u001b[0m\u001b[0;36m0\u001b[0m\u001b[0;34m)\u001b[0m\u001b[0;34m\u001b[0m\u001b[0;34m\u001b[0m\u001b[0m\n\u001b[0m\u001b[1;32m     67\u001b[0m   \u001b[0;32melse\u001b[0m\u001b[0;34m:\u001b[0m\u001b[0;34m\u001b[0m\u001b[0;34m\u001b[0m\u001b[0m\n\u001b[1;32m     68\u001b[0m     \u001b[0;32mreturn\u001b[0m \u001b[0mdata\u001b[0m\u001b[0;34m\u001b[0m\u001b[0;34m\u001b[0m\u001b[0m\n",
            "\u001b[0;32m<ipython-input-37-241945c02021>\u001b[0m in \u001b[0;36mcollectLegoSets\u001b[0;34m(url)\u001b[0m\n\u001b[1;32m     64\u001b[0m   \u001b[0;31m#if there is anext page squash the next page reults with the current page results (concat.) if not then only return the current page results\u001b[0m\u001b[0;34m\u001b[0m\u001b[0;34m\u001b[0m\u001b[0m\n\u001b[1;32m     65\u001b[0m   \u001b[0;32mif\u001b[0m \u001b[0mnext_page\u001b[0m\u001b[0;34m:\u001b[0m\u001b[0;34m\u001b[0m\u001b[0;34m\u001b[0m\u001b[0m\n\u001b[0;32m---> 66\u001b[0;31m     \u001b[0;32mreturn\u001b[0m \u001b[0mpd\u001b[0m\u001b[0;34m.\u001b[0m\u001b[0mconcat\u001b[0m\u001b[0;34m(\u001b[0m\u001b[0;34m[\u001b[0m\u001b[0mdata\u001b[0m\u001b[0;34m,\u001b[0m \u001b[0mcollectLegoSets\u001b[0m\u001b[0;34m(\u001b[0m\u001b[0mnext_page\u001b[0m\u001b[0;34m)\u001b[0m\u001b[0;34m]\u001b[0m\u001b[0;34m,\u001b[0m \u001b[0maxis\u001b[0m\u001b[0;34m=\u001b[0m\u001b[0;36m0\u001b[0m\u001b[0;34m)\u001b[0m\u001b[0;34m\u001b[0m\u001b[0;34m\u001b[0m\u001b[0m\n\u001b[0m\u001b[1;32m     67\u001b[0m   \u001b[0;32melse\u001b[0m\u001b[0;34m:\u001b[0m\u001b[0;34m\u001b[0m\u001b[0;34m\u001b[0m\u001b[0m\n\u001b[1;32m     68\u001b[0m     \u001b[0;32mreturn\u001b[0m \u001b[0mdata\u001b[0m\u001b[0;34m\u001b[0m\u001b[0;34m\u001b[0m\u001b[0m\n",
            "\u001b[0;32m<ipython-input-37-241945c02021>\u001b[0m in \u001b[0;36mcollectLegoSets\u001b[0;34m(url)\u001b[0m\n\u001b[1;32m     64\u001b[0m   \u001b[0;31m#if there is anext page squash the next page reults with the current page results (concat.) if not then only return the current page results\u001b[0m\u001b[0;34m\u001b[0m\u001b[0;34m\u001b[0m\u001b[0m\n\u001b[1;32m     65\u001b[0m   \u001b[0;32mif\u001b[0m \u001b[0mnext_page\u001b[0m\u001b[0;34m:\u001b[0m\u001b[0;34m\u001b[0m\u001b[0;34m\u001b[0m\u001b[0m\n\u001b[0;32m---> 66\u001b[0;31m     \u001b[0;32mreturn\u001b[0m \u001b[0mpd\u001b[0m\u001b[0;34m.\u001b[0m\u001b[0mconcat\u001b[0m\u001b[0;34m(\u001b[0m\u001b[0;34m[\u001b[0m\u001b[0mdata\u001b[0m\u001b[0;34m,\u001b[0m \u001b[0mcollectLegoSets\u001b[0m\u001b[0;34m(\u001b[0m\u001b[0mnext_page\u001b[0m\u001b[0;34m)\u001b[0m\u001b[0;34m]\u001b[0m\u001b[0;34m,\u001b[0m \u001b[0maxis\u001b[0m\u001b[0;34m=\u001b[0m\u001b[0;36m0\u001b[0m\u001b[0;34m)\u001b[0m\u001b[0;34m\u001b[0m\u001b[0;34m\u001b[0m\u001b[0m\n\u001b[0m\u001b[1;32m     67\u001b[0m   \u001b[0;32melse\u001b[0m\u001b[0;34m:\u001b[0m\u001b[0;34m\u001b[0m\u001b[0;34m\u001b[0m\u001b[0m\n\u001b[1;32m     68\u001b[0m     \u001b[0;32mreturn\u001b[0m \u001b[0mdata\u001b[0m\u001b[0;34m\u001b[0m\u001b[0;34m\u001b[0m\u001b[0m\n",
            "\u001b[0;32m<ipython-input-37-241945c02021>\u001b[0m in \u001b[0;36mcollectLegoSets\u001b[0;34m(url)\u001b[0m\n\u001b[1;32m     64\u001b[0m   \u001b[0;31m#if there is anext page squash the next page reults with the current page results (concat.) if not then only return the current page results\u001b[0m\u001b[0;34m\u001b[0m\u001b[0;34m\u001b[0m\u001b[0m\n\u001b[1;32m     65\u001b[0m   \u001b[0;32mif\u001b[0m \u001b[0mnext_page\u001b[0m\u001b[0;34m:\u001b[0m\u001b[0;34m\u001b[0m\u001b[0;34m\u001b[0m\u001b[0m\n\u001b[0;32m---> 66\u001b[0;31m     \u001b[0;32mreturn\u001b[0m \u001b[0mpd\u001b[0m\u001b[0;34m.\u001b[0m\u001b[0mconcat\u001b[0m\u001b[0;34m(\u001b[0m\u001b[0;34m[\u001b[0m\u001b[0mdata\u001b[0m\u001b[0;34m,\u001b[0m \u001b[0mcollectLegoSets\u001b[0m\u001b[0;34m(\u001b[0m\u001b[0mnext_page\u001b[0m\u001b[0;34m)\u001b[0m\u001b[0;34m]\u001b[0m\u001b[0;34m,\u001b[0m \u001b[0maxis\u001b[0m\u001b[0;34m=\u001b[0m\u001b[0;36m0\u001b[0m\u001b[0;34m)\u001b[0m\u001b[0;34m\u001b[0m\u001b[0;34m\u001b[0m\u001b[0m\n\u001b[0m\u001b[1;32m     67\u001b[0m   \u001b[0;32melse\u001b[0m\u001b[0;34m:\u001b[0m\u001b[0;34m\u001b[0m\u001b[0;34m\u001b[0m\u001b[0m\n\u001b[1;32m     68\u001b[0m     \u001b[0;32mreturn\u001b[0m \u001b[0mdata\u001b[0m\u001b[0;34m\u001b[0m\u001b[0;34m\u001b[0m\u001b[0m\n",
            "\u001b[0;32m<ipython-input-37-241945c02021>\u001b[0m in \u001b[0;36mcollectLegoSets\u001b[0;34m(url)\u001b[0m\n\u001b[1;32m     64\u001b[0m   \u001b[0;31m#if there is anext page squash the next page reults with the current page results (concat.) if not then only return the current page results\u001b[0m\u001b[0;34m\u001b[0m\u001b[0;34m\u001b[0m\u001b[0m\n\u001b[1;32m     65\u001b[0m   \u001b[0;32mif\u001b[0m \u001b[0mnext_page\u001b[0m\u001b[0;34m:\u001b[0m\u001b[0;34m\u001b[0m\u001b[0;34m\u001b[0m\u001b[0m\n\u001b[0;32m---> 66\u001b[0;31m     \u001b[0;32mreturn\u001b[0m \u001b[0mpd\u001b[0m\u001b[0;34m.\u001b[0m\u001b[0mconcat\u001b[0m\u001b[0;34m(\u001b[0m\u001b[0;34m[\u001b[0m\u001b[0mdata\u001b[0m\u001b[0;34m,\u001b[0m \u001b[0mcollectLegoSets\u001b[0m\u001b[0;34m(\u001b[0m\u001b[0mnext_page\u001b[0m\u001b[0;34m)\u001b[0m\u001b[0;34m]\u001b[0m\u001b[0;34m,\u001b[0m \u001b[0maxis\u001b[0m\u001b[0;34m=\u001b[0m\u001b[0;36m0\u001b[0m\u001b[0;34m)\u001b[0m\u001b[0;34m\u001b[0m\u001b[0;34m\u001b[0m\u001b[0m\n\u001b[0m\u001b[1;32m     67\u001b[0m   \u001b[0;32melse\u001b[0m\u001b[0;34m:\u001b[0m\u001b[0;34m\u001b[0m\u001b[0;34m\u001b[0m\u001b[0m\n\u001b[1;32m     68\u001b[0m     \u001b[0;32mreturn\u001b[0m \u001b[0mdata\u001b[0m\u001b[0;34m\u001b[0m\u001b[0;34m\u001b[0m\u001b[0m\n",
            "\u001b[0;32m<ipython-input-37-241945c02021>\u001b[0m in \u001b[0;36mcollectLegoSets\u001b[0;34m(url)\u001b[0m\n\u001b[1;32m     64\u001b[0m   \u001b[0;31m#if there is anext page squash the next page reults with the current page results (concat.) if not then only return the current page results\u001b[0m\u001b[0;34m\u001b[0m\u001b[0;34m\u001b[0m\u001b[0m\n\u001b[1;32m     65\u001b[0m   \u001b[0;32mif\u001b[0m \u001b[0mnext_page\u001b[0m\u001b[0;34m:\u001b[0m\u001b[0;34m\u001b[0m\u001b[0;34m\u001b[0m\u001b[0m\n\u001b[0;32m---> 66\u001b[0;31m     \u001b[0;32mreturn\u001b[0m \u001b[0mpd\u001b[0m\u001b[0;34m.\u001b[0m\u001b[0mconcat\u001b[0m\u001b[0;34m(\u001b[0m\u001b[0;34m[\u001b[0m\u001b[0mdata\u001b[0m\u001b[0;34m,\u001b[0m \u001b[0mcollectLegoSets\u001b[0m\u001b[0;34m(\u001b[0m\u001b[0mnext_page\u001b[0m\u001b[0;34m)\u001b[0m\u001b[0;34m]\u001b[0m\u001b[0;34m,\u001b[0m \u001b[0maxis\u001b[0m\u001b[0;34m=\u001b[0m\u001b[0;36m0\u001b[0m\u001b[0;34m)\u001b[0m\u001b[0;34m\u001b[0m\u001b[0;34m\u001b[0m\u001b[0m\n\u001b[0m\u001b[1;32m     67\u001b[0m   \u001b[0;32melse\u001b[0m\u001b[0;34m:\u001b[0m\u001b[0;34m\u001b[0m\u001b[0;34m\u001b[0m\u001b[0m\n\u001b[1;32m     68\u001b[0m     \u001b[0;32mreturn\u001b[0m \u001b[0mdata\u001b[0m\u001b[0;34m\u001b[0m\u001b[0;34m\u001b[0m\u001b[0m\n",
            "\u001b[0;32m<ipython-input-37-241945c02021>\u001b[0m in \u001b[0;36mcollectLegoSets\u001b[0;34m(url)\u001b[0m\n\u001b[1;32m     64\u001b[0m   \u001b[0;31m#if there is anext page squash the next page reults with the current page results (concat.) if not then only return the current page results\u001b[0m\u001b[0;34m\u001b[0m\u001b[0;34m\u001b[0m\u001b[0m\n\u001b[1;32m     65\u001b[0m   \u001b[0;32mif\u001b[0m \u001b[0mnext_page\u001b[0m\u001b[0;34m:\u001b[0m\u001b[0;34m\u001b[0m\u001b[0;34m\u001b[0m\u001b[0m\n\u001b[0;32m---> 66\u001b[0;31m     \u001b[0;32mreturn\u001b[0m \u001b[0mpd\u001b[0m\u001b[0;34m.\u001b[0m\u001b[0mconcat\u001b[0m\u001b[0;34m(\u001b[0m\u001b[0;34m[\u001b[0m\u001b[0mdata\u001b[0m\u001b[0;34m,\u001b[0m \u001b[0mcollectLegoSets\u001b[0m\u001b[0;34m(\u001b[0m\u001b[0mnext_page\u001b[0m\u001b[0;34m)\u001b[0m\u001b[0;34m]\u001b[0m\u001b[0;34m,\u001b[0m \u001b[0maxis\u001b[0m\u001b[0;34m=\u001b[0m\u001b[0;36m0\u001b[0m\u001b[0;34m)\u001b[0m\u001b[0;34m\u001b[0m\u001b[0;34m\u001b[0m\u001b[0m\n\u001b[0m\u001b[1;32m     67\u001b[0m   \u001b[0;32melse\u001b[0m\u001b[0;34m:\u001b[0m\u001b[0;34m\u001b[0m\u001b[0;34m\u001b[0m\u001b[0m\n\u001b[1;32m     68\u001b[0m     \u001b[0;32mreturn\u001b[0m \u001b[0mdata\u001b[0m\u001b[0;34m\u001b[0m\u001b[0;34m\u001b[0m\u001b[0m\n",
            "\u001b[0;32m<ipython-input-37-241945c02021>\u001b[0m in \u001b[0;36mcollectLegoSets\u001b[0;34m(url)\u001b[0m\n\u001b[1;32m     64\u001b[0m   \u001b[0;31m#if there is anext page squash the next page reults with the current page results (concat.) if not then only return the current page results\u001b[0m\u001b[0;34m\u001b[0m\u001b[0;34m\u001b[0m\u001b[0m\n\u001b[1;32m     65\u001b[0m   \u001b[0;32mif\u001b[0m \u001b[0mnext_page\u001b[0m\u001b[0;34m:\u001b[0m\u001b[0;34m\u001b[0m\u001b[0;34m\u001b[0m\u001b[0m\n\u001b[0;32m---> 66\u001b[0;31m     \u001b[0;32mreturn\u001b[0m \u001b[0mpd\u001b[0m\u001b[0;34m.\u001b[0m\u001b[0mconcat\u001b[0m\u001b[0;34m(\u001b[0m\u001b[0;34m[\u001b[0m\u001b[0mdata\u001b[0m\u001b[0;34m,\u001b[0m \u001b[0mcollectLegoSets\u001b[0m\u001b[0;34m(\u001b[0m\u001b[0mnext_page\u001b[0m\u001b[0;34m)\u001b[0m\u001b[0;34m]\u001b[0m\u001b[0;34m,\u001b[0m \u001b[0maxis\u001b[0m\u001b[0;34m=\u001b[0m\u001b[0;36m0\u001b[0m\u001b[0;34m)\u001b[0m\u001b[0;34m\u001b[0m\u001b[0;34m\u001b[0m\u001b[0m\n\u001b[0m\u001b[1;32m     67\u001b[0m   \u001b[0;32melse\u001b[0m\u001b[0;34m:\u001b[0m\u001b[0;34m\u001b[0m\u001b[0;34m\u001b[0m\u001b[0m\n\u001b[1;32m     68\u001b[0m     \u001b[0;32mreturn\u001b[0m \u001b[0mdata\u001b[0m\u001b[0;34m\u001b[0m\u001b[0;34m\u001b[0m\u001b[0m\n",
            "\u001b[0;32m<ipython-input-37-241945c02021>\u001b[0m in \u001b[0;36mcollectLegoSets\u001b[0;34m(url)\u001b[0m\n\u001b[1;32m     64\u001b[0m   \u001b[0;31m#if there is anext page squash the next page reults with the current page results (concat.) if not then only return the current page results\u001b[0m\u001b[0;34m\u001b[0m\u001b[0;34m\u001b[0m\u001b[0m\n\u001b[1;32m     65\u001b[0m   \u001b[0;32mif\u001b[0m \u001b[0mnext_page\u001b[0m\u001b[0;34m:\u001b[0m\u001b[0;34m\u001b[0m\u001b[0;34m\u001b[0m\u001b[0m\n\u001b[0;32m---> 66\u001b[0;31m     \u001b[0;32mreturn\u001b[0m \u001b[0mpd\u001b[0m\u001b[0;34m.\u001b[0m\u001b[0mconcat\u001b[0m\u001b[0;34m(\u001b[0m\u001b[0;34m[\u001b[0m\u001b[0mdata\u001b[0m\u001b[0;34m,\u001b[0m \u001b[0mcollectLegoSets\u001b[0m\u001b[0;34m(\u001b[0m\u001b[0mnext_page\u001b[0m\u001b[0;34m)\u001b[0m\u001b[0;34m]\u001b[0m\u001b[0;34m,\u001b[0m \u001b[0maxis\u001b[0m\u001b[0;34m=\u001b[0m\u001b[0;36m0\u001b[0m\u001b[0;34m)\u001b[0m\u001b[0;34m\u001b[0m\u001b[0;34m\u001b[0m\u001b[0m\n\u001b[0m\u001b[1;32m     67\u001b[0m   \u001b[0;32melse\u001b[0m\u001b[0;34m:\u001b[0m\u001b[0;34m\u001b[0m\u001b[0;34m\u001b[0m\u001b[0m\n\u001b[1;32m     68\u001b[0m     \u001b[0;32mreturn\u001b[0m \u001b[0mdata\u001b[0m\u001b[0;34m\u001b[0m\u001b[0;34m\u001b[0m\u001b[0m\n",
            "\u001b[0;32m<ipython-input-37-241945c02021>\u001b[0m in \u001b[0;36mcollectLegoSets\u001b[0;34m(url)\u001b[0m\n\u001b[1;32m     64\u001b[0m   \u001b[0;31m#if there is anext page squash the next page reults with the current page results (concat.) if not then only return the current page results\u001b[0m\u001b[0;34m\u001b[0m\u001b[0;34m\u001b[0m\u001b[0m\n\u001b[1;32m     65\u001b[0m   \u001b[0;32mif\u001b[0m \u001b[0mnext_page\u001b[0m\u001b[0;34m:\u001b[0m\u001b[0;34m\u001b[0m\u001b[0;34m\u001b[0m\u001b[0m\n\u001b[0;32m---> 66\u001b[0;31m     \u001b[0;32mreturn\u001b[0m \u001b[0mpd\u001b[0m\u001b[0;34m.\u001b[0m\u001b[0mconcat\u001b[0m\u001b[0;34m(\u001b[0m\u001b[0;34m[\u001b[0m\u001b[0mdata\u001b[0m\u001b[0;34m,\u001b[0m \u001b[0mcollectLegoSets\u001b[0m\u001b[0;34m(\u001b[0m\u001b[0mnext_page\u001b[0m\u001b[0;34m)\u001b[0m\u001b[0;34m]\u001b[0m\u001b[0;34m,\u001b[0m \u001b[0maxis\u001b[0m\u001b[0;34m=\u001b[0m\u001b[0;36m0\u001b[0m\u001b[0;34m)\u001b[0m\u001b[0;34m\u001b[0m\u001b[0;34m\u001b[0m\u001b[0m\n\u001b[0m\u001b[1;32m     67\u001b[0m   \u001b[0;32melse\u001b[0m\u001b[0;34m:\u001b[0m\u001b[0;34m\u001b[0m\u001b[0;34m\u001b[0m\u001b[0m\n\u001b[1;32m     68\u001b[0m     \u001b[0;32mreturn\u001b[0m \u001b[0mdata\u001b[0m\u001b[0;34m\u001b[0m\u001b[0;34m\u001b[0m\u001b[0m\n",
            "\u001b[0;32m<ipython-input-37-241945c02021>\u001b[0m in \u001b[0;36mcollectLegoSets\u001b[0;34m(url)\u001b[0m\n\u001b[1;32m     64\u001b[0m   \u001b[0;31m#if there is anext page squash the next page reults with the current page results (concat.) if not then only return the current page results\u001b[0m\u001b[0;34m\u001b[0m\u001b[0;34m\u001b[0m\u001b[0m\n\u001b[1;32m     65\u001b[0m   \u001b[0;32mif\u001b[0m \u001b[0mnext_page\u001b[0m\u001b[0;34m:\u001b[0m\u001b[0;34m\u001b[0m\u001b[0;34m\u001b[0m\u001b[0m\n\u001b[0;32m---> 66\u001b[0;31m     \u001b[0;32mreturn\u001b[0m \u001b[0mpd\u001b[0m\u001b[0;34m.\u001b[0m\u001b[0mconcat\u001b[0m\u001b[0;34m(\u001b[0m\u001b[0;34m[\u001b[0m\u001b[0mdata\u001b[0m\u001b[0;34m,\u001b[0m \u001b[0mcollectLegoSets\u001b[0m\u001b[0;34m(\u001b[0m\u001b[0mnext_page\u001b[0m\u001b[0;34m)\u001b[0m\u001b[0;34m]\u001b[0m\u001b[0;34m,\u001b[0m \u001b[0maxis\u001b[0m\u001b[0;34m=\u001b[0m\u001b[0;36m0\u001b[0m\u001b[0;34m)\u001b[0m\u001b[0;34m\u001b[0m\u001b[0;34m\u001b[0m\u001b[0m\n\u001b[0m\u001b[1;32m     67\u001b[0m   \u001b[0;32melse\u001b[0m\u001b[0;34m:\u001b[0m\u001b[0;34m\u001b[0m\u001b[0;34m\u001b[0m\u001b[0m\n\u001b[1;32m     68\u001b[0m     \u001b[0;32mreturn\u001b[0m \u001b[0mdata\u001b[0m\u001b[0;34m\u001b[0m\u001b[0;34m\u001b[0m\u001b[0m\n",
            "\u001b[0;32m<ipython-input-37-241945c02021>\u001b[0m in \u001b[0;36mcollectLegoSets\u001b[0;34m(url)\u001b[0m\n\u001b[1;32m     64\u001b[0m   \u001b[0;31m#if there is anext page squash the next page reults with the current page results (concat.) if not then only return the current page results\u001b[0m\u001b[0;34m\u001b[0m\u001b[0;34m\u001b[0m\u001b[0m\n\u001b[1;32m     65\u001b[0m   \u001b[0;32mif\u001b[0m \u001b[0mnext_page\u001b[0m\u001b[0;34m:\u001b[0m\u001b[0;34m\u001b[0m\u001b[0;34m\u001b[0m\u001b[0m\n\u001b[0;32m---> 66\u001b[0;31m     \u001b[0;32mreturn\u001b[0m \u001b[0mpd\u001b[0m\u001b[0;34m.\u001b[0m\u001b[0mconcat\u001b[0m\u001b[0;34m(\u001b[0m\u001b[0;34m[\u001b[0m\u001b[0mdata\u001b[0m\u001b[0;34m,\u001b[0m \u001b[0mcollectLegoSets\u001b[0m\u001b[0;34m(\u001b[0m\u001b[0mnext_page\u001b[0m\u001b[0;34m)\u001b[0m\u001b[0;34m]\u001b[0m\u001b[0;34m,\u001b[0m \u001b[0maxis\u001b[0m\u001b[0;34m=\u001b[0m\u001b[0;36m0\u001b[0m\u001b[0;34m)\u001b[0m\u001b[0;34m\u001b[0m\u001b[0;34m\u001b[0m\u001b[0m\n\u001b[0m\u001b[1;32m     67\u001b[0m   \u001b[0;32melse\u001b[0m\u001b[0;34m:\u001b[0m\u001b[0;34m\u001b[0m\u001b[0;34m\u001b[0m\u001b[0m\n\u001b[1;32m     68\u001b[0m     \u001b[0;32mreturn\u001b[0m \u001b[0mdata\u001b[0m\u001b[0;34m\u001b[0m\u001b[0;34m\u001b[0m\u001b[0m\n",
            "\u001b[0;32m<ipython-input-37-241945c02021>\u001b[0m in \u001b[0;36mcollectLegoSets\u001b[0;34m(url)\u001b[0m\n\u001b[1;32m     64\u001b[0m   \u001b[0;31m#if there is anext page squash the next page reults with the current page results (concat.) if not then only return the current page results\u001b[0m\u001b[0;34m\u001b[0m\u001b[0;34m\u001b[0m\u001b[0m\n\u001b[1;32m     65\u001b[0m   \u001b[0;32mif\u001b[0m \u001b[0mnext_page\u001b[0m\u001b[0;34m:\u001b[0m\u001b[0;34m\u001b[0m\u001b[0;34m\u001b[0m\u001b[0m\n\u001b[0;32m---> 66\u001b[0;31m     \u001b[0;32mreturn\u001b[0m \u001b[0mpd\u001b[0m\u001b[0;34m.\u001b[0m\u001b[0mconcat\u001b[0m\u001b[0;34m(\u001b[0m\u001b[0;34m[\u001b[0m\u001b[0mdata\u001b[0m\u001b[0;34m,\u001b[0m \u001b[0mcollectLegoSets\u001b[0m\u001b[0;34m(\u001b[0m\u001b[0mnext_page\u001b[0m\u001b[0;34m)\u001b[0m\u001b[0;34m]\u001b[0m\u001b[0;34m,\u001b[0m \u001b[0maxis\u001b[0m\u001b[0;34m=\u001b[0m\u001b[0;36m0\u001b[0m\u001b[0;34m)\u001b[0m\u001b[0;34m\u001b[0m\u001b[0;34m\u001b[0m\u001b[0m\n\u001b[0m\u001b[1;32m     67\u001b[0m   \u001b[0;32melse\u001b[0m\u001b[0;34m:\u001b[0m\u001b[0;34m\u001b[0m\u001b[0;34m\u001b[0m\u001b[0m\n\u001b[1;32m     68\u001b[0m     \u001b[0;32mreturn\u001b[0m \u001b[0mdata\u001b[0m\u001b[0;34m\u001b[0m\u001b[0;34m\u001b[0m\u001b[0m\n",
            "\u001b[0;32m<ipython-input-37-241945c02021>\u001b[0m in \u001b[0;36mcollectLegoSets\u001b[0;34m(url)\u001b[0m\n\u001b[1;32m     64\u001b[0m   \u001b[0;31m#if there is anext page squash the next page reults with the current page results (concat.) if not then only return the current page results\u001b[0m\u001b[0;34m\u001b[0m\u001b[0;34m\u001b[0m\u001b[0m\n\u001b[1;32m     65\u001b[0m   \u001b[0;32mif\u001b[0m \u001b[0mnext_page\u001b[0m\u001b[0;34m:\u001b[0m\u001b[0;34m\u001b[0m\u001b[0;34m\u001b[0m\u001b[0m\n\u001b[0;32m---> 66\u001b[0;31m     \u001b[0;32mreturn\u001b[0m \u001b[0mpd\u001b[0m\u001b[0;34m.\u001b[0m\u001b[0mconcat\u001b[0m\u001b[0;34m(\u001b[0m\u001b[0;34m[\u001b[0m\u001b[0mdata\u001b[0m\u001b[0;34m,\u001b[0m \u001b[0mcollectLegoSets\u001b[0m\u001b[0;34m(\u001b[0m\u001b[0mnext_page\u001b[0m\u001b[0;34m)\u001b[0m\u001b[0;34m]\u001b[0m\u001b[0;34m,\u001b[0m \u001b[0maxis\u001b[0m\u001b[0;34m=\u001b[0m\u001b[0;36m0\u001b[0m\u001b[0;34m)\u001b[0m\u001b[0;34m\u001b[0m\u001b[0;34m\u001b[0m\u001b[0m\n\u001b[0m\u001b[1;32m     67\u001b[0m   \u001b[0;32melse\u001b[0m\u001b[0;34m:\u001b[0m\u001b[0;34m\u001b[0m\u001b[0;34m\u001b[0m\u001b[0m\n\u001b[1;32m     68\u001b[0m     \u001b[0;32mreturn\u001b[0m \u001b[0mdata\u001b[0m\u001b[0;34m\u001b[0m\u001b[0;34m\u001b[0m\u001b[0m\n",
            "\u001b[0;32m<ipython-input-37-241945c02021>\u001b[0m in \u001b[0;36mcollectLegoSets\u001b[0;34m(url)\u001b[0m\n\u001b[1;32m     64\u001b[0m   \u001b[0;31m#if there is anext page squash the next page reults with the current page results (concat.) if not then only return the current page results\u001b[0m\u001b[0;34m\u001b[0m\u001b[0;34m\u001b[0m\u001b[0m\n\u001b[1;32m     65\u001b[0m   \u001b[0;32mif\u001b[0m \u001b[0mnext_page\u001b[0m\u001b[0;34m:\u001b[0m\u001b[0;34m\u001b[0m\u001b[0;34m\u001b[0m\u001b[0m\n\u001b[0;32m---> 66\u001b[0;31m     \u001b[0;32mreturn\u001b[0m \u001b[0mpd\u001b[0m\u001b[0;34m.\u001b[0m\u001b[0mconcat\u001b[0m\u001b[0;34m(\u001b[0m\u001b[0;34m[\u001b[0m\u001b[0mdata\u001b[0m\u001b[0;34m,\u001b[0m \u001b[0mcollectLegoSets\u001b[0m\u001b[0;34m(\u001b[0m\u001b[0mnext_page\u001b[0m\u001b[0;34m)\u001b[0m\u001b[0;34m]\u001b[0m\u001b[0;34m,\u001b[0m \u001b[0maxis\u001b[0m\u001b[0;34m=\u001b[0m\u001b[0;36m0\u001b[0m\u001b[0;34m)\u001b[0m\u001b[0;34m\u001b[0m\u001b[0;34m\u001b[0m\u001b[0m\n\u001b[0m\u001b[1;32m     67\u001b[0m   \u001b[0;32melse\u001b[0m\u001b[0;34m:\u001b[0m\u001b[0;34m\u001b[0m\u001b[0;34m\u001b[0m\u001b[0m\n\u001b[1;32m     68\u001b[0m     \u001b[0;32mreturn\u001b[0m \u001b[0mdata\u001b[0m\u001b[0;34m\u001b[0m\u001b[0;34m\u001b[0m\u001b[0m\n",
            "\u001b[0;32m<ipython-input-37-241945c02021>\u001b[0m in \u001b[0;36mcollectLegoSets\u001b[0;34m(url)\u001b[0m\n\u001b[1;32m     64\u001b[0m   \u001b[0;31m#if there is anext page squash the next page reults with the current page results (concat.) if not then only return the current page results\u001b[0m\u001b[0;34m\u001b[0m\u001b[0;34m\u001b[0m\u001b[0m\n\u001b[1;32m     65\u001b[0m   \u001b[0;32mif\u001b[0m \u001b[0mnext_page\u001b[0m\u001b[0;34m:\u001b[0m\u001b[0;34m\u001b[0m\u001b[0;34m\u001b[0m\u001b[0m\n\u001b[0;32m---> 66\u001b[0;31m     \u001b[0;32mreturn\u001b[0m \u001b[0mpd\u001b[0m\u001b[0;34m.\u001b[0m\u001b[0mconcat\u001b[0m\u001b[0;34m(\u001b[0m\u001b[0;34m[\u001b[0m\u001b[0mdata\u001b[0m\u001b[0;34m,\u001b[0m \u001b[0mcollectLegoSets\u001b[0m\u001b[0;34m(\u001b[0m\u001b[0mnext_page\u001b[0m\u001b[0;34m)\u001b[0m\u001b[0;34m]\u001b[0m\u001b[0;34m,\u001b[0m \u001b[0maxis\u001b[0m\u001b[0;34m=\u001b[0m\u001b[0;36m0\u001b[0m\u001b[0;34m)\u001b[0m\u001b[0;34m\u001b[0m\u001b[0;34m\u001b[0m\u001b[0m\n\u001b[0m\u001b[1;32m     67\u001b[0m   \u001b[0;32melse\u001b[0m\u001b[0;34m:\u001b[0m\u001b[0;34m\u001b[0m\u001b[0;34m\u001b[0m\u001b[0m\n\u001b[1;32m     68\u001b[0m     \u001b[0;32mreturn\u001b[0m \u001b[0mdata\u001b[0m\u001b[0;34m\u001b[0m\u001b[0;34m\u001b[0m\u001b[0m\n",
            "\u001b[0;32m<ipython-input-37-241945c02021>\u001b[0m in \u001b[0;36mcollectLegoSets\u001b[0;34m(url)\u001b[0m\n\u001b[1;32m     64\u001b[0m   \u001b[0;31m#if there is anext page squash the next page reults with the current page results (concat.) if not then only return the current page results\u001b[0m\u001b[0;34m\u001b[0m\u001b[0;34m\u001b[0m\u001b[0m\n\u001b[1;32m     65\u001b[0m   \u001b[0;32mif\u001b[0m \u001b[0mnext_page\u001b[0m\u001b[0;34m:\u001b[0m\u001b[0;34m\u001b[0m\u001b[0;34m\u001b[0m\u001b[0m\n\u001b[0;32m---> 66\u001b[0;31m     \u001b[0;32mreturn\u001b[0m \u001b[0mpd\u001b[0m\u001b[0;34m.\u001b[0m\u001b[0mconcat\u001b[0m\u001b[0;34m(\u001b[0m\u001b[0;34m[\u001b[0m\u001b[0mdata\u001b[0m\u001b[0;34m,\u001b[0m \u001b[0mcollectLegoSets\u001b[0m\u001b[0;34m(\u001b[0m\u001b[0mnext_page\u001b[0m\u001b[0;34m)\u001b[0m\u001b[0;34m]\u001b[0m\u001b[0;34m,\u001b[0m \u001b[0maxis\u001b[0m\u001b[0;34m=\u001b[0m\u001b[0;36m0\u001b[0m\u001b[0;34m)\u001b[0m\u001b[0;34m\u001b[0m\u001b[0;34m\u001b[0m\u001b[0m\n\u001b[0m\u001b[1;32m     67\u001b[0m   \u001b[0;32melse\u001b[0m\u001b[0;34m:\u001b[0m\u001b[0;34m\u001b[0m\u001b[0;34m\u001b[0m\u001b[0m\n\u001b[1;32m     68\u001b[0m     \u001b[0;32mreturn\u001b[0m \u001b[0mdata\u001b[0m\u001b[0;34m\u001b[0m\u001b[0;34m\u001b[0m\u001b[0m\n",
            "\u001b[0;32m<ipython-input-37-241945c02021>\u001b[0m in \u001b[0;36mcollectLegoSets\u001b[0;34m(url)\u001b[0m\n\u001b[1;32m     16\u001b[0m \u001b[0;34m\u001b[0m\u001b[0m\n\u001b[1;32m     17\u001b[0m \u001b[0;32mdef\u001b[0m \u001b[0mcollectLegoSets\u001b[0m\u001b[0;34m(\u001b[0m\u001b[0murl\u001b[0m\u001b[0;34m)\u001b[0m\u001b[0;34m:\u001b[0m\u001b[0;34m\u001b[0m\u001b[0;34m\u001b[0m\u001b[0m\n\u001b[0;32m---> 18\u001b[0;31m   \u001b[0mtime\u001b[0m\u001b[0;34m.\u001b[0m\u001b[0msleep\u001b[0m\u001b[0;34m(\u001b[0m\u001b[0;36m4\u001b[0m \u001b[0;34m+\u001b[0m \u001b[0mnp\u001b[0m\u001b[0;34m.\u001b[0m\u001b[0mrandom\u001b[0m\u001b[0;34m.\u001b[0m\u001b[0mrand\u001b[0m\u001b[0;34m(\u001b[0m\u001b[0;34m)\u001b[0m\u001b[0;34m*\u001b[0m\u001b[0;36m3\u001b[0m\u001b[0;34m)\u001b[0m \u001b[0;31m#has teh code run much more slowly and will be random pauses to prevent the website from detecting the scrpae function as bot\u001b[0m\u001b[0;34m\u001b[0m\u001b[0;34m\u001b[0m\u001b[0m\n\u001b[0m\u001b[1;32m     19\u001b[0m   \u001b[0mprint\u001b[0m\u001b[0;34m(\u001b[0m\u001b[0murl\u001b[0m\u001b[0;34m)\u001b[0m\u001b[0;34m\u001b[0m\u001b[0;34m\u001b[0m\u001b[0m\n\u001b[1;32m     20\u001b[0m   \u001b[0msite\u001b[0m \u001b[0;34m=\u001b[0m \u001b[0mrequests\u001b[0m\u001b[0;34m.\u001b[0m\u001b[0mget\u001b[0m\u001b[0;34m(\u001b[0m\u001b[0murl\u001b[0m\u001b[0;34m)\u001b[0m\u001b[0;34m\u001b[0m\u001b[0;34m\u001b[0m\u001b[0m\n",
            "\u001b[0;31mKeyboardInterrupt\u001b[0m: "
          ]
        }
      ]
    },
    {
      "cell_type": "markdown",
      "source": [
        "Testing cells for homework"
      ],
      "metadata": {
        "id": "om6qeZ5meNK5"
      },
      "id": "om6qeZ5meNK5"
    },
    {
      "cell_type": "code",
      "source": [
        "#homework tests\n"
      ],
      "metadata": {
        "id": "R3t4N56gdqxa"
      },
      "id": "R3t4N56gdqxa",
      "execution_count": 10,
      "outputs": []
    },
    {
      "cell_type": "code",
      "execution_count": 4,
      "metadata": {
        "id": "lNkPcmnlFH-J"
      },
      "outputs": [],
      "source": [
        "#how to retrieve a website and info via a command\n",
        "import requests\n",
        "\n",
        "site = requests.get(\"https://brickset.com/sets/year-2020\")"
      ],
      "id": "lNkPcmnlFH-J"
    },
    {
      "cell_type": "code",
      "source": [
        "site.text"
      ],
      "metadata": {
        "colab": {
          "base_uri": "https://localhost:8080/",
          "height": 140
        },
        "id": "K1qlITi9HHK6",
        "outputId": "b7493592-2211-42a3-b85e-721b17b5e27e"
      },
      "execution_count": 5,
      "outputs": [
        {
          "output_type": "execute_result",
          "data": {
            "text/plain": [
              "'\\r\\n<!DOCTYPE html>\\n<!--[if lt IE 7]>      <html class=\"no-js lt-ie9 lt-ie8 lt-ie7\"> <![endif]-->\\n<!--[if IE 7]>         <html class=\"no-js lt-ie9 lt-ie8\"> <![endif]-->\\n<!--[if IE 8]>         <html class=\"no-js lt-ie9\"> <![endif]-->\\n<!--[if gt IE 8]><!-->\\n<html class=\"no-js\" lang=\"en\">\\n<!--<![endif]-->\\n<head>\\n<meta http-equiv=\"X-UA-Compatible\" content=\"IE=edge\" />\\n<meta http-equiv=\"content-type\" content=\"text/html; charset=utf-8\" />\\n<meta name=\"description\" content=\"LEGO set database: LEGO 2020 \" />\\n<meta name=\"viewport\" id=\"viewport\" content=\"width=device-width, minimum-scale=1.0, maximum-scale=1.0\" />\\n<link rel=\"alternate\" type=\"application/rss+xml\" title=\"Brickset news feed\" href=\"//brickset.com/feed/\" />\\n<link rel=\"canonical\" href=\"https://brickset.com/sets/year-2020\" />\\n<link rel=\"apple-touch-icon\" sizes=\"57x57\" href=\"/assets/images/icons/apple-icon-57x57.png\">\\n<link rel=\"apple-touch-icon\" sizes=\"60x60\" href=\"/assets/images/icons/apple-icon-60x60.png\">\\n<link rel=\"apple-touch-icon\" sizes=\"72x72\" href=\"/assets/images/icons/apple-icon-72x72.png\">\\n<link rel=\"apple-touch-icon\" sizes=\"76x76\" href=\"/assets/images/icons/apple-icon-76x76.png\">\\n<link rel=\"apple-touch-icon\" sizes=\"114x114\" href=\"/assets/images/icons/apple-icon-114x114.png\">\\n<link rel=\"apple-touch-icon\" sizes=\"120x120\" href=\"/assets/images/icons/apple-icon-120x120.png\">\\n<link rel=\"apple-touch-icon\" sizes=\"144x144\" href=\"/assets/images/icons/apple-icon-144x144.png\">\\n<link rel=\"apple-touch-icon\" sizes=\"152x152\" href=\"/assets/images/icons/apple-icon-152x152.png\">\\n<link rel=\"apple-touch-icon\" sizes=\"180x180\" href=\"/assets/images/icons/apple-icon-180x180.png\">\\n<link rel=\"icon\" type=\"image/png\" sizes=\"192x192\" href=\"/assets/images/icons/android-icon-192x192.png\">\\n<link rel=\"icon\" type=\"image/png\" sizes=\"32x32\" href=\"/assets/images/icons/favicon-32x32.png\">\\n<link rel=\"icon\" type=\"image/png\" sizes=\"96x96\" href=\"/assets/images/icons/favicon-96x96.png\">\\n<link rel=\"icon\" type=\"image/png\" sizes=\"16x16\" href=\"/assets/images/icons/favicon-16x16.png\">\\n<link rel=\"search\" type=\"application/opensearchdescription+xml\" title=\"Brickset\" href=\"/opensearch.xml\" />\\n<link rel=\"manifest\" href=\"/assets/images/icons/manifest.json\">\\n<link rel=\"preconnect\" href=\"https://fonts.googleapis.com\" crossorigin>\\n<link rel=\"dns-prefetch\" href=\"https://fonts.googleapis.com\">\\n<meta name=\"msapplication-TileColor\" content=\"#4667a4\">\\n<meta name=\"msapplication-TileImage\" content=\"/assets/images/icons/ms-icon-144x144.png\">\\n<meta name=\"theme-color\" content=\"#4667a4\">\\n<meta name=\"p:domain_verify\" content=\"891d5f8a6ab61f88cd91190bd2d30152\" />\\n<meta property=\"og:type\" content=\"article\" />\\n<meta property=\"og:image\" content=\"https://brickset.com/assets/images/logo.png\" />\\n<meta property=\"og:title\" content=\"LEGO 2020 \" />\\n<meta property=\"og:description\" content />\\n<meta property=\"og:url\" content=\"https://brickset.com/sets/year-2020\" />\\n<meta property=\"og:site_name\" content=\"Brickset.com\" />\\n<meta property=\"fb:app_id\" content=\"114136156486\" />\\n<meta name=\"twitter:card\" content=\"summary_large_image\" />\\n<meta name=\"twitter:site\" content=\"@brickset\" />\\n<meta name=\"twitter:title\" content=\"LEGO 2020 \" />\\n<meta name=\"twitter:description\" content />\\n<meta name=\"twitter:image\" content=\"https://brickset.com/assets/images/logo.png\" />\\n<link href=\"//fonts.googleapis.com/css?family=Noto+Sans:400,700,400italic,700italic\" rel=\"stylesheet\" type=\"text/css\">\\n<link rel=\"stylesheet\" type=\"text/css\" href=\"/assets/jquery-ui/base/jquery-ui.min.css?v=20\" />\\n<link rel=\"stylesheet\" type=\"text/css\" href=\"/assets/js/highslide/highslide.css?v=20\" />\\n<link rel=\"stylesheet\" type=\"text/css\" href=\"/assets/template/css/template.css?v=20\" />\\n<link rel=\"stylesheet\" type=\"text/css\" href=\"/assets/css/styles.css?v=20\" />\\n<style></style>\\n<style>\\r\\n            div.outerwrap { max-width: 1180px; margin: auto; background-color: white;}  /* max-width: 1070px;*/\\r\\n            body { background-color: white; }\\r\\n        </style>\\n<script>\\r\\n            window.ramp = window.ramp || {};\\r\\n            window.ramp.que = window.ramp.que || [];\\r\\n            window.ramp.up = {\\r\\n                format: \\'EUP1\\',\\r\\n                eid: \\'\\'\\r\\n            };\\r\\n        </script>\\n<script src=\"https://cdn.intergient.com/1016948/63673/ramp_config.js\"></script>\\n<script type=\"text/javascript\" src=\"https://platform-api.sharethis.com/js/sharethis.js#property=642abebb3cccc300126c810b&product=inline-share-buttons\" async=\"async\"></script>\\n<script type=\"text/javascript\">\\r\\n        var setup = 0;\\r\\n        var loggedIn = 0;\\r\\n        var userid = 0;\\r\\n    </script>\\n\\n<script async src=\"https://www.googletagmanager.com/gtag/js?id=G-ZSNG05RX84\"></script>\\n<script type=\"text/javascript\">\\r\\n        window.dataLayer = window.dataLayer || [];\\r\\n        function gtag() { dataLayer.push(arguments); }\\r\\n        gtag(\\'js\\', new Date());\\r\\n\\r\\n        gtag(\\'config\\', \\'G-ZSNG05RX84\\');\\r\\n\\r\\n        // playwire GA4 code\\r\\n        window._pwGA4PageviewId = \\'\\'.concat(Date.now());\\r\\n        gtag(\\'config\\', \\'G-EFZWYSQ4VF\\');\\r\\n        gtag(\\r\\n            \\'event\\',\\r\\n            \\'ramp_js\\',\\r\\n            {\\r\\n                \\'send_to\\': \\'G-EFZWYSQ4VF\\',\\r\\n                \\'pageview_id\\': window._pwGA4PageviewId\\r\\n            }\\r\\n        );\\r\\n    </script>\\n<title>LEGO 2020  | Brickset</title>\\n</head>\\n<body id=\"body\" class=\"sets listview \">\\n<section class=\"ad\">\\n<div data-pw-desk=\"leaderboard_atf\" id=\"pwLeaderboardAtf1\"></div>\\n<script>window.ramp.que.push(function () {window.ramp.addTag(\\'pwLeaderboardAtf1\\'); });</script>\\n<div data-pw-mobi=\"leaderboard_atf2\"></div>\\n<script>window.ramp.que.push(function () { window.ramp.addTag(\\'pwLeaderboardAtf2\\'); });</script>\\n</section>\\n<div class=\"outerwrap\">\\n<header role=\"banner\" id=\"banner\">\\n<div class=\"wrap\">\\n<div class=\"topwrap\">\\n<a href=\"/\" rel=\"home\" class=\"logo\">\\n<div class=\"hgroup\">\\n</div>\\n</a>\\n<div class=\"country\">\\n<a title=\"Set your preferred country\" href=\"#\" style=\"background: url(\\'https://images.brickset.com/flags/US.png\\')\">\\nUS\\n</a>\\n</div>\\n<nav role=\"navigation\" class=\"sitetools\">\\n<ul>\\n<li><a href=\"/login\" class=\"loginLink\">Log in</a></li>\\n<li><a href=\"/signup\" id=\"signupLink\">Sign up</a></li>\\n<li><a href=\"#\" id=\"darkmodeswitch\">Dark</a></li>\\n</ul>\\n</nav>\\n<form role=\"search\" action=\"/search\" id=\"searchForm\">\\n<input type=\"text\" class=\"keyword\" placeholder=\"Search\" id=\"searchQuery\" name=\"query\" value />\\n<select name=\"scope\" id=\"searchScope\">\\n<option value=\"All\">All</option><option value=\"Sets\">Sets</option><option value=\"Minifigs\">Minifigs</option><option value=\"Parts\">Parts</option><option value=\"BrickLists\">BrickLists</option><option value=\"News\">News</option><option value=\"Members\">Members</option>\\n</select>\\n<input type=\"submit\" value=\"Go\" />\\n</form>\\n</div>\\n<nav role=\"navigation\" class=\"primarynav\">\\n<ul>\\n<li class=\"browse haschildren\"><a href=\"/browse\"><span>Browse</span></a>\\n<div class=\"subnav\">\\n<div class=\"wrap\">\\n<div class=\"col\">\\n<div class=\"group\">\\n<div class=\"heading\">Browse our database</div>\\n<ul>\\n<li><a href=\"/sets\">Sets</a></li>\\n<li><a href=\"/minifigs\">Minifigs</a></li>\\n<li><a href=\"/parts\">Parts</a></li>\\n<li><a href=\"/colours\">Colours</a></li>\\n<li>&nbsp;</li>\\n<li><a href=\"/instructions\">Instructions</a></li>\\n<li><a href=\"/inventories\">Inventories</a></li>\\n<li>&nbsp;</li>\\n<li><a href=\"/bricklists\">BrickLists</a></li>\\n<li><a href=\"/queries\">Queries</a></li>\\n<li><a href=\"/reviews\">User Reviews</a></li>\\n<li><a href=\"/news\">News and staff reviews</a></li>\\n</ul>\\n</div>\\n<div class=\"group\">\\n<div class=\"heading\">Sets by year</div>\\n<ul>\\n<li><a href=\"/sets/year-2024\">2024</a></li>\\n<li><a href=\"/sets/year-2023\">2023</a></li>\\n<li><a href=\"/sets/year-2022\">2022</a></li>\\n<li><a href=\"/sets\">Earlier</a></li>\\n</ul>\\n</div>\\n<div class=\"group\">\\n<div class=\"heading\">Set lists</div>\\n<ul>\\n<li><a href=\"/sets/order-dateadded?query=*\">Recently added</a></li>\\n<li><a href=\"/sets/query-45\">Largest </a></li>\\n<li><a href=\"/sets/query-9196\">Most expensive</a></li>\\n<li><a href=\"https://brickset.com/sets/query-9779\">Forthcoming</a></li>\\n<li><a href=\"https://brickset.com/sets/query-9752\">Sets retiring soon</a></li>\\n<li><a href=\"https://brickset.com/sets/query-9753\">Sets retiring this year</a></li>\\n</ul>\\n</div>\\n</div>\\n<div class=\"col\">\\n<div class=\"group\">\\n<div class=\"heading\">New for 2024</div>\\n<ul>\\n<li><a href=\"/sets/year-2024/theme-Animal-Crossing\">Animal Crossing</a></li>\\n<li><a href=\"/sets/year-2024/theme-BrickHeadz\">BrickHeadz</a></li>\\n<li><a href=\"/sets/year-2024/theme-City\">City</a></li>\\n<li><a href=\"/sets/year-2024/theme-Collectable-Minifigures\">Collectable Minifigures</a></li>\\n<li><a href=\"/sets/year-2024/theme-Creator\">Creator</a></li>\\n<li><a href=\"/sets/year-2024/theme-DC-Comics-Super-Heroes\">DC Comics Super Heroes</a></li>\\n<li><a href=\"/sets/year-2024/theme-Disney\">Disney</a></li>\\n<li><a href=\"/sets/year-2024/theme-Dreamzzz\">Dreamzzz</a></li>\\n<li><a href=\"/sets/year-2024/theme-Friends\">Friends</a></li>\\n<li><a href=\"/sets/year-2024/theme-Harry-Potter\">Harry Potter</a></li>\\n<li><a href=\"/sets/year-2024/theme-Icons\">Icons</a></li>\\n<li><a href=\"/sets/year-2024/theme-Ideas\">Ideas</a></li>\\n<li><a href=\"/sets/year-2024/theme-Marvel-Super-Heroes\">Marvel Super Heroes</a></li>\\n<li><a href=\"/sets/year-2024/theme-Minecraft\">Minecraft</a></li>\\n<li><a href=\"/sets/year-2024/theme-Monkie-Kid\">Monkie Kid</a></li>\\n<li><a href=\"/sets/year-2024/theme-Ninjago\">Ninjago</a></li>\\n<li><a href=\"/sets/year-2024/theme-Seasonal\">Seasonal</a></li>\\n<li><a href=\"/sets/year-2024/theme-Sonic-the-Hedgehog\">Sonic the Hedgehog</a></li>\\n<li><a href=\"/sets/year-2024/theme-Speed-Champions\">Speed Champions</a></li>\\n<li><a href=\"/sets/year-2024/theme-Star-Wars\">Star Wars</a></li>\\n<li><a href=\"/sets/year-2024/theme-Super-Mario\">Super Mario</a></li>\\n<li><a href=\"/sets/year-2024/theme-Technic\">Technic</a></li>\\n<li>&nbsp;</li>\\n<li><a href=\"/sets/year-2024/tag-polybag\">Polybags</a></li>\\n<li><a href=\"/sets/year-2024/tag-18-plus\">18+</a></li>\\n<li><a href=\"/sets/year-2024/tag-gift-with-purchase\">Gifts with Purchase (GWP)</a></li>\\n</ul>\\n</div>\\n</div>\\n</div>\\n</div>\\n</li>\\n<li class=\"buy haschildren\"><a href=\"/buy\"><span>Buy</span></a>\\n<div class=\"subnav\">\\n<div class=\"wrap\">\\n<div class=\"col\">\\n<div class=\"group\">\\n<div class=\"group\">\\n<div class=\"heading\">Buy at LEGO.com</div>\\n<ul>\\n<li><a href=\"/buy/vendor-lego/order-dateadded/availability-In-Stock\">Available now</a></li>\\n<li><a href=\"/buy/vendor-lego/order-dateadded/availability-Coming-soon\">Coming soon</a></li>\\n<li><a href=\"/buy/vendor-lego/order-dateadded/availability-Preorder\">Pre-order</a></li>\\n<li><a href=\"/buy/vendor-lego/order-percentdiscount/\">Discounts</a></li>\\n</ul>\\n</div>\\n<div class=\"heading\">Buy at Amazon</div>\\n<ul>\\n<li><a href=\"/buy/amazon\">Amazon price comparator</a></li>\\n<li><a href=\"/buy/country-us/vendor-amazon/order-percentdiscount\">Discounts at Amazon.com</a></li>\\n</ul>\\n</div>\\n<div class=\"group\">\\n<div class=\"heading\">Buy at eBay</div>\\n<ul>\\n<li><a href=\"/buy/ebay\">Search for a set at eBay</a></li>\\n</ul>\\n</div>\\n</div>\\n<div class=\"col\">\\n<div class=\"group\">\\n<div class=\"heading\">Buy at BrickLink</div>\\n<ul>\\n<li><a href=\"/buy/country-us/vendor-bricklink/order-percentdiscount\">Discounted sets</a></li>\\n<li><a href=\"/buy/country-us/vendor-bricklink/order-dateremoved\">Discontinued sets</a></li>\\n</ul>\\n</div><div class=\"group\">\\n<div class=\"heading\">Buy at StockX</div>\\n<ul>\\n<li><a href=\"/buy/country-US/vendor-stockx\">LEGO for sale at StockX</a></li>\\n</ul>\\n</div><div class=\"group\">\\n<div class=\"heading\">More...</div>\\n<ul>\\n<li><a href=\"/buy/country-us/order-percentdiscount\">View all discounts in United States</a></li>\\n<li><a href=\"/buy/country-us/order-dateadded\">See what\\'s new in United States</a></li>\\n</ul>\\n</div>\\n</div>\\n</div>\\n</div>\\n</li>\\n<li class=\"mysets\"><a href=\"/mycollection\"><span>My Sets</span></a></li>\\n<li class=\"forum haschildren\"><a href=\"/forum\"><span>Forum</span></a>\\n<div class=\"subnav\">\\n<div class=\"wrap\">\\n<div class=\"col\">\\n<div class=\"group\">\\n<div class=\"heading\">Discord</div>\\n<ul>\\n<li><a href=\"https://discord.gg/SrmSCy5nN9\">Join our server on Discord</a></li>\\n</ul>\\n</div>\\n</div>\\n<div class=\"col\">\\n<div class=\"group\">\\n<div class=\"heading\">Facebook</div>\\n<ul>\\n<li><a href=\"https://www.facebook.com/groups/377556669676660/\">Join our Facebook group</a></li>\\n</ul>\\n</div>\\n</div>\\n</div>\\n</div>\\n</li>\\n<li class=\"more haschildren\"><a href=\"/more\">More...</a>\\n<div class=\"subnav\">\\n<div class=\"wrap\">\\n<div class=\"col\">\\n<div class=\"group\">\\n<div class=\"heading\">Lists</div>\\n<ul>\\n<li><a href=\"/reviews/brickset\">Index of staff reviews</a></li>\\n<li><a href=\"/reviews/videos\">Index of video reviews</a></li>\\n<li><a href=\"/reviews/topreviewers\">Top reviewers</a></li>\\n<li><a href=\"/members\">Members</a></li>\\n<li><a href=\"/bricklists/featured\">LEGO set designers\\' BrickLists</a></li>\\n</ul>\\n</div>\\n<div class=\"group\">\\n<div class=\"heading\">LIbrary</div>\\n<ul>\\n<li><a href=\"/library/catalogues\">Catalogues</a></li>\\n<li><a href=\"/library/ideasbooks\">Ideas Books</a></li>\\n<li><a href=\"/library\">More...</a></li>\\n</ul>\\n</div>\\n<div class=\"group\">\\n<div class=\"heading\">Tools</div>\\n<ul>\\n<li><a href=\"/article/52666/brickset-web-services\">Web services</a></li>\\n<li><a href=\"/article/52663/index-of-rss-feeds\">RSS feeds</a></li>\\n<li><a href=\"/tools/apps\">Brickset apps</a></li>\\n<li><a href=\"https://2b0db1fc.sibforms.com/serve/MUIEADNUQQrlwUu7tTC4jeJNkIfkOJOkjjjPS_DoQ8Gxy5xPas7KB79gf8oAM4p8pTpSC7FeS4kUJvI1j7EjboEpOYZR2vnLj_PhC98AfEaJbwnBZCypyoYYULIntgYuYWE6pYvSBAmphorvxM-9TbgGwlXc9K-gyNmLKvhUPUqB_0aKsGVXbvaXMxkY4WvL9zIx3nD3kYRih2vF\">Subscribe to our newsletter</a></li>\\n</ul>\\n</div>\\n</div>\\n<div class=\"col\">\\n<div class=\"group\">\\n<div class=\"heading\">Help</div>\\n<ul>\\n<li><a href=\"/search\">Help with searching</a></li>\\n<li><a href=\"/faq\">FAQ / How do I...</a></li>\\n<li><a href=\"/news/category-tutorial\">Tutorials</a></li>\\n</ul>\\n</div>\\n<div class=\"group\">\\n<div class=\"heading\">About Brickset</div>\\n<ul>\\n<li><a href=\"/article/52659/about-brickset\">About the site</a></li>\\n<li><a href=\"/article/52652/change-log\">Change log</a></li>\\n<li><a href=\"/article/52660/privacy-and-cookies\">Privacy and cookies</a></li>\\n<li><a href=\"/article/52662/novelty-policy\">Novelty policy</a></li>\\n<li><a href=\"/article/52661/affiliate-marketing-disclosure\">Affiliate marketing disclosure</a></li>\\n<li><a href=\"/article/54359/advertising-at-brickset\">Advertising at Brickset</a></li>\\n<li><a href=\"/article/52667/infographic\">Infographic</a></li>\\n<li><a href=\"/sitemap\">Site map</a></li>\\n<li><a href=\"/suggestions\">Suggest an idea for improvement</a></li>\\n<li><a href=\"/contact\">Contact us</a></li>\\n</ul>\\n</div>\\n</div>\\n</div>\\n</div>\\n</li>\\n<li class=\"other\"><a href=\"/mymenu\">My menu</a></li>\\n</ul>\\n</nav>\\n<nav role=\"navigation\" class=\"breadcrumbs\">\\n<ul><li><a href=\"/\">Home</a></li><li><a href=\"/browse\">Browse</a></li><li><a href=\"/sets\">Sets</a></li><li>2020</li></ul>\\n</nav>\\n</div>\\n</header>\\n<div class=\"content\">\\n<div role=\"main\" class=\"fullwidth\">\\n<script type=\"text/javascript\">\\r\\n    var showAdditionalCollectionInput = 0;\\r\\n</script>\\n<aside role=\"complementary\" class=\"nocols sets\">\\n<div class=\"tagsfilter\">\\n<div class=\"tags\">\\n<form><select><option>2020</option><option value=\"/sets/year-2025\">2025 (1)</option><option value=\"/sets/year-2024\">2024 (491)</option><option value=\"/sets/year-2023\">2023 (916)</option><option value=\"/sets/year-2022\">2022 (972)</option><option value=\"/sets/year-2021\">2021 (946)</option><option value=\"/sets/year-2019\">2019 (849)</option><option value=\"/sets/year-2018\">2018 (830)</option><option value=\"/sets/year-2017\">2017 (860)</option><option value=\"/sets/year-2016\">2016 (845)</option><option value=\"/sets/year-2015\">2015 (815)</option><option value=\"/sets/year-2014\">2014 (761)</option><option value=\"/sets/year-2013\">2013 (710)</option><option value=\"/sets/year-2012\">2012 (703)</option><option value=\"/sets/year-2011\">2011 (591)</option><option value=\"/sets/year-2010\">2010 (530)</option><option value=\"/sets/year-2009\">2009 (487)</option><option value=\"/sets/year-2008\">2008 (443)</option><option value=\"/sets/year-2007\">2007 (447)</option><option value=\"/sets/year-2006\">2006 (467)</option><option value=\"/sets/year-2005\">2005 (396)</option><option value=\"/sets/year-2004\">2004 (420)</option><option value=\"/sets/year-2003\">2003 (428)</option><option value=\"/sets/year-2002\">2002 (454)</option><option value=\"/sets/year-2001\">2001 (409)</option><option value=\"/sets/year-2000\">2000 (384)</option><option value=\"/sets/year-1999\">1999 (352)</option><option value=\"/sets/year-1998\">1998 (383)</option><option value=\"/sets/year-1997\">1997 (264)</option><option value=\"/sets/year-1996\">1996 (213)</option><option value=\"/sets/year-1995\">1995 (171)</option><option value=\"/sets/year-1994\">1994 (154)</option><option value=\"/sets/year-1993\">1993 (168)</option><option value=\"/sets/year-1992\">1992 (112)</option><option value=\"/sets/year-1991\">1991 (148)</option><option value=\"/sets/year-1990\">1990 (130)</option><option value=\"/sets/year-1989\">1989 (146)</option><option value=\"/sets/year-1988\">1988 (78)</option><option value=\"/sets/year-1987\">1987 (201)</option><option value=\"/sets/year-1986\">1986 (149)</option><option value=\"/sets/year-1985\">1985 (147)</option><option value=\"/sets/year-1984\">1984 (85)</option><option value=\"/sets/year-1983\">1983 (76)</option><option value=\"/sets/year-1982\">1982 (74)</option><option value=\"/sets/year-1981\">1981 (75)</option><option value=\"/sets/year-1980\">1980 (117)</option><option value=\"/sets/year-1979\">1979 (90)</option><option value=\"/sets/year-1978\">1978 (87)</option><option value=\"/sets/year-1977\">1977 (74)</option><option value=\"/sets/year-1976\">1976 (76)</option><option value=\"/sets/year-1975\">1975 (45)</option><option value=\"/sets/year-1974\">1974 (40)</option><option value=\"/sets/year-1973\">1973 (76)</option><option value=\"/sets/year-1972\">1972 (45)</option><option value=\"/sets/year-1971\">1971 (78)</option><option value=\"/sets/year-1970\">1970 (41)</option><option value=\"/sets/year-1969\">1969 (91)</option><option value=\"/sets/year-1968\">1968 (49)</option><option value=\"/sets/year-1967\">1967 (35)</option><option value=\"/sets/year-1966\">1966 (174)</option><option value=\"/sets/year-1965\">1965 (31)</option><option value=\"/sets/year-1964\">1964 (42)</option><option value=\"/sets/year-1963\">1963 (25)</option><option value=\"/sets/year-1962\">1962 (18)</option><option value=\"/sets/year-1961\">1961 (72)</option><option value=\"/sets/year-1960\">1960 (2)</option><option value=\"/sets/year-1959\">1959 (8)</option><option value=\"/sets/year-1958\">1958 (51)</option><option value=\"/sets/year-1957\">1957 (25)</option><option value=\"/sets/year-1956\">1956 (24)</option><option value=\"/sets/year-1955\">1955 (37)</option><option value=\"/sets/year-1954\">1954 (20)</option><option value=\"/sets/year-1953\">1953 (4)</option><option value=\"/sets/year-1950\">1950 (7)</option><option value=\"/sets/year-1949\">1949 (1)</option></select><a class=\"remove\" href=\"https://brickset.com/sets\">X</a></form>\\n</div>\\n<div class=\"addtags\">\\n<form><select><option>Theme</option><option value=\"/sets/year-2020/theme-Architecture\">Architecture (3)</option><option value=\"/sets/year-2020/theme-Art\">Art (4)</option><option value=\"/sets/year-2020/theme-Books\">Books (39)</option><option value=\"/sets/year-2020/theme-Brick-Sketches\">Brick Sketches (4)</option><option value=\"/sets/year-2020/theme-BrickHeadz\">BrickHeadz (13)</option><option value=\"/sets/year-2020/theme-City\">City (58)</option><option value=\"/sets/year-2020/theme-Classic\">Classic (7)</option><option value=\"/sets/year-2020/theme-Collectable-Minifigures\">Collectable Minifigures (58)</option><option value=\"/sets/year-2020/theme-Creator\">Creator (20)</option><option value=\"/sets/year-2020/theme-Creator-Expert\">Creator Expert (3)</option><option value=\"/sets/year-2020/theme-DC-Comics-Super-Heroes\">DC Comics Super Heroes (13)</option><option value=\"/sets/year-2020/theme-Disney\">Disney (22)</option><option value=\"/sets/year-2020/theme-Dots\">Dots (20)</option><option value=\"/sets/year-2020/theme-Duplo\">Duplo (23)</option><option value=\"/sets/year-2020/theme-Education\">Education (22)</option><option value=\"/sets/year-2020/theme-Friends\">Friends (58)</option><option value=\"/sets/year-2020/theme-Gear\">Gear (143)</option><option value=\"/sets/year-2020/theme-Harry-Potter\">Harry Potter (11)</option><option value=\"/sets/year-2020/theme-Hidden-Side\">Hidden Side (20)</option><option value=\"/sets/year-2020/theme-Icons\">Icons (5)</option><option value=\"/sets/year-2020/theme-Ideas\">Ideas (6)</option><option value=\"/sets/year-2020/theme-Jurassic-World\">Jurassic World (12)</option><option value=\"/sets/year-2020/theme-Marvel-Super-Heroes\">Marvel Super Heroes (26)</option><option value=\"/sets/year-2020/theme-Mindstorms\">Mindstorms (2)</option><option value=\"/sets/year-2020/theme-Minecraft\">Minecraft (10)</option><option value=\"/sets/year-2020/theme-Minions-The-Rise-of-Gru\">Minions: The Rise of Gru (2)</option><option value=\"/sets/year-2020/theme-Miscellaneous\">Miscellaneous (11)</option><option value=\"/sets/year-2020/theme-Monkie-Kid\">Monkie Kid (13)</option><option value=\"/sets/year-2020/theme-Ninjago\">Ninjago (49)</option><option value=\"/sets/year-2020/theme-Powered-Up\">Powered Up (3)</option><option value=\"/sets/year-2020/theme-Promotional\">Promotional (44)</option><option value=\"/sets/year-2020/theme-Seasonal\">Seasonal (16)</option><option value=\"/sets/year-2020/theme-Speed-Champions\">Speed Champions (7)</option><option value=\"/sets/year-2020/theme-Star-Wars\">Star Wars (47)</option><option value=\"/sets/year-2020/theme-Super-Mario\">Super Mario (32)</option><option value=\"/sets/year-2020/theme-Technic\">Technic (14)</option><option value=\"/sets/year-2020/theme-Trolls-World-Tour\">Trolls World Tour (9)</option><option value=\"/sets/year-2020/theme-Xtra\">Xtra (4)</option></select></form><form><select><option>Filter</option><option value=\"/sets/year-2020/filter-HasImage\">Has image (850)</option><option value=\"/sets/year-2020/filter-NoImage\">No image (3)</option><option value=\"/sets/year-2020/filter-Released\">Released (853)</option><option value=\"/sets/year-2020/filter-availableeu\">Available at LEGO.com (EU) (48)</option><option value=\"/sets/year-2020/filter-availablena\">Available at LEGO.com (NA) (68)</option><option value=\"/sets/year-2020/filter-wasavailableeu\">Was available at LEGO.com (EU) (431)</option><option value=\"/sets/year-2020/filter-wasavailablena\">Was available at LEGO.com (NA) (409)</option></select></form>\\n</div>\\n</div>\\n<div class=\"resultsfilter\">\\n<div class=\"results\">1 to 25 of 853 matches</div>\\n<ul class=\"pagelength\">\\n<li class=\"active\"><span>25</span></li><li><a href=\"#\">50</a></li><li><a href=\"#\">100</a></li><li><a href=\"#\">200</a></li>\\n</ul>\\n<form class=\"sort\">\\n<label for=\"sortby\">Sort by</label>\\n<select name=\"sortsetsby\" id=\"sortby\">\\n<option selected value=\"SetNumber\">Set number</option><option value=\"Name\">Set name</option><option value=\"Theme\">Theme</option><option value=\"Subtheme\">Subtheme</option><option value=\"YearFrom\">Year released</option><option value=\"YearFromDesc\">Year released (desc)</option><option value=\"LaunchDate\">Date released</option><option value=\"ExitDate\">Retirement date</option><option value=\"Pieces\">Number of pieces</option><option value=\"PiecesDesc\">Number of pieces (desc)</option><option value=\"Minifigs\">Number of minifigs</option><option value=\"MinifigsDesc\">Number of minifigs (desc)</option><option value=\"UniqueMinifigsDesc\">Number of unique minifigs (desc)</option><option value=\"Rating\">Overall rating</option><option value=\"RatingDesc\">Overall rating (desc)</option><option value=\"DateAdded\">Date added to the database</option><option value=\"OwnCountDesc\">Number who own (desc)</option><option value=\"WantCountDesc\">Number who want (desc)</option><option value=\"OwnAndWantCountDesc\">Number who own+want (desc)</option><option value=\"USRetailPrice\">Retail price (US)</option><option value=\"USRetailPriceDesc\">Retail price (US) (desc)</option><option value=\"SoldPriceNewDesc\">Value new (desc)</option><option value=\"SoldPriceUsedDesc\">Value used (desc)</option><option value=\"USPricePerPiece\">Price per piece (US)</option><option value=\"USPricePerPieceDesc\">Price per piece (US) (desc)</option><option value=\"Sequence\">Sequence</option><option value=\"SequenceDesc\">Sequence (desc)</option><option value=\"SetNumberDesc\">Set number (desc)</option><option value=\"Rank\">Search ranking</option>\\n</select>\\n</form>\\n<ul class=\"viewswitch\">\\n<li class=\"active\"><a href=\"#\">List</a></li><li><a href=\"#\">Gallery</a></li><li><a href=\"#\">Table</a></li>\\n</ul>\\n<div class=\"viewoptions\">\\n<a href=\"/parts/insets-list\" title=\"View all parts in these sets. It\\'ll take a while...\"><img src=\"/assets/images/icons/brick.png\" /> </a>\\n<a href=\"/minifigs/insets-list\" title=\"View all minifigs in these sets\"><img src=\"/assets/images/icons/minifighead.png\" /> </a>\\n<a href=\"/exportscripts/sets/list\" title=\"Download results as CSV\" class=\"hideonmediumscreen\"><img src=\"/assets/images/icons/download.png\" /></a>\\n</div>\\n<div>\\n<ul>\\n<li>\\n<a href=\"/profile/listpreferences\">Customise this list</a>: Hide tags and other sections, change colours and add additional collection management features\\n</li>\\n<li>\\n<a href=\"/profile/flagpreferences\">Add more collection management flags</a> to the \\'Your collection\\' section\\n</li>\\n</ul>\\n</div>\\n</div>\\n</aside>\\n<aside role=\"complementary\" class=\"nocols sets\">\\n<div class=\"browselinks\">\\n<div class=\"col\"><a href=\"/sets/year-2019\">&#171; 2019</a></div>\\n<div class=\"col\"></div>\\n<div class=\"col\"><a href=\"/sets/year-2021\">2021 &#187;</a></div>\\n</div>\\n</aside>\\n<div class=\"pagination\">\\n<ul class=\"pagelength\">\\n<li class=\"first\">\\n<span>&#171;</span>\\n</li>\\n<li class=\"previous\">\\n<span>&#8249;</span>\\n</li>\\n<li class=\"active\"><span>1</span></li> <li class=\"page\"><a href=\"https://brickset.com/sets/year-2020/page-2\">2</a></li> <li class=\"page\"><a href=\"https://brickset.com/sets/year-2020/page-3\">3</a></li> <li class=\"page\"><a href=\"https://brickset.com/sets/year-2020/page-4\">4</a></li> <li class=\"page\"><a href=\"https://brickset.com/sets/year-2020/page-5\">5</a></li> <li class=\"page\"><a href=\"https://brickset.com/sets/year-2020/page-6\">6</a></li> <li class=\"page\"><a href=\"https://brickset.com/sets/year-2020/page-7\">7</a></li>\\n<li class=\"next\">\\n<a href=\"https://brickset.com/sets/year-2020/page-2\">&#8250;</a>\\n</li>\\n<li class=\"last\">\\n<a href=\"https://brickset.com/sets/year-2020/page-35\">&#187;</a>\\n</li>\\n</ul>\\n</div>\\n<section class=\"setlist\">\\n<article class=\"set\">\\n<a href=\"https://images.brickset.com/sets/large/10270-1.jpg?201912060155\" class=\"highslide plain mainimg\" onclick=\"return hs.expand(this)\">\\n<img src=\"https://images.brickset.com/sets/small/10270-1.jpg?201912060155\" title=\"10270-1: Bookshop\" onError=\"this.src=\\'/assets/images/spacer2.png\\'\" loading=\"lazy\" alt=\"<h1>Bookshop</h1><div class=\\'tags floatleft\\'><a href=\\'/sets/10270-1/Bookshop\\'>10270-1</a> <a href=\\'/sets/theme-Creator-Expert\\'>Creator Expert</a> <a class=\\'subtheme\\' href=\\'/sets/subtheme-Modular-Buildings-Collection\\'>Modular Buildings Collection</a> <a class=\\'year\\' href=\\'/sets/theme-Creator-Expert/year-2020\\'>2020</a> </div><div class=\\'floatright\\'>&copy;2020 LEGO Group</div>\" />\\n</a><div class=\"highslide-caption\">\\n<h1>Bookshop</h1><div class=\"tags floatleft\"><a href=\"/sets/10270-1/Bookshop\">10270-1</a> <a href=\"/sets/theme-Creator-Expert\">Creator Expert</a> <a class=\"subtheme\" href=\"/sets/subtheme-Modular-Buildings-Collection\">Modular Buildings Collection</a> <a class=\"year\" href=\"/sets/theme-Creator-Expert/year-2020\">2020</a> </div><div class=\"floatright\">&copy;2020 LEGO Group</div>\\n<div class=\"pn\">\\n<a href=\"#\" onclick=\"return hs.previous(this)\" title=\"Previous (left arrow key)\">&#171; Previous</a>\\n<a href=\"#\" onclick=\"return hs.next(this)\" title=\"Next (right arrow key)\">Next &#187;</a>\\n</div>\\n</div>\\n<div class=\"meta\"><h1><a href=\"/sets/10270-1/Bookshop\"><span>10270: </span> Bookshop</a></h1><div class=\"tags\"><a href=\"/sets/10270-1/Bookshop\">10270-1</a> <a href=\"/sets/theme-Creator-Expert\">Creator Expert</a> <a class=\"subtheme\" href=\"/sets/subtheme-Modular-Buildings-Collection\">Modular Buildings Collection</a> <a class=\"year\" href=\"/sets/theme-Creator-Expert/year-2020\">2020</a> </div><div class=\"tags\"><div class=\"viewtags\"><a class=\"plain\" href=\"#\">View tags »</a></div><div id=\"tags29830\"><a href=\"/sets/tag-Apartment\">Apartment</a> <a href=\"/sets/tag-Baseplate\">Baseplate</a> <a href=\"/sets/tag-Bedroom\">Bedroom</a> <a href=\"/sets/tag-Bird\">Bird</a> <a href=\"/sets/tag-Book\">Book</a> <a href=\"/sets/tag-Brick-Built-Tree\">Brick Built Tree</a> <a href=\"/sets/tag-Brick-Separator\">Brick Separator</a> <a href=\"/sets/tag-Brickset-Awards-Finalist\">Brickset Awards Finalist</a> <a href=\"/sets/tag-Build-Together\">Build Together</a> <a href=\"/sets/tag-Chameleon\">Chameleon</a> <a href=\"/sets/tag-City\">City</a> <a href=\"/sets/tag-D2c\">D2c</a> <a href=\"/sets/tag-Fireplace\">Fireplace</a> <a href=\"/sets/tag-Garden\">Garden</a> <a href=\"/sets/tag-Lamppost\">Lamppost</a> <a href=\"/sets/tag-Modular-Building\">Modular Building</a> <a href=\"/sets/tag-Propeller-Aircraft\">Propeller Aircraft</a> <a href=\"/sets/tag-Shop\">Shop</a> </div></div><div class=\"rating\"><span><span class=\"full\">&#10029;</span><span class=\"full\">&#10029;</span><span class=\"full\">&#10029;</span><span class=\"full\">&#10029;</span><span class=\"empty\">&#10025;</span> 4.2</span> <a class=\"popuplink plain\" href=\"ratings?set=10270-1\">877 ratings</a> <a href=\"/reviews/set-10270-1\">7&nbsp;reviews</a> <a href=\"/article/47549\">Brickset review</a></div><div class=\"col\"><dl><dt>Pieces</dt><dd><a class=\"plain\" href=\"/inventories/10270-1\">2504</a></dd><dt>Minifigs</dt><dd><a class=\"plain\" href=\"/minifigs/in-10270-1\">5</a> (5 unique to this set)</dd><dt>Minifigs</dt><dd class=\"tags\"><a href=\"/minifigs/twn383\">twn383</a> <a href=\"/minifigs/twn384\">twn384</a> <a href=\"/minifigs/twn385\">twn385</a> <a href=\"/minifigs/twn386\">twn386</a> <a href=\"/minifigs/twn387\">twn387</a> </dd><dt>RRP</dt><dd>$199.99, €199.99 | <a class=\"popuplink plain\" href=\"prices?set=10270-1\">More</a></dd><dt>PPP</dt><dd>8.0c, 8.0c</dd><dt>Packaging</dt><dd>Box</dd><dt>Instructions</dt><dd><a class=\"popuplink plain\" href=\"instructions2?set=10270-1&s=1\">Yes</a></dd><dt>Additional images</dt><dd><a class=\"plain\" href=\"/sets/10270-1?more-images\">37</a></dd></dl></div><div class=\"col\"><dl><dt>Designer</dt><dd class=\"tags\"><a href=\"/sets/designer-Wes-Talbott\">Wes Talbott</a> </dd><dt>Launch/exit</dt><dd>1 Jan 2020 - 31 Dec 2023 (3y 11m 29d)</dd><dt>Value new</dt><dd><a class=\"plain\" href=\"https://www.bricklink.com/catalogPG.asp?S=10270-1-&colorID=0&v=D&viewExclude=Y&cID=Y\">~$177.01</a></dd><dt>Value used</dt><dd><a class=\"plain\" href=\"https://www.bricklink.com/catalogPG.asp?S=10270-1-&colorID=0&v=D&viewExclude=Y&cID=Y\">~$158.75</a></dd></dl><dl class=\"highlight\"></dl></div></div></dd></dl><div class=\"action\"><dl class=\"admin\"><dt class=\"hideingallery\">Our community</dt><dd class=\"hideingallery\">22221 own this set, 5573 want it</dd></dl><dl class=\"admin\"><dt class=\"hideingallery\">Your collection</dt><dd><a href=\"/signup\">Sign up</a> for a free account to record your LEGO collection here at Brickset.</dd></dl><dl class=\"buylinks\"><dt>Buy this set at</dt><dd><ul><li>\\n</li><li><a class=\"amazon\" href=\"https://www.amazon.com/gp/search?ie=UTF8&amp;tag=brickset-20&amp;linkCode=ur2&amp;linkId=8bc40397baeb4fbd44872856235b47d1&amp;camp=1789&amp;creative=9325&amp;index=toys-and-games&amp;keywords=LEGO%2010270\">Amazon</a>\\n</li><li>\\n</li><li>\\n<a class=\"bricklink\" href=\"http://alpha.bricklink.com/pages/clone/catalogitem.page?S=10270-1#T=S&O={&quot;ss&quot;:&quot;US&quot;}\">BrickLink</a>\\n</li></ul></dd></dl></div></article><article class=\"set\">\\n<a href=\"https://images.brickset.com/sets/large/10271-1.jpg?202003310820\" class=\"highslide plain mainimg\" onclick=\"return hs.expand(this)\">\\n<img src=\"https://images.brickset.com/sets/small/10271-1.jpg?202003310820\" title=\"10271-1: Fiat 500\" onError=\"this.src=\\'/assets/images/spacer2.png\\'\" loading=\"lazy\" alt=\"<h1>Fiat 500</h1><div class=\\'tags floatleft\\'><a href=\\'/sets/10271-1/Fiat-500\\'>10271-1</a> <a href=\\'/sets/theme-Creator-Expert\\'>Creator Expert</a> <a class=\\'subtheme\\' href=\\'/sets/subtheme-Vehicles\\'>Vehicles</a> <a class=\\'year\\' href=\\'/sets/theme-Creator-Expert/year-2020\\'>2020</a> </div><div class=\\'floatright\\'>&copy;2020 LEGO Group</div>\" />\\n</a><div class=\"highslide-caption\">\\n<h1>Fiat 500</h1><div class=\"tags floatleft\"><a href=\"/sets/10271-1/Fiat-500\">10271-1</a> <a href=\"/sets/theme-Creator-Expert\">Creator Expert</a> <a class=\"subtheme\" href=\"/sets/subtheme-Vehicles\">Vehicles</a> <a class=\"year\" href=\"/sets/theme-Creator-Expert/year-2020\">2020</a> </div><div class=\"floatright\">&copy;2020 LEGO Group</div>\\n<div class=\"pn\">\\n<a href=\"#\" onclick=\"return hs.previous(this)\" title=\"Previous (left arrow key)\">&#171; Previous</a>\\n<a href=\"#\" onclick=\"return hs.next(this)\" title=\"Next (right arrow key)\">Next &#187;</a>\\n</div>\\n</div>\\n<div class=\"meta\"><h1><a href=\"/sets/10271-1/Fiat-500\"><span>10271: </span> Fiat 500</a></h1><div class=\"tags\"><a href=\"/sets/10271-1/Fiat-500\">10271-1</a> <a href=\"/sets/theme-Creator-Expert\">Creator Expert</a> <a class=\"subtheme\" href=\"/sets/subtheme-Vehicles\">Vehicles</a> <a class=\"year\" href=\"/sets/theme-Creator-Expert/year-2020\">2020</a> </div><div class=\"tags\"><div class=\"viewtags\"><a class=\"plain\" href=\"#\">View tags »</a></div><div id=\"tags29962\"><a href=\"/sets/tag-12-Wide-Car\">12 Wide Car</a> <a href=\"/sets/tag-Brick-Separator\">Brick Separator</a> <a href=\"/sets/tag-Car\">Car</a> <a href=\"/sets/tag-D2c\">D2c</a> <a href=\"/sets/tag-Fiat\">Fiat</a> <a href=\"/sets/tag-Fine-Arts\">Fine Arts</a> <a href=\"/sets/tag-Italy\">Italy</a> <a href=\"/sets/tag-Large-Scale-Object\">Large Scale Object</a> <a href=\"/sets/tag-Large-Scale-Vehicle\">Large Scale Vehicle</a> </div></div><div class=\"rating\"><span><span class=\"full\">&#10029;</span><span class=\"full\">&#10029;</span><span class=\"full\">&#10029;</span><span class=\"full\">&#10029;</span><span class=\"empty\">&#10025;</span> 4.2</span> <a class=\"popuplink plain\" href=\"ratings?set=10271-1\">363 ratings</a> <a href=\"/reviews/set-10271-1\">1&nbsp;review</a> <a href=\"/article/49136\">Brickset review</a></div><div class=\"col\"><dl><dt>Pieces</dt><dd><a class=\"plain\" href=\"/inventories/10271-1\">960</a></dd><dt>RRP</dt><dd>$89.99, €79.99 | <a class=\"popuplink plain\" href=\"prices?set=10271-1\">More</a></dd><dt>PPP</dt><dd>9.4c, 8.3c</dd><dt>Packaging</dt><dd>Box</dd><dt>Instructions</dt><dd><a class=\"popuplink plain\" href=\"instructions2?set=10271-1&s=1\">Yes</a></dd><dt>Additional images</dt><dd><a class=\"plain\" href=\"/sets/10271-1?more-images\">37</a></dd></dl></div><div class=\"col\"><dl><dt>Designer</dt><dd class=\"tags\"><a href=\"/sets/designer-Pierre-Normandin\">Pierre Normandin</a> </dd><dt>Launch/exit</dt><dd>1 Mar 2020 - 31 Dec 2022 (2y 10m)</dd><dt>Value new</dt><dd><a class=\"plain\" href=\"https://www.bricklink.com/catalogPG.asp?S=10271-1-&colorID=0&v=D&viewExclude=Y&cID=Y\">~$87.19</a></dd><dt>Value used</dt><dd><a class=\"plain\" href=\"https://www.bricklink.com/catalogPG.asp?S=10271-1-&colorID=0&v=D&viewExclude=Y&cID=Y\">~$59.24</a></dd><dt>Related sets</dt><dd class=\"tags\">Similar to <a href=\"/sets/77942-1\">77942-1</a> </dd></dl><dl class=\"highlight\"></dl></div></div></dd></dl><div class=\"action\"><dl class=\"admin\"><dt class=\"hideingallery\">Our community</dt><dd class=\"hideingallery\">10675 own this set, 2407 want it</dd></dl><dl class=\"admin\"><dt class=\"hideingallery\">Your collection</dt><dd><a href=\"/signup\">Sign up</a> for a free account to record your LEGO collection here at Brickset.</dd></dl><dl class=\"buylinks\"><dt>Buy this set at</dt><dd><ul><li>\\n</li><li><a class=\"amazon\" href=\"https://www.amazon.com/gp/search?ie=UTF8&amp;tag=brickset-20&amp;linkCode=ur2&amp;linkId=8bc40397baeb4fbd44872856235b47d1&amp;camp=1789&amp;creative=9325&amp;index=toys-and-games&amp;keywords=LEGO%2010271\">Amazon</a>\\n</li><li>\\n</li><li>\\n<a class=\"bricklink\" href=\"http://alpha.bricklink.com/pages/clone/catalogitem.page?S=10271-1#T=S&O={&quot;ss&quot;:&quot;US&quot;}\">BrickLink</a>\\n</li></ul></dd></dl></div></article><article class=\"set\">\\n<a href=\"https://images.brickset.com/sets/large/10272-1.jpg?202001130159\" class=\"highslide plain mainimg\" onclick=\"return hs.expand(this)\">\\n<img src=\"https://images.brickset.com/sets/small/10272-1.jpg?202001130159\" title=\"10272-1: Old Trafford - Manchester United\" onError=\"this.src=\\'/assets/images/spacer2.png\\'\" loading=\"lazy\" alt=\"<h1>Old Trafford - Manchester United</h1><div class=\\'tags floatleft\\'><a href=\\'/sets/10272-1/Old-Trafford-Manchester-United\\'>10272-1</a> <a href=\\'/sets/theme-Creator-Expert\\'>Creator Expert</a> <a class=\\'subtheme\\' href=\\'/sets/subtheme-Stadiums\\'>Stadiums</a> <a class=\\'year\\' href=\\'/sets/theme-Creator-Expert/year-2020\\'>2020</a> </div><div class=\\'floatright\\'>&copy;2020 LEGO Group</div>\" />\\n</a><div class=\"highslide-caption\">\\n<h1>Old Trafford - Manchester United</h1><div class=\"tags floatleft\"><a href=\"/sets/10272-1/Old-Trafford-Manchester-United\">10272-1</a> <a href=\"/sets/theme-Creator-Expert\">Creator Expert</a> <a class=\"subtheme\" href=\"/sets/subtheme-Stadiums\">Stadiums</a> <a class=\"year\" href=\"/sets/theme-Creator-Expert/year-2020\">2020</a> </div><div class=\"floatright\">&copy;2020 LEGO Group</div>\\n<div class=\"pn\">\\n<a href=\"#\" onclick=\"return hs.previous(this)\" title=\"Previous (left arrow key)\">&#171; Previous</a>\\n<a href=\"#\" onclick=\"return hs.next(this)\" title=\"Next (right arrow key)\">Next &#187;</a>\\n</div>\\n</div>\\n<div class=\"meta\"><h1><a href=\"/sets/10272-1/Old-Trafford-Manchester-United\"><span>10272: </span> Old Trafford - Manchester United</a></h1><div class=\"tags\"><a href=\"/sets/10272-1/Old-Trafford-Manchester-United\">10272-1</a> <a href=\"/sets/theme-Creator-Expert\">Creator Expert</a> <a class=\"subtheme\" href=\"/sets/subtheme-Stadiums\">Stadiums</a> <a class=\"year\" href=\"/sets/theme-Creator-Expert/year-2020\">2020</a> </div><div class=\"tags\"><div class=\"viewtags\"><a class=\"plain\" href=\"#\">View tags »</a></div><div id=\"tags29878\"><a href=\"/sets/tag-Adidas\">Adidas</a> <a href=\"/sets/tag-Arena\">Arena</a> <a href=\"/sets/tag-Association-Football\">Association Football</a> <a href=\"/sets/tag-Brick-Separator\">Brick Separator</a> <a href=\"/sets/tag-D2c\">D2c</a> <a href=\"/sets/tag-Football\">Football</a> <a href=\"/sets/tag-Manchester-United\">Manchester United</a> <a href=\"/sets/tag-Microscale\">Microscale</a> <a href=\"/sets/tag-Nameplate\">Nameplate</a> <a href=\"/sets/tag-Nanofig\">Nanofig</a> <a href=\"/sets/tag-Scoreboard\">Scoreboard</a> <a href=\"/sets/tag-Soccer\">Soccer</a> <a href=\"/sets/tag-Spectator-Stand\">Spectator Stand</a> <a href=\"/sets/tag-Sports\">Sports</a> <a href=\"/sets/tag-Stadium\">Stadium</a> <a href=\"/sets/tag-Statue\">Statue</a> <a href=\"/sets/tag-Truck\">Truck</a> <a href=\"/sets/tag-United-Kingdom\">United Kingdom</a> </div></div><div class=\"rating\"><span><span class=\"full\">&#10029;</span><span class=\"full\">&#10029;</span><span class=\"full\">&#10029;</span><span class=\"full\">&#10029;</span><span class=\"half\">&#10029;</span> 4.3</span> <a class=\"popuplink plain\" href=\"ratings?set=10272-1\">92 ratings</a> <a href=\"/reviews/set-10272-1\">1&nbsp;review</a> <a href=\"/article/48356\">Brickset review</a></div><div class=\"col\"><dl><dt>Pieces</dt><dd><a class=\"plain\" href=\"/inventories/10272-1\">3898</a></dd><dt>RRP</dt><dd>$299.99, €279.99 | <a class=\"popuplink plain\" href=\"prices?set=10272-1\">More</a></dd><dt>PPP</dt><dd>7.7c, 7.2c</dd><dt>Packaging</dt><dd>Box</dd><dt>Instructions</dt><dd><a class=\"popuplink plain\" href=\"instructions2?set=10272-1&s=1\">Yes</a></dd><dt>Additional images</dt><dd><a class=\"plain\" href=\"/sets/10272-1?more-images\">14</a></dd></dl></div><div class=\"col\"><dl><dt>Designers</dt><dd class=\"tags\"><a href=\"/sets/designer-Carl-Merriam\">Carl Merriam</a> <a href=\"/sets/designer-Mike-Psiaki\">Mike Psiaki</a> </dd><dt>Launch/exit</dt><dd>1 Feb 2020 - 31 Dec 2022 (2y 10m 29d)</dd><dt>Value new</dt><dd><a class=\"plain\" href=\"https://www.bricklink.com/catalogPG.asp?S=10272-1-&colorID=0&v=D&viewExclude=Y&cID=Y\">~$328.68</a></dd><dt>Value used</dt><dd><a class=\"plain\" href=\"https://www.bricklink.com/catalogPG.asp?S=10272-1-&colorID=0&v=D&viewExclude=Y&cID=Y\">~$203.56</a></dd></dl><dl class=\"highlight\"></dl></div></div></dd></dl><div class=\"action\"><dl class=\"admin\"><dt class=\"hideingallery\">Our community</dt><dd class=\"hideingallery\">2651 own this set, 1479 want it</dd></dl><dl class=\"admin\"><dt class=\"hideingallery\">Your collection</dt><dd><a href=\"/signup\">Sign up</a> for a free account to record your LEGO collection here at Brickset.</dd></dl><dl class=\"buylinks\"><dt>Buy this set at</dt><dd><ul><li>\\n</li><li><a class=\"amazon\" href=\"https://www.amazon.com/gp/search?ie=UTF8&amp;tag=brickset-20&amp;linkCode=ur2&amp;linkId=8bc40397baeb4fbd44872856235b47d1&amp;camp=1789&amp;creative=9325&amp;index=toys-and-games&amp;keywords=LEGO%2010272\">Amazon</a>\\n</li><li>\\n</li><li>\\n<a class=\"bricklink\" href=\"http://alpha.bricklink.com/pages/clone/catalogitem.page?S=10272-1#T=S&O={&quot;ss&quot;:&quot;US&quot;}\">BrickLink</a>\\n</li></ul></dd></dl></div></article><article class=\"set\">\\n<a href=\"https://images.brickset.com/sets/large/10273-1.jpg?202005130214\" class=\"highslide plain mainimg\" onclick=\"return hs.expand(this)\">\\n<img src=\"https://images.brickset.com/sets/small/10273-1.jpg?202005130214\" title=\"10273-1: Haunted House\" onError=\"this.src=\\'/assets/images/spacer2.png\\'\" loading=\"lazy\" alt=\"<h1>Haunted House</h1><div class=\\'tags floatleft\\'><a href=\\'/sets/10273-1/Haunted-House\\'>10273-1</a> <a href=\\'/sets/theme-Icons\\'>Icons</a> <a class=\\'subtheme\\' href=\\'/sets/subtheme-Fairground-Collection\\'>Fairground Collection</a> <a class=\\'year\\' href=\\'/sets/theme-Icons/year-2020\\'>2020</a> </div><div class=\\'floatright\\'>&copy;2020 LEGO Group</div>\" />\\n</a><div class=\"highslide-caption\">\\n<h1>Haunted House</h1><div class=\"tags floatleft\"><a href=\"/sets/10273-1/Haunted-House\">10273-1</a> <a href=\"/sets/theme-Icons\">Icons</a> <a class=\"subtheme\" href=\"/sets/subtheme-Fairground-Collection\">Fairground Collection</a> <a class=\"year\" href=\"/sets/theme-Icons/year-2020\">2020</a> </div><div class=\"floatright\">&copy;2020 LEGO Group</div>\\n<div class=\"pn\">\\n<a href=\"#\" onclick=\"return hs.previous(this)\" title=\"Previous (left arrow key)\">&#171; Previous</a>\\n<a href=\"#\" onclick=\"return hs.next(this)\" title=\"Next (right arrow key)\">Next &#187;</a>\\n</div>\\n</div>\\n<div class=\"meta\"><h1><a href=\"/sets/10273-1/Haunted-House\"><span>10273: </span> Haunted House</a></h1><div class=\"tags\"><a href=\"/sets/10273-1/Haunted-House\">10273-1</a> <a href=\"/sets/theme-Icons\">Icons</a> <a class=\"subtheme\" href=\"/sets/subtheme-Fairground-Collection\">Fairground Collection</a> <a class=\"year\" href=\"/sets/theme-Icons/year-2020\">2020</a> </div><div class=\"tags\"><div class=\"viewtags\"><a class=\"plain\" href=\"#\">View tags »</a></div><div id=\"tags30315\"><a href=\"/sets/tag-18-Plus\">18 Plus</a> <a href=\"/sets/tag-Adventurers\">Adventurers</a> <a href=\"/sets/tag-Bat\">Bat</a> <a href=\"/sets/tag-Brick-Separator\">Brick Separator</a> <a href=\"/sets/tag-Brickset-Awards-Finalist\">Brickset Awards Finalist</a> <a href=\"/sets/tag-Chandelier\">Chandelier</a> <a href=\"/sets/tag-D2c\">D2c</a> <a href=\"/sets/tag-Disability\">Disability</a> <a href=\"/sets/tag-Drop-Tower\">Drop Tower</a> <a href=\"/sets/tag-Electric\">Electric</a> <a href=\"/sets/tag-Fairground\">Fairground</a> <a href=\"/sets/tag-House\">House</a> <a href=\"/sets/tag-Lift\">Lift</a> <a href=\"/sets/tag-Light-Brick\">Light Brick</a> <a href=\"/sets/tag-Piano\">Piano</a> <a href=\"/sets/tag-Pipe-Organ\">Pipe Organ</a> <a href=\"/sets/tag-Powered-Up-Compatible\">Powered Up Compatible</a> <a href=\"/sets/tag-Skeletons\">Skeletons</a> <a href=\"/sets/tag-Spooky\">Spooky</a> <a href=\"/sets/tag-Statue\">Statue</a> <a href=\"/sets/tag-Ticket-Counter\">Ticket Counter</a> <a href=\"/sets/tag-Wheelchair\">Wheelchair</a> </div></div><div class=\"rating\"><span><span class=\"full\">&#10029;</span><span class=\"full\">&#10029;</span><span class=\"full\">&#10029;</span><span class=\"full\">&#10029;</span><span class=\"half\">&#10029;</span> 4.4</span> <a class=\"popuplink plain\" href=\"ratings?set=10273-1\">357 ratings</a> <a href=\"/reviews/set-10273-1\">1&nbsp;review</a> <a href=\"/article/51510\">Brickset review</a></div><div class=\"col\"><dl><dt>Pieces</dt><dd><a class=\"plain\" href=\"/inventories/10273-1\">3231</a></dd><dt>Minifigs</dt><dd><a class=\"plain\" href=\"/minifigs/in-10273-1\">10</a> (10 unique to this set)</dd><dt>RRP</dt><dd>$299.99, €299.99 | <a class=\"popuplink plain\" href=\"prices?set=10273-1\">More</a></dd><dt>PPP</dt><dd>9.3c, 9.3c</dd><dt>Packaging</dt><dd>Box</dd><dt>Instructions</dt><dd><a class=\"popuplink plain\" href=\"instructions2?set=10273-1&s=1\">Yes</a></dd><dt>Additional images</dt><dd><a class=\"plain\" href=\"/sets/10273-1?more-images\">28</a></dd></dl></div><div class=\"col\"><dl><dt>Designer</dt><dd class=\"tags\"><a href=\"/sets/designer-Carl-Merriam\">Carl Merriam</a> </dd><dt>Launch/exit</dt><dd>1 Jun 2020 - 31 Dec 2023 (3y 6m 29d)</dd><dt>Value new</dt><dd><a class=\"plain\" href=\"https://www.bricklink.com/catalogPG.asp?S=10273-1-&colorID=0&v=D&viewExclude=Y&cID=Y\">~$242.90</a></dd><dt>Value used</dt><dd><a class=\"plain\" href=\"https://www.bricklink.com/catalogPG.asp?S=10273-1-&colorID=0&v=D&viewExclude=Y&cID=Y\">~$197.45</a></dd></dl><dl class=\"highlight\"></dl></div></div></dd></dl><div class=\"action\"><dl class=\"admin\"><dt class=\"hideingallery\">Our community</dt><dd class=\"hideingallery\">11669 own this set, 4532 want it</dd></dl><dl class=\"admin\"><dt class=\"hideingallery\">Your collection</dt><dd><a href=\"/signup\">Sign up</a> for a free account to record your LEGO collection here at Brickset.</dd></dl><dl class=\"buylinks\"><dt>Buy this set at</dt><dd><ul><li>\\n</li><li><a class=\"amazon\" href=\"https://www.amazon.com/gp/search?ie=UTF8&amp;tag=brickset-20&amp;linkCode=ur2&amp;linkId=8bc40397baeb4fbd44872856235b47d1&amp;camp=1789&amp;creative=9325&amp;index=toys-and-games&amp;keywords=LEGO%2010273\">Amazon</a>\\n</li><li>\\n</li><li>\\n<a class=\"bricklink\" href=\"http://alpha.bricklink.com/pages/clone/catalogitem.page?S=10273-1#T=S&O={&quot;ss&quot;:&quot;US&quot;}\">BrickLink</a>\\n</li></ul></dd></dl></div></article><article class=\"set\">\\n<a href=\"https://images.brickset.com/sets/large/10274-1.jpg?202005110757\" class=\"highslide plain mainimg\" onclick=\"return hs.expand(this)\">\\n<img src=\"https://images.brickset.com/sets/small/10274-1.jpg?202005110757\" title=\"10274-1: Ghostbusters ECTO-1\" onError=\"this.src=\\'/assets/images/spacer2.png\\'\" loading=\"lazy\" alt=\"<h1>Ghostbusters ECTO-1</h1><div class=\\'tags floatleft\\'><a href=\\'/sets/10274-1/Ghostbusters-ECTO-1\\'>10274-1</a> <a href=\\'/sets/theme-Icons\\'>Icons</a> <a class=\\'subtheme\\' href=\\'/sets/subtheme-Licensed\\'>Licensed</a> <a class=\\'year\\' href=\\'/sets/theme-Icons/year-2020\\'>2020</a> </div><div class=\\'floatright\\'>&copy;2020 LEGO Group</div>\" />\\n</a><div class=\"highslide-caption\">\\n<h1>Ghostbusters ECTO-1</h1><div class=\"tags floatleft\"><a href=\"/sets/10274-1/Ghostbusters-ECTO-1\">10274-1</a> <a href=\"/sets/theme-Icons\">Icons</a> <a class=\"subtheme\" href=\"/sets/subtheme-Licensed\">Licensed</a> <a class=\"year\" href=\"/sets/theme-Icons/year-2020\">2020</a> </div><div class=\"floatright\">&copy;2020 LEGO Group</div>\\n<div class=\"pn\">\\n<a href=\"#\" onclick=\"return hs.previous(this)\" title=\"Previous (left arrow key)\">&#171; Previous</a>\\n<a href=\"#\" onclick=\"return hs.next(this)\" title=\"Next (right arrow key)\">Next &#187;</a>\\n</div>\\n</div>\\n<div class=\"meta\"><h1><a href=\"/sets/10274-1/Ghostbusters-ECTO-1\"><span>10274: </span> Ghostbusters ECTO-1</a></h1><div class=\"tags\"><a href=\"/sets/10274-1/Ghostbusters-ECTO-1\">10274-1</a> <a href=\"/sets/theme-Icons\">Icons</a> <a class=\"subtheme\" href=\"/sets/subtheme-Licensed\">Licensed</a> <a class=\"year\" href=\"/sets/theme-Icons/year-2020\">2020</a> </div><div class=\"tags\"><div class=\"viewtags\"><a class=\"plain\" href=\"#\">View tags »</a></div><div id=\"tags30316\"><a href=\"/sets/tag-18-Plus\">18 Plus</a> <a href=\"/sets/tag-80S\">80S</a> <a href=\"/sets/tag-Ambulance\">Ambulance</a> <a href=\"/sets/tag-Brick-Separator\">Brick Separator</a> <a href=\"/sets/tag-Brickset-Awards-Finalist\">Brickset Awards Finalist</a> <a href=\"/sets/tag-Car\">Car</a> <a href=\"/sets/tag-Cart\">Cart</a> <a href=\"/sets/tag-D2c\">D2c</a> <a href=\"/sets/tag-Ecto-1\">Ecto 1</a> <a href=\"/sets/tag-Functional-Steering\">Functional Steering</a> <a href=\"/sets/tag-Ghostbusters\">Ghostbusters</a> <a href=\"/sets/tag-Ghostbusters-1984\">Ghostbusters 1984</a> <a href=\"/sets/tag-Ghostbusters-Afterlife\">Ghostbusters Afterlife</a> <a href=\"/sets/tag-Large-Scale-Vehicle\">Large Scale Vehicle</a> <a href=\"/sets/tag-Sony\">Sony</a> <a href=\"/sets/tag-Spooky\">Spooky</a> </div></div><div class=\"rating\"><span><span class=\"full\">&#10029;</span><span class=\"full\">&#10029;</span><span class=\"full\">&#10029;</span><span class=\"full\">&#10029;</span><span class=\"half\">&#10029;</span> 4.4</span> <a class=\"popuplink plain\" href=\"ratings?set=10274-1\">304 ratings</a> <a href=\"/reviews/set-10274-1\">2&nbsp;reviews</a></div><div class=\"col\"><dl><dt>Pieces</dt><dd><a class=\"plain\" href=\"/inventories/10274-1\">2352</a></dd><dt>RRP</dt><dd>$239.99, €239.99 | <a class=\"popuplink plain\" href=\"prices?set=10274-1\">More</a></dd><dt>PPP</dt><dd>10.2c, 10.2c</dd><dt>Packaging</dt><dd>Box</dd><dt>Instructions</dt><dd><a class=\"popuplink plain\" href=\"instructions2?set=10274-1&s=1\">Yes</a></dd><dt>Additional images</dt><dd><a class=\"plain\" href=\"/sets/10274-1?more-images\">27</a></dd></dl></div><div class=\"col\"><dl><dt>Designers</dt><dd class=\"tags\"><a href=\"/sets/designer-Carl-Merriam\">Carl Merriam</a> <a href=\"/sets/designer-Mike-Psiaki\">Mike Psiaki</a> </dd><dt>Launch/exit</dt><dd>15 Nov 2020 - {t.b.a}</dd></dl><dl class=\"highlight\"></dl></div></div></dd></dl><div class=\"action\"><dl class=\"admin\"><dt class=\"hideingallery\">Our community</dt><dd class=\"hideingallery\">12013 own this set, 3515 want it</dd></dl><dl class=\"admin\"><dt class=\"hideingallery\">Your collection</dt><dd><a href=\"/signup\">Sign up</a> for a free account to record your LEGO collection here at Brickset.</dd></dl><dl class=\"buylinks\"><dt>Buy this set at</dt><dd><ul><li>\\n<a class=\"lego\" href=\"/click/?s=10274\">LEGO</a></li><li><a class=\"amazon\" href=\"https://www.amazon.com/gp/search?ie=UTF8&amp;tag=brickset-20&amp;linkCode=ur2&amp;linkId=8bc40397baeb4fbd44872856235b47d1&amp;camp=1789&amp;creative=9325&amp;index=toys-and-games&amp;keywords=LEGO%2010274\">Amazon</a>\\n</li><li>\\n</li><li>\\n<a class=\"bricklink\" href=\"http://alpha.bricklink.com/pages/clone/catalogitem.page?S=10274-1#T=S&O={&quot;ss&quot;:&quot;US&quot;}\">BrickLink</a>\\n</li></ul></dd></dl></div></article><article class=\"set\">\\n<a href=\"https://images.brickset.com/sets/large/10275-1.jpg?202005110757\" class=\"highslide plain mainimg\" onclick=\"return hs.expand(this)\">\\n<img src=\"https://images.brickset.com/sets/small/10275-1.jpg?202005110757\" title=\"10275-1: Elf Club House\" onError=\"this.src=\\'/assets/images/spacer2.png\\'\" loading=\"lazy\" alt=\"<h1>Elf Club House</h1><div class=\\'tags floatleft\\'><a href=\\'/sets/10275-1/Elf-Club-House\\'>10275-1</a> <a href=\\'/sets/theme-Icons\\'>Icons</a> <a class=\\'subtheme\\' href=\\'/sets/subtheme-Winter-Village-Collection\\'>Winter Village Collection</a> <a class=\\'year\\' href=\\'/sets/theme-Icons/year-2020\\'>2020</a> </div><div class=\\'floatright\\'>&copy;2020 LEGO Group</div>\" />\\n</a><div class=\"highslide-caption\">\\n<h1>Elf Club House</h1><div class=\"tags floatleft\"><a href=\"/sets/10275-1/Elf-Club-House\">10275-1</a> <a href=\"/sets/theme-Icons\">Icons</a> <a class=\"subtheme\" href=\"/sets/subtheme-Winter-Village-Collection\">Winter Village Collection</a> <a class=\"year\" href=\"/sets/theme-Icons/year-2020\">2020</a> </div><div class=\"floatright\">&copy;2020 LEGO Group</div>\\n<div class=\"pn\">\\n<a href=\"#\" onclick=\"return hs.previous(this)\" title=\"Previous (left arrow key)\">&#171; Previous</a>\\n<a href=\"#\" onclick=\"return hs.next(this)\" title=\"Next (right arrow key)\">Next &#187;</a>\\n</div>\\n</div>\\n<div class=\"meta\"><h1><a href=\"/sets/10275-1/Elf-Club-House\"><span>10275: </span> Elf Club House</a></h1><div class=\"tags\"><a href=\"/sets/10275-1/Elf-Club-House\">10275-1</a> <a href=\"/sets/theme-Icons\">Icons</a> <a class=\"subtheme\" href=\"/sets/subtheme-Winter-Village-Collection\">Winter Village Collection</a> <a class=\"year\" href=\"/sets/theme-Icons/year-2020\">2020</a> </div><div class=\"tags\"><div class=\"viewtags\"><a class=\"plain\" href=\"#\">View tags »</a></div><div id=\"tags30317\"><a href=\"/sets/tag-18-Plus\">18 Plus</a> <a href=\"/sets/tag-Aircraft\">Aircraft</a> <a href=\"/sets/tag-Astronomy\">Astronomy</a> <a href=\"/sets/tag-Baked-Goods\">Baked Goods</a> <a href=\"/sets/tag-Bedroom\">Bedroom</a> <a href=\"/sets/tag-Brick-Built-Tree\">Brick Built Tree</a> <a href=\"/sets/tag-Brick-Separator\">Brick Separator</a> <a href=\"/sets/tag-Candy-Cane\">Candy Cane</a> <a href=\"/sets/tag-Christmas\">Christmas</a> <a href=\"/sets/tag-Christmas-Tree\">Christmas Tree</a> <a href=\"/sets/tag-D2c\">D2c</a> <a href=\"/sets/tag-Deer\">Deer</a> <a href=\"/sets/tag-House\">House</a> <a href=\"/sets/tag-Light-Brick\">Light Brick</a> <a href=\"/sets/tag-Microscale\">Microscale</a> <a href=\"/sets/tag-Musical\">Musical</a> <a href=\"/sets/tag-North-Pole\">North Pole</a> <a href=\"/sets/tag-Office\">Office</a> <a href=\"/sets/tag-Piano\">Piano</a> <a href=\"/sets/tag-Plane\">Plane</a> <a href=\"/sets/tag-Propeller-Aircraft\">Propeller Aircraft</a> <a href=\"/sets/tag-Seasonal\">Seasonal</a> <a href=\"/sets/tag-Ship\">Ship</a> <a href=\"/sets/tag-Sled\">Sled</a> <a href=\"/sets/tag-Winter-Village\">Winter Village</a> <a href=\"/sets/tag-Workshop\">Workshop</a> </div></div><div class=\"rating\"><span><span class=\"full\">&#10029;</span><span class=\"full\">&#10029;</span><span class=\"full\">&#10029;</span><span class=\"full\">&#10029;</span><span class=\"empty\">&#10025;</span> 4.1</span> <a class=\"popuplink plain\" href=\"ratings?set=10275-1\">331 ratings</a> <a href=\"/reviews/set-10275-1\">1&nbsp;review</a> <a href=\"/article/53838\">Brickset review</a></div><div class=\"col\"><dl><dt>Pieces</dt><dd><a class=\"plain\" href=\"/inventories/10275-1\">1197</a></dd><dt>Minifigs</dt><dd><a class=\"plain\" href=\"/minifigs/in-10275-1\">4</a> (4 unique to this set)</dd><dt>Minifigs</dt><dd class=\"tags\"><a href=\"/minifigs/hol203\">hol203</a> <a href=\"/minifigs/hol204\">hol204</a> <a href=\"/minifigs/hol205\">hol205</a> <a href=\"/minifigs/hol206\">hol206</a> </dd><dt>RRP</dt><dd>$99.99, €89.99 | <a class=\"popuplink plain\" href=\"prices?set=10275-1\">More</a></dd><dt>PPP</dt><dd>8.4c, 7.5c</dd><dt>Packaging</dt><dd>Box</dd><dt>Instructions</dt><dd><a class=\"popuplink plain\" href=\"instructions2?set=10275-1&s=1\">Yes</a></dd><dt>Additional images</dt><dd><a class=\"plain\" href=\"/sets/10275-1?more-images\">32</a></dd></dl></div><div class=\"col\"><dl><dt>Designer</dt><dd class=\"tags\"><a href=\"/sets/designer-Chris-McVeigh\">Chris McVeigh</a> </dd><dt>Launch/exit</dt><dd>1 Oct 2020 - 31 Dec 2022 (2y 2m 29d)</dd><dt>Value new</dt><dd><a class=\"plain\" href=\"https://www.bricklink.com/catalogPG.asp?S=10275-1-&colorID=0&v=D&viewExclude=Y&cID=Y\">~$100.17</a></dd><dt>Value used</dt><dd><a class=\"plain\" href=\"https://www.bricklink.com/catalogPG.asp?S=10275-1-&colorID=0&v=D&viewExclude=Y&cID=Y\">~$89.07</a></dd></dl><dl class=\"highlight\"></dl></div></div></dd></dl><div class=\"action\"><dl class=\"admin\"><dt class=\"hideingallery\">Our community</dt><dd class=\"hideingallery\">15112 own this set, 2618 want it</dd></dl><dl class=\"admin\"><dt class=\"hideingallery\">Your collection</dt><dd><a href=\"/signup\">Sign up</a> for a free account to record your LEGO collection here at Brickset.</dd></dl><dl class=\"buylinks\"><dt>Buy this set at</dt><dd><ul><li>\\n</li><li><a class=\"amazon\" href=\"https://www.amazon.com/gp/search?ie=UTF8&amp;tag=brickset-20&amp;linkCode=ur2&amp;linkId=8bc40397baeb4fbd44872856235b47d1&amp;camp=1789&amp;creative=9325&amp;index=toys-and-games&amp;keywords=LEGO%2010275\">Amazon</a>\\n</li><li>\\n</li><li>\\n<a class=\"bricklink\" href=\"http://alpha.bricklink.com/pages/clone/catalogitem.page?S=10275-1#T=S&O={&quot;ss&quot;:&quot;US&quot;}\">BrickLink</a>\\n</li></ul></dd></dl></div></article><article class=\"set\">\\n<a href=\"https://images.brickset.com/sets/large/10276-1.jpg?202005110758\" class=\"highslide plain mainimg\" onclick=\"return hs.expand(this)\">\\n<img src=\"https://images.brickset.com/sets/small/10276-1.jpg?202005110758\" title=\"10276-1: Colosseum\" onError=\"this.src=\\'/assets/images/spacer2.png\\'\" loading=\"lazy\" alt=\"<h1>Colosseum</h1><div class=\\'tags floatleft\\'><a href=\\'/sets/10276-1/Colosseum\\'>10276-1</a> <a href=\\'/sets/theme-Icons\\'>Icons</a> <a class=\\'subtheme\\' href=\\'/sets/subtheme-Landmarks\\'>Landmarks</a> <a class=\\'year\\' href=\\'/sets/theme-Icons/year-2020\\'>2020</a> </div><div class=\\'floatright\\'>&copy;2020 LEGO Group</div>\" />\\n</a><div class=\"highslide-caption\">\\n<h1>Colosseum</h1><div class=\"tags floatleft\"><a href=\"/sets/10276-1/Colosseum\">10276-1</a> <a href=\"/sets/theme-Icons\">Icons</a> <a class=\"subtheme\" href=\"/sets/subtheme-Landmarks\">Landmarks</a> <a class=\"year\" href=\"/sets/theme-Icons/year-2020\">2020</a> </div><div class=\"floatright\">&copy;2020 LEGO Group</div>\\n<div class=\"pn\">\\n<a href=\"#\" onclick=\"return hs.previous(this)\" title=\"Previous (left arrow key)\">&#171; Previous</a>\\n<a href=\"#\" onclick=\"return hs.next(this)\" title=\"Next (right arrow key)\">Next &#187;</a>\\n</div>\\n</div>\\n<div class=\"meta\"><h1><a href=\"/sets/10276-1/Colosseum\"><span>10276: </span> Colosseum</a></h1><div class=\"tags\"><a href=\"/sets/10276-1/Colosseum\">10276-1</a> <a href=\"/sets/theme-Icons\">Icons</a> <a class=\"subtheme\" href=\"/sets/subtheme-Landmarks\">Landmarks</a> <a class=\"year\" href=\"/sets/theme-Icons/year-2020\">2020</a> </div><div class=\"tags\"><div class=\"viewtags\"><a class=\"plain\" href=\"#\">View tags »</a></div><div id=\"tags30318\"><a href=\"/sets/tag-18-Plus\">18 Plus</a> <a href=\"/sets/tag-Arena\">Arena</a> <a href=\"/sets/tag-Black-Friday\">Black Friday</a> <a href=\"/sets/tag-Brick-Built-Tree\">Brick Built Tree</a> <a href=\"/sets/tag-Brick-Separator\">Brick Separator</a> <a href=\"/sets/tag-Car\">Car</a> <a href=\"/sets/tag-Classical-Period\">Classical Period</a> <a href=\"/sets/tag-D2c\">D2c</a> <a href=\"/sets/tag-Display-Stand\">Display Stand</a> <a href=\"/sets/tag-Historic\">Historic</a> <a href=\"/sets/tag-Italy\">Italy</a> <a href=\"/sets/tag-Microscale\">Microscale</a> <a href=\"/sets/tag-Roman\">Roman</a> </div></div><div class=\"rating\"><span><span class=\"full\">&#10029;</span><span class=\"full\">&#10029;</span><span class=\"full\">&#10029;</span><span class=\"full\">&#10029;</span><span class=\"half\">&#10029;</span> 4.3</span> <a class=\"popuplink plain\" href=\"ratings?set=10276-1\">95 ratings</a> <a href=\"/reviews/set-10276-1\">1&nbsp;review</a> <a href=\"/article/54267\">Brickset review</a></div><div class=\"col\"><dl><dt>Pieces</dt><dd><a class=\"plain\" href=\"/inventories/10276-1\">9036</a></dd><dt>RRP</dt><dd>$549.99, €549.99 | <a class=\"popuplink plain\" href=\"prices?set=10276-1\">More</a></dd><dt>PPP</dt><dd>6.1c, 6.1c</dd><dt>Packaging</dt><dd>Box</dd><dt>Instructions</dt><dd><a class=\"popuplink plain\" href=\"instructions2?set=10276-1&s=1\">Yes</a></dd><dt>Additional images</dt><dd><a class=\"plain\" href=\"/sets/10276-1?more-images\">20</a></dd></dl></div><div class=\"col\"><dl><dt>Designer</dt><dd class=\"tags\"><a href=\"/sets/designer-Rok-Zgalin-Kobe\">Rok Zgalin Kobe</a> </dd><dt>Launch/exit</dt><dd>27 Nov 2020 - 31 Dec 2023 (3y 1m 2d)</dd><dt>Value new</dt><dd><a class=\"plain\" href=\"https://www.bricklink.com/catalogPG.asp?S=10276-1-&colorID=0&v=D&viewExclude=Y&cID=Y\">~$542.35</a></dd><dt>Value used</dt><dd><a class=\"plain\" href=\"https://www.bricklink.com/catalogPG.asp?S=10276-1-&colorID=0&v=D&viewExclude=Y&cID=Y\">~$425.20</a></dd></dl><dl class=\"highlight\"></dl></div></div></dd></dl><div class=\"action\"><dl class=\"admin\"><dt class=\"hideingallery\">Our community</dt><dd class=\"hideingallery\">3353 own this set, 3410 want it</dd></dl><dl class=\"admin\"><dt class=\"hideingallery\">Your collection</dt><dd><a href=\"/signup\">Sign up</a> for a free account to record your LEGO collection here at Brickset.</dd></dl><dl class=\"buylinks\"><dt>Buy this set at</dt><dd><ul><li>\\n</li><li><a class=\"amazon\" href=\"https://www.amazon.com/gp/search?ie=UTF8&amp;tag=brickset-20&amp;linkCode=ur2&amp;linkId=8bc40397baeb4fbd44872856235b47d1&amp;camp=1789&amp;creative=9325&amp;index=toys-and-games&amp;keywords=LEGO%2010276\">Amazon</a>\\n</li><li>\\n</li><li>\\n<a class=\"bricklink\" href=\"http://alpha.bricklink.com/pages/clone/catalogitem.page?S=10276-1#T=S&O={&quot;ss&quot;:&quot;US&quot;}\">BrickLink</a>\\n</li></ul></dd></dl></div></article><article class=\"set\">\\n<a href=\"https://images.brickset.com/sets/large/10277-1.jpg?202006191042\" class=\"highslide plain mainimg\" onclick=\"return hs.expand(this)\">\\n<img src=\"https://images.brickset.com/sets/small/10277-1.jpg?202006191042\" title=\"10277-1: Crocodile Locomotive\" onError=\"this.src=\\'/assets/images/spacer2.png\\'\" loading=\"lazy\" alt=\"<h1>Crocodile Locomotive</h1><div class=\\'tags floatleft\\'><a href=\\'/sets/10277-1/Crocodile-Locomotive\\'>10277-1</a> <a href=\\'/sets/theme-Icons\\'>Icons</a> <a class=\\'subtheme\\' href=\\'/sets/subtheme-Trains\\'>Trains</a> <a class=\\'year\\' href=\\'/sets/theme-Icons/year-2020\\'>2020</a> </div><div class=\\'floatright\\'>&copy;2020 LEGO Group</div>\" />\\n</a><div class=\"highslide-caption\">\\n<h1>Crocodile Locomotive</h1><div class=\"tags floatleft\"><a href=\"/sets/10277-1/Crocodile-Locomotive\">10277-1</a> <a href=\"/sets/theme-Icons\">Icons</a> <a class=\"subtheme\" href=\"/sets/subtheme-Trains\">Trains</a> <a class=\"year\" href=\"/sets/theme-Icons/year-2020\">2020</a> </div><div class=\"floatright\">&copy;2020 LEGO Group</div>\\n<div class=\"pn\">\\n<a href=\"#\" onclick=\"return hs.previous(this)\" title=\"Previous (left arrow key)\">&#171; Previous</a>\\n<a href=\"#\" onclick=\"return hs.next(this)\" title=\"Next (right arrow key)\">Next &#187;</a>\\n</div>\\n</div>\\n<div class=\"meta\"><h1><a href=\"/sets/10277-1/Crocodile-Locomotive\"><span>10277: </span> Crocodile Locomotive</a></h1><div class=\"tags\"><a href=\"/sets/10277-1/Crocodile-Locomotive\">10277-1</a> <a href=\"/sets/theme-Icons\">Icons</a> <a class=\"subtheme\" href=\"/sets/subtheme-Trains\">Trains</a> <a class=\"year\" href=\"/sets/theme-Icons/year-2020\">2020</a> </div><div class=\"tags\"><div class=\"viewtags\"><a class=\"plain\" href=\"#\">View tags »</a></div><div id=\"tags30319\"><a href=\"/sets/tag-18-Plus\">18 Plus</a> <a href=\"/sets/tag-Brick-Separator\">Brick Separator</a> <a href=\"/sets/tag-Brickset-Awards-Finalist\">Brickset Awards Finalist</a> <a href=\"/sets/tag-D2c\">D2c</a> <a href=\"/sets/tag-Display-Stand\">Display Stand</a> <a href=\"/sets/tag-Display-Train\">Display Train</a> <a href=\"/sets/tag-Electric-Locomotive\">Electric Locomotive</a> <a href=\"/sets/tag-Info-Plaque\">Info Plaque</a> <a href=\"/sets/tag-Nameplate\">Nameplate</a> <a href=\"/sets/tag-Powered-Up-Compatible\">Powered Up Compatible</a> <a href=\"/sets/tag-Train\">Train</a> <a href=\"/sets/tag-Train-Track\">Train Track</a> <a href=\"/sets/tag-Vignette\">Vignette</a> </div></div><div class=\"rating\"><span><span class=\"full\">&#10029;</span><span class=\"full\">&#10029;</span><span class=\"full\">&#10029;</span><span class=\"full\">&#10029;</span><span class=\"half\">&#10029;</span> 4.3</span> <a class=\"popuplink plain\" href=\"ratings?set=10277-1\">262 ratings</a> <a href=\"/reviews/set-10277-1\">5&nbsp;reviews</a> <a href=\"/article/52026\">Brickset review</a></div><div class=\"col\"><dl><dt>Pieces</dt><dd><a class=\"plain\" href=\"/inventories/10277-1\">1271</a></dd><dt>Minifigs</dt><dd><a class=\"plain\" href=\"/minifigs/in-10277-1\">2</a> (2 unique to this set)</dd><dt>Minifigs</dt><dd class=\"tags\"><a href=\"/minifigs/trn253\">trn253</a> <a href=\"/minifigs/trn254\">trn254</a> </dd><dt>RRP</dt><dd>$99.99, €99.99 | <a class=\"popuplink plain\" href=\"prices?set=10277-1\">More</a></dd><dt>PPP</dt><dd>7.9c, 7.9c</dd><dt>Packaging</dt><dd>Box</dd><dt>Instructions</dt><dd><a class=\"popuplink plain\" href=\"instructions2?set=10277-1&s=1\">Yes</a></dd><dt>Additional images</dt><dd><a class=\"plain\" href=\"/sets/10277-1?more-images\">25</a></dd></dl></div><div class=\"col\"><dl><dt>Designer</dt><dd class=\"tags\"><a href=\"/sets/designer-Pierre-Normandin\">Pierre Normandin</a> </dd><dt>Launch/exit</dt><dd>1 Jul 2020 - 31 Dec 2021 (1y 6m)</dd><dt>Value new</dt><dd><a class=\"plain\" href=\"https://www.bricklink.com/catalogPG.asp?S=10277-1-&colorID=0&v=D&viewExclude=Y&cID=Y\">~$134.40</a></dd><dt>Value used</dt><dd><a class=\"plain\" href=\"https://www.bricklink.com/catalogPG.asp?S=10277-1-&colorID=0&v=D&viewExclude=Y&cID=Y\">~$105.41</a></dd></dl><dl class=\"highlight\"></dl></div></div></dd></dl><div class=\"action\"><dl class=\"admin\"><dt class=\"hideingallery\">Our community</dt><dd class=\"hideingallery\">8120 own this set, 2455 want it</dd></dl><dl class=\"admin\"><dt class=\"hideingallery\">Your collection</dt><dd><a href=\"/signup\">Sign up</a> for a free account to record your LEGO collection here at Brickset.</dd></dl><dl class=\"buylinks\"><dt>Buy this set at</dt><dd><ul><li>\\n</li><li><a class=\"amazon\" href=\"https://www.amazon.com/gp/search?ie=UTF8&amp;tag=brickset-20&amp;linkCode=ur2&amp;linkId=8bc40397baeb4fbd44872856235b47d1&amp;camp=1789&amp;creative=9325&amp;index=toys-and-games&amp;keywords=LEGO%2010277\">Amazon</a>\\n</li><li>\\n</li><li>\\n<a class=\"bricklink\" href=\"http://alpha.bricklink.com/pages/clone/catalogitem.page?S=10277-1#T=S&O={&quot;ss&quot;:&quot;US&quot;}\">BrickLink</a>\\n</li></ul></dd></dl></div></article><article class=\"set\">\\n<a href=\"https://images.brickset.com/sets/large/10909-1.jpg?201912050531\" class=\"highslide plain mainimg\" onclick=\"return hs.expand(this)\">\\n<img src=\"https://images.brickset.com/sets/small/10909-1.jpg?201912050531\" title=\"10909-1: Heart Box\" onError=\"this.src=\\'/assets/images/spacer2.png\\'\" loading=\"lazy\" alt=\"<h1>Heart Box</h1><div class=\\'tags floatleft\\'><a href=\\'/sets/10909-1/Heart-Box\\'>10909-1</a> <a href=\\'/sets/theme-Duplo\\'>Duplo</a> <a class=\\'year\\' href=\\'/sets/theme-Duplo/year-2020\\'>2020</a> </div><div class=\\'floatright\\'>&copy;2020 LEGO Group</div>\" />\\n</a><div class=\"highslide-caption\">\\n<h1>Heart Box</h1><div class=\"tags floatleft\"><a href=\"/sets/10909-1/Heart-Box\">10909-1</a> <a href=\"/sets/theme-Duplo\">Duplo</a> <a class=\"year\" href=\"/sets/theme-Duplo/year-2020\">2020</a> </div><div class=\"floatright\">&copy;2020 LEGO Group</div>\\n<div class=\"pn\">\\n<a href=\"#\" onclick=\"return hs.previous(this)\" title=\"Previous (left arrow key)\">&#171; Previous</a>\\n<a href=\"#\" onclick=\"return hs.next(this)\" title=\"Next (right arrow key)\">Next &#187;</a>\\n</div>\\n</div>\\n<div class=\"meta\"><h1><a href=\"/sets/10909-1/Heart-Box\"><span>10909: </span> Heart Box</a></h1><div class=\"tags\"><a href=\"/sets/10909-1/Heart-Box\">10909-1</a> <a href=\"/sets/theme-Duplo\">Duplo</a> <a class=\"year\" href=\"/sets/theme-Duplo/year-2020\">2020</a> </div><div class=\"tags\"><div class=\"viewtags\"><a class=\"plain\" href=\"#\">View tags »</a></div><div id=\"tags29752\"></div></div><div class=\"rating\"></div><div class=\"col\"><dl><dt>Pieces</dt><dd><a class=\"plain\" href=\"/inventories/10909-1\">80</a></dd><dt>RRP</dt><dd>$19.99, €19.99 | <a class=\"popuplink plain\" href=\"prices?set=10909-1\">More</a></dd><dt>PPP</dt><dd>25.0c, 25.0c</dd><dt>Packaging</dt><dd>Box</dd><dt>Instructions</dt><dd><a class=\"popuplink plain\" href=\"instructions2?set=10909-1&s=1\">Yes</a></dd><dt>Additional images</dt><dd><a class=\"plain\" href=\"/sets/10909-1?more-images\">4</a></dd></dl></div><div class=\"col\"><dl><dt>Launch/exit</dt><dd>1 Jan 2020 - 31 Dec 2022 (2y 11m 29d)</dd></dl><dl class=\"highlight\"></dl></div></div></dd></dl><div class=\"action\"><dl class=\"admin\"><dt class=\"hideingallery\">Our community</dt><dd class=\"hideingallery\">404 own this set, 44 want it</dd></dl><dl class=\"admin\"><dt class=\"hideingallery\">Your collection</dt><dd><a href=\"/signup\">Sign up</a> for a free account to record your LEGO collection here at Brickset.</dd></dl><dl class=\"buylinks\"><dt>Buy this set at</dt><dd><ul><li>\\n<a class=\"lego\" href=\"/click/?s=10909\">LEGO</a></li><li><a class=\"amazon\" href=\"https://www.amazon.com/gp/search?ie=UTF8&amp;tag=brickset-20&amp;linkCode=ur2&amp;linkId=8bc40397baeb4fbd44872856235b47d1&amp;camp=1789&amp;creative=9325&amp;index=toys-and-games&amp;keywords=LEGO%2010909\">Amazon</a>\\n</li><li>\\n</li><li>\\n<a class=\"bricklink\" href=\"http://alpha.bricklink.com/pages/clone/catalogitem.page?S=10909-1#T=S&O={&quot;ss&quot;:&quot;US&quot;}\">BrickLink</a>\\n</li></ul></dd></dl></div></article><article class=\"set\">\\n<a href=\"https://images.brickset.com/sets/large/10913-1.jpg?201912050531\" class=\"highslide plain mainimg\" onclick=\"return hs.expand(this)\">\\n<img src=\"https://images.brickset.com/sets/small/10913-1.jpg?201912050531\" title=\"10913-1: Brick Box\" onError=\"this.src=\\'/assets/images/spacer2.png\\'\" loading=\"lazy\" alt=\"<h1>Brick Box</h1><div class=\\'tags floatleft\\'><a href=\\'/sets/10913-1/Brick-Box\\'>10913-1</a> <a href=\\'/sets/theme-Duplo\\'>Duplo</a> <a class=\\'year\\' href=\\'/sets/theme-Duplo/year-2020\\'>2020</a> </div><div class=\\'floatright\\'>&copy;2020 LEGO Group</div>\" />\\n</a><div class=\"highslide-caption\">\\n<h1>Brick Box</h1><div class=\"tags floatleft\"><a href=\"/sets/10913-1/Brick-Box\">10913-1</a> <a href=\"/sets/theme-Duplo\">Duplo</a> <a class=\"year\" href=\"/sets/theme-Duplo/year-2020\">2020</a> </div><div class=\"floatright\">&copy;2020 LEGO Group</div>\\n<div class=\"pn\">\\n<a href=\"#\" onclick=\"return hs.previous(this)\" title=\"Previous (left arrow key)\">&#171; Previous</a>\\n<a href=\"#\" onclick=\"return hs.next(this)\" title=\"Next (right arrow key)\">Next &#187;</a>\\n</div>\\n</div>\\n<div class=\"meta\"><h1><a href=\"/sets/10913-1/Brick-Box\"><span>10913: </span> Brick Box</a></h1><div class=\"tags\"><a href=\"/sets/10913-1/Brick-Box\">10913-1</a> <a href=\"/sets/theme-Duplo\">Duplo</a> <a class=\"year\" href=\"/sets/theme-Duplo/year-2020\">2020</a> </div><div class=\"tags\"><div class=\"viewtags\"><a class=\"plain\" href=\"#\">View tags »</a></div><div id=\"tags29753\"><a href=\"/sets/tag-Baked-Goods\">Baked Goods</a> <a href=\"/sets/tag-Brick-Box\">Brick Box</a> <a href=\"/sets/tag-Car\">Car</a> </div></div><div class=\"rating\"></div><div class=\"col\"><dl><dt>Pieces</dt><dd><a class=\"plain\" href=\"/inventories/10913-1\">65</a></dd><dt>Minifigs</dt><dd><a class=\"plain\" href=\"/minifigs/in-10913-1\">2</a> </dd><dt>Minifigs</dt><dd class=\"tags\"><a href=\"/minifigs/47205pb068\">47205pb068</a> <a href=\"/minifigs/47205pb069\">47205pb069</a> </dd><dt>RRP</dt><dd>$29.99, €29.99 | <a class=\"popuplink plain\" href=\"prices?set=10913-1\">More</a></dd><dt>PPP</dt><dd>46.1c, 46.1c</dd><dt>Packaging</dt><dd>Tub</dd><dt>Instructions</dt><dd><a class=\"popuplink plain\" href=\"instructions2?set=10913-1&s=1\">Yes</a></dd><dt>Additional images</dt><dd><a class=\"plain\" href=\"/sets/10913-1?more-images\">4</a></dd></dl></div><div class=\"col\"><dl><dt>Launch/exit</dt><dd>1 Jan 2020 - {t.b.a}</dd></dl><dl class=\"highlight\"></dl></div></div></dd></dl><div class=\"action\"><dl class=\"admin\"><dt class=\"hideingallery\">Our community</dt><dd class=\"hideingallery\">480 own this set, 42 want it</dd></dl><dl class=\"admin\"><dt class=\"hideingallery\">Your collection</dt><dd><a href=\"/signup\">Sign up</a> for a free account to record your LEGO collection here at Brickset.</dd></dl><dl class=\"buylinks\"><dt>Buy this set at</dt><dd><ul><li>\\n<a class=\"lego\" href=\"/click/?s=10913\">LEGO</a></li><li><a class=\"amazon\" href=\"https://www.amazon.com/gp/search?ie=UTF8&amp;tag=brickset-20&amp;linkCode=ur2&amp;linkId=8bc40397baeb4fbd44872856235b47d1&amp;camp=1789&amp;creative=9325&amp;index=toys-and-games&amp;keywords=LEGO%2010913\">Amazon</a>\\n</li><li>\\n</li><li>\\n<a class=\"bricklink\" href=\"http://alpha.bricklink.com/pages/clone/catalogitem.page?S=10913-1#T=S&O={&quot;ss&quot;:&quot;US&quot;}\">BrickLink</a>\\n</li></ul></dd></dl></div></article><article class=\"set\">\\n<a href=\"https://images.brickset.com/sets/large/10914-1.jpg?201912050531\" class=\"highslide plain mainimg\" onclick=\"return hs.expand(this)\">\\n<img src=\"https://images.brickset.com/sets/small/10914-1.jpg?201912050531\" title=\"10914-1: Deluxe Brick Box\" onError=\"this.src=\\'/assets/images/spacer2.png\\'\" loading=\"lazy\" alt=\"<h1>Deluxe Brick Box</h1><div class=\\'tags floatleft\\'><a href=\\'/sets/10914-1/Deluxe-Brick-Box\\'>10914-1</a> <a href=\\'/sets/theme-Duplo\\'>Duplo</a> <a class=\\'year\\' href=\\'/sets/theme-Duplo/year-2020\\'>2020</a> </div><div class=\\'floatright\\'>&copy;2020 LEGO Group</div>\" />\\n</a><div class=\"highslide-caption\">\\n<h1>Deluxe Brick Box</h1><div class=\"tags floatleft\"><a href=\"/sets/10914-1/Deluxe-Brick-Box\">10914-1</a> <a href=\"/sets/theme-Duplo\">Duplo</a> <a class=\"year\" href=\"/sets/theme-Duplo/year-2020\">2020</a> </div><div class=\"floatright\">&copy;2020 LEGO Group</div>\\n<div class=\"pn\">\\n<a href=\"#\" onclick=\"return hs.previous(this)\" title=\"Previous (left arrow key)\">&#171; Previous</a>\\n<a href=\"#\" onclick=\"return hs.next(this)\" title=\"Next (right arrow key)\">Next &#187;</a>\\n</div>\\n</div>\\n<div class=\"meta\"><h1><a href=\"/sets/10914-1/Deluxe-Brick-Box\"><span>10914: </span> Deluxe Brick Box</a></h1><div class=\"tags\"><a href=\"/sets/10914-1/Deluxe-Brick-Box\">10914-1</a> <a href=\"/sets/theme-Duplo\">Duplo</a> <a class=\"year\" href=\"/sets/theme-Duplo/year-2020\">2020</a> </div><div class=\"tags\"><div class=\"viewtags\"><a class=\"plain\" href=\"#\">View tags »</a></div><div id=\"tags29754\"><a href=\"/sets/tag-Car\">Car</a> <a href=\"/sets/tag-Dog\">Dog</a> <a href=\"/sets/tag-Slide\">Slide</a> <a href=\"/sets/tag-Swing\">Swing</a> </div></div><div class=\"rating\"></div><div class=\"col\"><dl><dt>Pieces</dt><dd><a class=\"plain\" href=\"/inventories/10914-1\">85</a></dd><dt>Minifigs</dt><dd><a class=\"plain\" href=\"/minifigs/in-10914-1\">2</a> </dd><dt>Minifigs</dt><dd class=\"tags\"><a href=\"/minifigs/47205pb072\">47205pb072</a> <a href=\"/minifigs/47205pb074\">47205pb074</a> </dd><dt>RRP</dt><dd>$49.99, €49.99 | <a class=\"popuplink plain\" href=\"prices?set=10914-1\">More</a></dd><dt>PPP</dt><dd>58.8c, 58.8c</dd><dt>Packaging</dt><dd>Tub</dd><dt>Instructions</dt><dd><a class=\"popuplink plain\" href=\"instructions2?set=10914-1&s=1\">Yes</a></dd><dt>Additional images</dt><dd><a class=\"plain\" href=\"/sets/10914-1?more-images\">3</a></dd></dl></div><div class=\"col\"><dl><dt>Launch/exit</dt><dd>1 Jan 2020 - {t.b.a}</dd></dl><dl class=\"highlight\"></dl></div></div></dd></dl><div class=\"action\"><dl class=\"admin\"><dt class=\"hideingallery\">Our community</dt><dd class=\"hideingallery\">296 own this set, 48 want it</dd></dl><dl class=\"admin\"><dt class=\"hideingallery\">Your collection</dt><dd><a href=\"/signup\">Sign up</a> for a free account to record your LEGO collection here at Brickset.</dd></dl><dl class=\"buylinks\"><dt>Buy this set at</dt><dd><ul><li>\\n<a class=\"lego\" href=\"/click/?s=10914\">LEGO</a></li><li><a class=\"amazon\" href=\"https://www.amazon.com/gp/search?ie=UTF8&amp;tag=brickset-20&amp;linkCode=ur2&amp;linkId=8bc40397baeb4fbd44872856235b47d1&amp;camp=1789&amp;creative=9325&amp;index=toys-and-games&amp;keywords=LEGO%2010914\">Amazon</a>\\n</li><li>\\n</li><li>\\n<a class=\"bricklink\" href=\"http://alpha.bricklink.com/pages/clone/catalogitem.page?S=10914-1#T=S&O={&quot;ss&quot;:&quot;US&quot;}\">BrickLink</a>\\n</li></ul></dd></dl></div></article><article class=\"set\">\\n<a href=\"https://images.brickset.com/sets/large/10915-1.jpg?201912050531\" class=\"highslide plain mainimg\" onclick=\"return hs.expand(this)\">\\n<img src=\"https://images.brickset.com/sets/small/10915-1.jpg?201912050531\" title=\"10915-1: Alphabet Truck\" onError=\"this.src=\\'/assets/images/spacer2.png\\'\" loading=\"lazy\" alt=\"<h1>Alphabet Truck</h1><div class=\\'tags floatleft\\'><a href=\\'/sets/10915-1/Alphabet-Truck\\'>10915-1</a> <a href=\\'/sets/theme-Duplo\\'>Duplo</a> <a class=\\'year\\' href=\\'/sets/theme-Duplo/year-2020\\'>2020</a> </div><div class=\\'floatright\\'>&copy;2020 LEGO Group</div>\" />\\n</a><div class=\"highslide-caption\">\\n<h1>Alphabet Truck</h1><div class=\"tags floatleft\"><a href=\"/sets/10915-1/Alphabet-Truck\">10915-1</a> <a href=\"/sets/theme-Duplo\">Duplo</a> <a class=\"year\" href=\"/sets/theme-Duplo/year-2020\">2020</a> </div><div class=\"floatright\">&copy;2020 LEGO Group</div>\\n<div class=\"pn\">\\n<a href=\"#\" onclick=\"return hs.previous(this)\" title=\"Previous (left arrow key)\">&#171; Previous</a>\\n<a href=\"#\" onclick=\"return hs.next(this)\" title=\"Next (right arrow key)\">Next &#187;</a>\\n</div>\\n</div>\\n<div class=\"meta\"><h1><a href=\"/sets/10915-1/Alphabet-Truck\"><span>10915: </span> Alphabet Truck</a></h1><div class=\"tags\"><a href=\"/sets/10915-1/Alphabet-Truck\">10915-1</a> <a href=\"/sets/theme-Duplo\">Duplo</a> <a class=\"year\" href=\"/sets/theme-Duplo/year-2020\">2020</a> </div><div class=\"tags\"><div class=\"viewtags\"><a class=\"plain\" href=\"#\">View tags »</a></div><div id=\"tags29755\"><a href=\"/sets/tag-Articulated-Lorry\">Articulated Lorry</a> <a href=\"/sets/tag-Bear\">Bear</a> <a href=\"/sets/tag-Trailer\">Trailer</a> <a href=\"/sets/tag-Truck\">Truck</a> </div></div><div class=\"rating\"></div><div class=\"col\"><dl><dt>Pieces</dt><dd><a class=\"plain\" href=\"/inventories/10915-1\">36</a></dd><dt>Minifigs</dt><dd><a class=\"plain\" href=\"/minifigs/in-10915-1\">2</a> </dd><dt>Minifigs</dt><dd class=\"tags\"><a href=\"/minifigs/47205pb071\">47205pb071</a> <a href=\"/minifigs/47205pb074\">47205pb074</a> </dd><dt>RRP</dt><dd>$24.99, €29.99 | <a class=\"popuplink plain\" href=\"prices?set=10915-1\">More</a></dd><dt>PPP</dt><dd>69.4c, 83.3c</dd><dt>Packaging</dt><dd>Box</dd><dt>Additional images</dt><dd><a class=\"plain\" href=\"/sets/10915-1?more-images\">4</a></dd></dl></div><div class=\"col\"><dl><dt>Value new</dt><dd><a class=\"plain\" href=\"https://www.bricklink.com/catalogPG.asp?S=10915-1-&colorID=0&v=D&viewExclude=Y&cID=Y\">~$29.58</a></dd><dt>Value used</dt><dd><a class=\"plain\" href=\"https://www.bricklink.com/catalogPG.asp?S=10915-1-&colorID=0&v=D&viewExclude=Y&cID=Y\">~$26.99</a></dd></dl><dl class=\"highlight\"></dl></div></div></dd></dl><div class=\"action\"><dl class=\"admin\"><dt class=\"hideingallery\">Our community</dt><dd class=\"hideingallery\">760 own this set, 85 want it</dd></dl><dl class=\"admin\"><dt class=\"hideingallery\">Your collection</dt><dd><a href=\"/signup\">Sign up</a> for a free account to record your LEGO collection here at Brickset.</dd></dl><dl class=\"buylinks\"><dt>Buy this set at</dt><dd><ul><li>\\n</li><li><a class=\"amazon\" href=\"https://www.amazon.com/gp/search?ie=UTF8&amp;tag=brickset-20&amp;linkCode=ur2&amp;linkId=8bc40397baeb4fbd44872856235b47d1&amp;camp=1789&amp;creative=9325&amp;index=toys-and-games&amp;keywords=LEGO%2010915\">Amazon</a>\\n</li><li>\\n</li><li>\\n<a class=\"bricklink\" href=\"http://alpha.bricklink.com/pages/clone/catalogitem.page?S=10915-1#T=S&O={&quot;ss&quot;:&quot;US&quot;}\">BrickLink</a>\\n</li></ul></dd></dl></div></article><article class=\"set\">\\n<a href=\"https://images.brickset.com/sets/large/10917-1.jpg?201912050531\" class=\"highslide plain mainimg\" onclick=\"return hs.expand(this)\">\\n<img src=\"https://images.brickset.com/sets/small/10917-1.jpg?201912050531\" title=\"10917-1: Fire Truck\" onError=\"this.src=\\'/assets/images/spacer2.png\\'\" loading=\"lazy\" alt=\"<h1>Fire Truck</h1><div class=\\'tags floatleft\\'><a href=\\'/sets/10917-1/Fire-Truck\\'>10917-1</a> <a href=\\'/sets/theme-Duplo\\'>Duplo</a> <a class=\\'year\\' href=\\'/sets/theme-Duplo/year-2020\\'>2020</a> </div><div class=\\'floatright\\'>&copy;2020 LEGO Group</div>\" />\\n</a><div class=\"highslide-caption\">\\n<h1>Fire Truck</h1><div class=\"tags floatleft\"><a href=\"/sets/10917-1/Fire-Truck\">10917-1</a> <a href=\"/sets/theme-Duplo\">Duplo</a> <a class=\"year\" href=\"/sets/theme-Duplo/year-2020\">2020</a> </div><div class=\"floatright\">&copy;2020 LEGO Group</div>\\n<div class=\"pn\">\\n<a href=\"#\" onclick=\"return hs.previous(this)\" title=\"Previous (left arrow key)\">&#171; Previous</a>\\n<a href=\"#\" onclick=\"return hs.next(this)\" title=\"Next (right arrow key)\">Next &#187;</a>\\n</div>\\n</div>\\n<div class=\"meta\"><h1><a href=\"/sets/10917-1/Fire-Truck\"><span>10917: </span> Fire Truck</a></h1><div class=\"tags\"><a href=\"/sets/10917-1/Fire-Truck\">10917-1</a> <a href=\"/sets/theme-Duplo\">Duplo</a> <a class=\"year\" href=\"/sets/theme-Duplo/year-2020\">2020</a> </div><div class=\"tags\"><div class=\"viewtags\"><a class=\"plain\" href=\"#\">View tags »</a></div><div id=\"tags29756\"><a href=\"/sets/tag-Fire-Truck\">Fire Truck</a> <a href=\"/sets/tag-Truck\">Truck</a> </div></div><div class=\"rating\"> <a href=\"/reviews/set-10917-1\">1&nbsp;review</a></div><div class=\"col\"><dl><dt>Pieces</dt><dd><a class=\"plain\" href=\"/inventories/10917-1\">6</a></dd><dt>RRP</dt><dd>$6.99, €4.86 | <a class=\"popuplink plain\" href=\"prices?set=10917-1\">More</a></dd><dt>PPP</dt><dd>116.5c, 81.0c</dd><dt>Packaging</dt><dd>Box with backing card</dd><dt>Instructions</dt><dd><a class=\"popuplink plain\" href=\"instructions2?set=10917-1&s=1\">Yes</a></dd><dt>Additional images</dt><dd><a class=\"plain\" href=\"/sets/10917-1?more-images\">4</a></dd></dl></div><div class=\"col\"><dl><dt>Launch/exit</dt><dd>1 Jan 2020 - 31 Dec 2020 (11m 30d)</dd><dt>Value new</dt><dd><a class=\"plain\" href=\"https://www.bricklink.com/catalogPG.asp?S=10917-1-&colorID=0&v=D&viewExclude=Y&cID=Y\">~$4.00</a></dd><dt>Value used</dt><dd><a class=\"plain\" href=\"https://www.bricklink.com/catalogPG.asp?S=10917-1-&colorID=0&v=D&viewExclude=Y&cID=Y\">~$3.20</a></dd></dl><dl class=\"highlight\"></dl></div></div></dd></dl><div class=\"action\"><dl class=\"admin\"><dt class=\"hideingallery\">Our community</dt><dd class=\"hideingallery\">394 own this set, 45 want it</dd></dl><dl class=\"admin\"><dt class=\"hideingallery\">Your collection</dt><dd><a href=\"/signup\">Sign up</a> for a free account to record your LEGO collection here at Brickset.</dd></dl><dl class=\"buylinks\"><dt>Buy this set at</dt><dd><ul><li>\\n</li><li><a class=\"amazon\" href=\"https://www.amazon.com/gp/search?ie=UTF8&amp;tag=brickset-20&amp;linkCode=ur2&amp;linkId=8bc40397baeb4fbd44872856235b47d1&amp;camp=1789&amp;creative=9325&amp;index=toys-and-games&amp;keywords=LEGO%2010917\">Amazon</a>\\n</li><li>\\n</li><li>\\n<a class=\"bricklink\" href=\"http://alpha.bricklink.com/pages/clone/catalogitem.page?S=10917-1#T=S&O={&quot;ss&quot;:&quot;US&quot;}\">BrickLink</a>\\n</li></ul></dd></dl></div></article><article class=\"set\">\\n<a href=\"https://images.brickset.com/sets/large/10918-1.jpg?201912050531\" class=\"highslide plain mainimg\" onclick=\"return hs.expand(this)\">\\n<img src=\"https://images.brickset.com/sets/small/10918-1.jpg?201912050531\" title=\"10918-1: Tow Truck\" onError=\"this.src=\\'/assets/images/spacer2.png\\'\" loading=\"lazy\" alt=\"<h1>Tow Truck</h1><div class=\\'tags floatleft\\'><a href=\\'/sets/10918-1/Tow-Truck\\'>10918-1</a> <a href=\\'/sets/theme-Duplo\\'>Duplo</a> <a class=\\'year\\' href=\\'/sets/theme-Duplo/year-2020\\'>2020</a> </div><div class=\\'floatright\\'>&copy;2020 LEGO Group</div>\" />\\n</a><div class=\"highslide-caption\">\\n<h1>Tow Truck</h1><div class=\"tags floatleft\"><a href=\"/sets/10918-1/Tow-Truck\">10918-1</a> <a href=\"/sets/theme-Duplo\">Duplo</a> <a class=\"year\" href=\"/sets/theme-Duplo/year-2020\">2020</a> </div><div class=\"floatright\">&copy;2020 LEGO Group</div>\\n<div class=\"pn\">\\n<a href=\"#\" onclick=\"return hs.previous(this)\" title=\"Previous (left arrow key)\">&#171; Previous</a>\\n<a href=\"#\" onclick=\"return hs.next(this)\" title=\"Next (right arrow key)\">Next &#187;</a>\\n</div>\\n</div>\\n<div class=\"meta\"><h1><a href=\"/sets/10918-1/Tow-Truck\"><span>10918: </span> Tow Truck</a></h1><div class=\"tags\"><a href=\"/sets/10918-1/Tow-Truck\">10918-1</a> <a href=\"/sets/theme-Duplo\">Duplo</a> <a class=\"year\" href=\"/sets/theme-Duplo/year-2020\">2020</a> </div><div class=\"tags\"><div class=\"viewtags\"><a class=\"plain\" href=\"#\">View tags »</a></div><div id=\"tags29757\"><a href=\"/sets/tag-Service-Vehicle\">Service Vehicle</a> <a href=\"/sets/tag-Tow-Truck\">Tow Truck</a> <a href=\"/sets/tag-Truck\">Truck</a> </div></div><div class=\"rating\"></div><div class=\"col\"><dl><dt>Pieces</dt><dd><a class=\"plain\" href=\"/inventories/10918-1\">7</a></dd><dt>RRP</dt><dd>$6.99, €4.99 | <a class=\"popuplink plain\" href=\"prices?set=10918-1\">More</a></dd><dt>PPP</dt><dd>99.9c, 71.3c</dd><dt>Packaging</dt><dd>Box with backing card</dd><dt>Instructions</dt><dd><a class=\"popuplink plain\" href=\"instructions2?set=10918-1&s=1\">Yes</a></dd><dt>Additional images</dt><dd><a class=\"plain\" href=\"/sets/10918-1?more-images\">4</a></dd></dl></div><div class=\"col\"><dl><dt>Launch/exit</dt><dd>1 Jan 2020 - 31 Dec 2020 (11m 30d)</dd><dt>Value new</dt><dd><a class=\"plain\" href=\"https://www.bricklink.com/catalogPG.asp?S=10918-1-&colorID=0&v=D&viewExclude=Y&cID=Y\">~$4.57</a></dd><dt>Value used</dt><dd><a class=\"plain\" href=\"https://www.bricklink.com/catalogPG.asp?S=10918-1-&colorID=0&v=D&viewExclude=Y&cID=Y\">~$2.00</a></dd></dl><dl class=\"highlight\"></dl></div></div></dd></dl><div class=\"action\"><dl class=\"admin\"><dt class=\"hideingallery\">Our community</dt><dd class=\"hideingallery\">349 own this set, 35 want it</dd></dl><dl class=\"admin\"><dt class=\"hideingallery\">Your collection</dt><dd><a href=\"/signup\">Sign up</a> for a free account to record your LEGO collection here at Brickset.</dd></dl><dl class=\"buylinks\"><dt>Buy this set at</dt><dd><ul><li>\\n</li><li><a class=\"amazon\" href=\"https://www.amazon.com/gp/search?ie=UTF8&amp;tag=brickset-20&amp;linkCode=ur2&amp;linkId=8bc40397baeb4fbd44872856235b47d1&amp;camp=1789&amp;creative=9325&amp;index=toys-and-games&amp;keywords=LEGO%2010918\">Amazon</a>\\n</li><li>\\n</li><li>\\n<a class=\"bricklink\" href=\"http://alpha.bricklink.com/pages/clone/catalogitem.page?S=10918-1#T=S&O={&quot;ss&quot;:&quot;US&quot;}\">BrickLink</a>\\n</li></ul></dd></dl></div></article><article class=\"set\">\\n<a href=\"https://images.brickset.com/sets/large/10919-1.jpg?202005270826\" class=\"highslide plain mainimg\" onclick=\"return hs.expand(this)\">\\n<img src=\"https://images.brickset.com/sets/small/10919-1.jpg?202005270826\" title=\"10919-1: Batcave\" onError=\"this.src=\\'/assets/images/spacer2.png\\'\" loading=\"lazy\" alt=\"<h1>Batcave</h1><div class=\\'tags floatleft\\'><a href=\\'/sets/10919-1/Batcave\\'>10919-1</a> <a href=\\'/sets/theme-Duplo\\'>Duplo</a> <a class=\\'year\\' href=\\'/sets/theme-Duplo/year-2020\\'>2020</a> </div><div class=\\'floatright\\'>&copy;2020 LEGO Group</div>\" />\\n</a><div class=\"highslide-caption\">\\n<h1>Batcave</h1><div class=\"tags floatleft\"><a href=\"/sets/10919-1/Batcave\">10919-1</a> <a href=\"/sets/theme-Duplo\">Duplo</a> <a class=\"year\" href=\"/sets/theme-Duplo/year-2020\">2020</a> </div><div class=\"floatright\">&copy;2020 LEGO Group</div>\\n<div class=\"pn\">\\n<a href=\"#\" onclick=\"return hs.previous(this)\" title=\"Previous (left arrow key)\">&#171; Previous</a>\\n<a href=\"#\" onclick=\"return hs.next(this)\" title=\"Next (right arrow key)\">Next &#187;</a>\\n</div>\\n</div>\\n<div class=\"meta\"><h1><a href=\"/sets/10919-1/Batcave\"><span>10919: </span> Batcave</a></h1><div class=\"tags\"><a href=\"/sets/10919-1/Batcave\">10919-1</a> <a href=\"/sets/theme-Duplo\">Duplo</a> <a class=\"year\" href=\"/sets/theme-Duplo/year-2020\">2020</a> </div><div class=\"tags\"><div class=\"viewtags\"><a class=\"plain\" href=\"#\">View tags »</a></div><div id=\"tags30351\"><a class=\"name\" href=\"/sets/tag-Batman\">Batman</a> <a class=\"name\" href=\"/sets/tag-Robin\">Robin</a> <a class=\"name\" href=\"/sets/tag-The-Joker\">The Joker</a> <br/><a href=\"/sets/tag-Batcave\">Batcave</a> <a href=\"/sets/tag-Batman-Themed-Transport\">Batman Themed Transport</a> <a href=\"/sets/tag-Batmobile\">Batmobile</a> <a href=\"/sets/tag-Car\">Car</a> <a href=\"/sets/tag-Cave\">Cave</a> <a href=\"/sets/tag-Clown\">Clown</a> <a href=\"/sets/tag-Dc-Comics-Super-Heroes\">Dc Comics Super Heroes</a> <a href=\"/sets/tag-Jail\">Jail</a> </div></div><div class=\"rating\"></div><div class=\"col\"><dl><dt>Pieces</dt><dd><a class=\"plain\" href=\"/inventories/10919-1\">33</a></dd><dt>Minifigs</dt><dd><a class=\"plain\" href=\"/minifigs/in-10919-1\">3</a> (3 unique to this set)</dd><dt>Minifigs</dt><dd class=\"tags\"><a href=\"/minifigs/47394pb285\">47394pb285</a> <a href=\"/minifigs/47394pb286\">47394pb286</a> <a href=\"/minifigs/47394pb287\">47394pb287</a> </dd><dt>RRP</dt><dd>$29.99, €34.99 | <a class=\"popuplink plain\" href=\"prices?set=10919-1\">More</a></dd><dt>PPP</dt><dd>90.9c, 106.0c</dd><dt>Packaging</dt><dd>Box</dd><dt>Instructions</dt><dd><a class=\"popuplink plain\" href=\"instructions2?set=10919-1&s=1\">Yes</a></dd><dt>Additional images</dt><dd><a class=\"plain\" href=\"/sets/10919-1?more-images\">10</a></dd></dl></div><div class=\"col\"><dl><dt>Launch/exit</dt><dd>1 Jun 2020 - 31 Dec 2021 (1y 6m 30d)</dd><dt>Value new</dt><dd><a class=\"plain\" href=\"https://www.bricklink.com/catalogPG.asp?S=10919-1-&colorID=0&v=D&viewExclude=Y&cID=Y\">~$43.56</a></dd></dl><dl class=\"highlight\"></dl></div></div></dd></dl><div class=\"action\"><dl class=\"admin\"><dt class=\"hideingallery\">Our community</dt><dd class=\"hideingallery\">349 own this set, 105 want it</dd></dl><dl class=\"admin\"><dt class=\"hideingallery\">Your collection</dt><dd><a href=\"/signup\">Sign up</a> for a free account to record your LEGO collection here at Brickset.</dd></dl><dl class=\"buylinks\"><dt>Buy this set at</dt><dd><ul><li>\\n</li><li><a class=\"amazon\" href=\"https://www.amazon.com/gp/search?ie=UTF8&amp;tag=brickset-20&amp;linkCode=ur2&amp;linkId=8bc40397baeb4fbd44872856235b47d1&amp;camp=1789&amp;creative=9325&amp;index=toys-and-games&amp;keywords=LEGO%2010919\">Amazon</a>\\n</li><li>\\n</li><li>\\n<a class=\"bricklink\" href=\"http://alpha.bricklink.com/pages/clone/catalogitem.page?S=10919-1#T=S&O={&quot;ss&quot;:&quot;US&quot;}\">BrickLink</a>\\n</li></ul></dd></dl></div></article><article class=\"set\">\\n<a href=\"https://images.brickset.com/sets/large/10920-1.jpg?201912100958\" class=\"highslide plain mainimg\" onclick=\"return hs.expand(this)\">\\n<img src=\"https://images.brickset.com/sets/small/10920-1.jpg?201912100958\" title=\"10920-1: Elsa and Olaf\\'s Tea Party\" onError=\"this.src=\\'/assets/images/spacer2.png\\'\" loading=\"lazy\" alt=\"<h1>Elsa and Olaf\\'s Tea Party</h1><div class=\\'tags floatleft\\'><a href=\\'/sets/10920-1/Elsa-and-Olaf-s-Tea-Party\\'>10920-1</a> <a href=\\'/sets/theme-Duplo\\'>Duplo</a> <a class=\\'subtheme\\' href=\\'/sets/subtheme-Frozen\\'>Frozen</a> <a class=\\'year\\' href=\\'/sets/theme-Duplo/year-2020\\'>2020</a> </div><div class=\\'floatright\\'>&copy;2020 LEGO Group</div>\" />\\n</a><div class=\"highslide-caption\">\\n<h1>Elsa and Olaf\\'s Tea Party</h1><div class=\"tags floatleft\"><a href=\"/sets/10920-1/Elsa-and-Olaf-s-Tea-Party\">10920-1</a> <a href=\"/sets/theme-Duplo\">Duplo</a> <a class=\"subtheme\" href=\"/sets/subtheme-Frozen\">Frozen</a> <a class=\"year\" href=\"/sets/theme-Duplo/year-2020\">2020</a> </div><div class=\"floatright\">&copy;2020 LEGO Group</div>\\n<div class=\"pn\">\\n<a href=\"#\" onclick=\"return hs.previous(this)\" title=\"Previous (left arrow key)\">&#171; Previous</a>\\n<a href=\"#\" onclick=\"return hs.next(this)\" title=\"Next (right arrow key)\">Next &#187;</a>\\n</div>\\n</div>\\n<div class=\"meta\"><h1><a href=\"/sets/10920-1/Elsa-and-Olaf-s-Tea-Party\"><span>10920: </span> Elsa and Olaf\\'s Tea Party</a></h1><div class=\"tags\"><a href=\"/sets/10920-1/Elsa-and-Olaf-s-Tea-Party\">10920-1</a> <a href=\"/sets/theme-Duplo\">Duplo</a> <a class=\"subtheme\" href=\"/sets/subtheme-Frozen\">Frozen</a> <a class=\"year\" href=\"/sets/theme-Duplo/year-2020\">2020</a> </div><div class=\"tags\"><div class=\"viewtags\"><a class=\"plain\" href=\"#\">View tags »</a></div><div id=\"tags29758\"><a class=\"name\" href=\"/sets/tag-Elsa\">Elsa</a> <a class=\"name\" href=\"/sets/tag-Olaf\">Olaf</a> <br/><a href=\"/sets/tag-Baked-Goods\">Baked Goods</a> <a href=\"/sets/tag-Disney\">Disney</a> <a href=\"/sets/tag-Frozen\">Frozen</a> <a href=\"/sets/tag-Modern-Disney\">Modern Disney</a> <a href=\"/sets/tag-Snowman\">Snowman</a> <a href=\"/sets/tag-Walt-Disney-Animation-Studios\">Walt Disney Animation Studios</a> </div></div><div class=\"rating\"></div><div class=\"col\"><dl><dt>Pieces</dt><dd><a class=\"plain\" href=\"/inventories/10920-1\">17</a></dd><dt>Minifigs</dt><dd><a class=\"plain\" href=\"/minifigs/in-10920-1\">2</a> </dd><dt>Minifigs</dt><dd class=\"tags\"><a href=\"/minifigs/47394pb277\">47394pb277</a> <a href=\"/minifigs/dupsnowman01\">dupsnowman01</a> </dd><dt>RRP</dt><dd>$19.99, €19.99 | <a class=\"popuplink plain\" href=\"prices?set=10920-1\">More</a></dd><dt>PPP</dt><dd>117.6c, 117.6c</dd><dt>Packaging</dt><dd>Box</dd><dt>Instructions</dt><dd><a class=\"popuplink plain\" href=\"instructions2?set=10920-1&s=1\">Yes</a></dd><dt>Additional images</dt><dd><a class=\"plain\" href=\"/sets/10920-1?more-images\">4</a></dd></dl></div><div class=\"col\"><dl><dt>Launch/exit</dt><dd>1 Jan 2020 - 31 Dec 2022 (2y 11m 29d)</dd><dt>Value new</dt><dd><a class=\"plain\" href=\"https://www.bricklink.com/catalogPG.asp?S=10920-1-&colorID=0&v=D&viewExclude=Y&cID=Y\">~$17.86</a></dd><dt>Value used</dt><dd><a class=\"plain\" href=\"https://www.bricklink.com/catalogPG.asp?S=10920-1-&colorID=0&v=D&viewExclude=Y&cID=Y\">~$13.61</a></dd></dl><dl class=\"highlight\"></dl></div></div></dd></dl><div class=\"action\"><dl class=\"admin\"><dt class=\"hideingallery\">Our community</dt><dd class=\"hideingallery\">392 own this set, 83 want it</dd></dl><dl class=\"admin\"><dt class=\"hideingallery\">Your collection</dt><dd><a href=\"/signup\">Sign up</a> for a free account to record your LEGO collection here at Brickset.</dd></dl><dl class=\"buylinks\"><dt>Buy this set at</dt><dd><ul><li>\\n</li><li><a class=\"amazon\" href=\"https://www.amazon.com/gp/search?ie=UTF8&amp;tag=brickset-20&amp;linkCode=ur2&amp;linkId=8bc40397baeb4fbd44872856235b47d1&amp;camp=1789&amp;creative=9325&amp;index=toys-and-games&amp;keywords=LEGO%2010920\">Amazon</a>\\n</li><li>\\n</li><li>\\n<a class=\"bricklink\" href=\"http://alpha.bricklink.com/pages/clone/catalogitem.page?S=10920-1#T=S&O={&quot;ss&quot;:&quot;US&quot;}\">BrickLink</a>\\n</li></ul></dd></dl></div></article><article class=\"set\">\\n<a href=\"https://images.brickset.com/sets/large/10921-1.jpg?201912100958\" class=\"highslide plain mainimg\" onclick=\"return hs.expand(this)\">\\n<img src=\"https://images.brickset.com/sets/small/10921-1.jpg?201912100958\" title=\"10921-1: Super Heroes Lab\" onError=\"this.src=\\'/assets/images/spacer2.png\\'\" loading=\"lazy\" alt=\"<h1>Super Heroes Lab</h1><div class=\\'tags floatleft\\'><a href=\\'/sets/10921-1/Super-Heroes-Lab\\'>10921-1</a> <a href=\\'/sets/theme-Duplo\\'>Duplo</a> <a class=\\'subtheme\\' href=\\'/sets/subtheme-Marvel-Super-Hero-Adventures\\'>Marvel Super Hero Adventures</a> <a class=\\'year\\' href=\\'/sets/theme-Duplo/year-2020\\'>2020</a> </div><div class=\\'floatright\\'>&copy;2020 LEGO Group</div>\" />\\n</a><div class=\"highslide-caption\">\\n<h1>Super Heroes Lab</h1><div class=\"tags floatleft\"><a href=\"/sets/10921-1/Super-Heroes-Lab\">10921-1</a> <a href=\"/sets/theme-Duplo\">Duplo</a> <a class=\"subtheme\" href=\"/sets/subtheme-Marvel-Super-Hero-Adventures\">Marvel Super Hero Adventures</a> <a class=\"year\" href=\"/sets/theme-Duplo/year-2020\">2020</a> </div><div class=\"floatright\">&copy;2020 LEGO Group</div>\\n<div class=\"pn\">\\n<a href=\"#\" onclick=\"return hs.previous(this)\" title=\"Previous (left arrow key)\">&#171; Previous</a>\\n<a href=\"#\" onclick=\"return hs.next(this)\" title=\"Next (right arrow key)\">Next &#187;</a>\\n</div>\\n</div>\\n<div class=\"meta\"><h1><a href=\"/sets/10921-1/Super-Heroes-Lab\"><span>10921: </span> Super Heroes Lab</a></h1><div class=\"tags\"><a href=\"/sets/10921-1/Super-Heroes-Lab\">10921-1</a> <a href=\"/sets/theme-Duplo\">Duplo</a> <a class=\"subtheme\" href=\"/sets/subtheme-Marvel-Super-Hero-Adventures\">Marvel Super Hero Adventures</a> <a class=\"year\" href=\"/sets/theme-Duplo/year-2020\">2020</a> </div><div class=\"tags\"><div class=\"viewtags\"><a class=\"plain\" href=\"#\">View tags »</a></div><div id=\"tags29750\"><a class=\"name\" href=\"/sets/tag-Captain-America\">Captain America</a> <a class=\"name\" href=\"/sets/tag-Iron-Man\">Iron Man</a> <a class=\"name\" href=\"/sets/tag-Spider-Man\">Spider-Man</a> <br/><a href=\"/sets/tag-Avengers\">Avengers</a> <a href=\"/sets/tag-Captain-America-Themed-Transport\">Captain America Themed Transport</a> <a href=\"/sets/tag-Cartoon\">Cartoon</a> <a href=\"/sets/tag-Disney-Junior\">Disney Junior</a> <a href=\"/sets/tag-Lab\">Lab</a> <a href=\"/sets/tag-Marvel-Animation\">Marvel Animation</a> <a href=\"/sets/tag-Marvel-Duplo\">Marvel Duplo</a> <a href=\"/sets/tag-Marvel-Super-Hero-Adventures\">Marvel Super Hero Adventures</a> <a href=\"/sets/tag-Marvel-Super-Heroes\">Marvel Super Heroes</a> <a href=\"/sets/tag-Marvel-Tv-Shows\">Marvel Tv Shows</a> <a href=\"/sets/tag-Motorcycle\">Motorcycle</a> <a href=\"/sets/tag-Vibranium\">Vibranium</a> <a href=\"/sets/tag-Vibranium-Shield\">Vibranium Shield</a> </div></div><div class=\"rating\"> <a href=\"/reviews/set-10921-1\">1&nbsp;review</a></div><div class=\"col\"><dl><dt>Pieces</dt><dd><a class=\"plain\" href=\"/inventories/10921-1\">30</a></dd><dt>Minifigs</dt><dd><a class=\"plain\" href=\"/minifigs/in-10921-1\">3</a> (2 unique to this set)</dd><dt>Minifigs</dt><dd class=\"tags\"><a href=\"/minifigs/47394pb192\">47394pb192</a> <a href=\"/minifigs/47394pb281\">47394pb281</a> <a href=\"/minifigs/47394pb282\">47394pb282</a> </dd><dt>RRP</dt><dd>$29.99, €29.99 | <a class=\"popuplink plain\" href=\"prices?set=10921-1\">More</a></dd><dt>PPP</dt><dd>100.0c, 100.0c</dd><dt>Packaging</dt><dd>Box</dd><dt>Instructions</dt><dd><a class=\"popuplink plain\" href=\"instructions2?set=10921-1&s=1\">Yes</a></dd><dt>Additional images</dt><dd><a class=\"plain\" href=\"/sets/10921-1?more-images\">4</a></dd></dl></div><div class=\"col\"><dl><dt>Launch/exit</dt><dd>1 Jan 2020 - 31 Dec 2021 (1y 11m 29d)</dd><dt>Value new</dt><dd><a class=\"plain\" href=\"https://www.bricklink.com/catalogPG.asp?S=10921-1-&colorID=0&v=D&viewExclude=Y&cID=Y\">~$42.31</a></dd><dt>Value used</dt><dd><a class=\"plain\" href=\"https://www.bricklink.com/catalogPG.asp?S=10921-1-&colorID=0&v=D&viewExclude=Y&cID=Y\">~$44.62</a></dd></dl><dl class=\"highlight\"></dl></div></div></dd></dl><div class=\"action\"><dl class=\"admin\"><dt class=\"hideingallery\">Our community</dt><dd class=\"hideingallery\">464 own this set, 146 want it</dd></dl><dl class=\"admin\"><dt class=\"hideingallery\">Your collection</dt><dd><a href=\"/signup\">Sign up</a> for a free account to record your LEGO collection here at Brickset.</dd></dl><dl class=\"buylinks\"><dt>Buy this set at</dt><dd><ul><li>\\n</li><li><a class=\"amazon\" href=\"https://www.amazon.com/gp/search?ie=UTF8&amp;tag=brickset-20&amp;linkCode=ur2&amp;linkId=8bc40397baeb4fbd44872856235b47d1&amp;camp=1789&amp;creative=9325&amp;index=toys-and-games&amp;keywords=LEGO%2010921\">Amazon</a>\\n</li><li>\\n</li><li>\\n<a class=\"bricklink\" href=\"http://alpha.bricklink.com/pages/clone/catalogitem.page?S=10921-1#T=S&O={&quot;ss&quot;:&quot;US&quot;}\">BrickLink</a>\\n</li></ul></dd></dl></div></article><article class=\"set\">\\n<a href=\"https://images.brickset.com/sets/large/10922-1.jpg?202005270831\" class=\"highslide plain mainimg\" onclick=\"return hs.expand(this)\">\\n<img src=\"https://images.brickset.com/sets/small/10922-1.jpg?202005270831\" title=\"10922-1: Ariel\\'s Undersea Castle\" onError=\"this.src=\\'/assets/images/spacer2.png\\'\" loading=\"lazy\" alt=\"<h1>Ariel\\'s Undersea Castle</h1><div class=\\'tags floatleft\\'><a href=\\'/sets/10922-1/Ariel-s-Undersea-Castle\\'>10922-1</a> <a href=\\'/sets/theme-Duplo\\'>Duplo</a> <a class=\\'subtheme\\' href=\\'/sets/subtheme-Disney-Princess\\'>Disney Princess</a> <a class=\\'year\\' href=\\'/sets/theme-Duplo/year-2020\\'>2020</a> </div><div class=\\'floatright\\'>&copy;2020 LEGO Group</div>\" />\\n</a><div class=\"highslide-caption\">\\n<h1>Ariel\\'s Undersea Castle</h1><div class=\"tags floatleft\"><a href=\"/sets/10922-1/Ariel-s-Undersea-Castle\">10922-1</a> <a href=\"/sets/theme-Duplo\">Duplo</a> <a class=\"subtheme\" href=\"/sets/subtheme-Disney-Princess\">Disney Princess</a> <a class=\"year\" href=\"/sets/theme-Duplo/year-2020\">2020</a> </div><div class=\"floatright\">&copy;2020 LEGO Group</div>\\n<div class=\"pn\">\\n<a href=\"#\" onclick=\"return hs.previous(this)\" title=\"Previous (left arrow key)\">&#171; Previous</a>\\n<a href=\"#\" onclick=\"return hs.next(this)\" title=\"Next (right arrow key)\">Next &#187;</a>\\n</div>\\n</div>\\n<div class=\"meta\"><h1><a href=\"/sets/10922-1/Ariel-s-Undersea-Castle\"><span>10922: </span> Ariel\\'s Undersea Castle</a></h1><div class=\"tags\"><a href=\"/sets/10922-1/Ariel-s-Undersea-Castle\">10922-1</a> <a href=\"/sets/theme-Duplo\">Duplo</a> <a class=\"subtheme\" href=\"/sets/subtheme-Disney-Princess\">Disney Princess</a> <a class=\"year\" href=\"/sets/theme-Duplo/year-2020\">2020</a> </div><div class=\"tags\"><div class=\"viewtags\"><a class=\"plain\" href=\"#\">View tags »</a></div><div id=\"tags30354\"><a class=\"name\" href=\"/sets/tag-Ariel\">Ariel</a> <br/><a href=\"/sets/tag-Atlantica\">Atlantica</a> <a href=\"/sets/tag-Castle\">Castle</a> <a href=\"/sets/tag-Disney\">Disney</a> <a href=\"/sets/tag-Disney-Renaissance\">Disney Renaissance</a> <a href=\"/sets/tag-Fish\">Fish</a> <a href=\"/sets/tag-Flounder\">Flounder</a> <a href=\"/sets/tag-Merpeople\">Merpeople</a> <a href=\"/sets/tag-Musical\">Musical</a> <a href=\"/sets/tag-Slide\">Slide</a> <a href=\"/sets/tag-The-Little-Mermaid\">The Little Mermaid</a> <a href=\"/sets/tag-Walt-Disney-Animation-Studios\">Walt Disney Animation Studios</a> </div></div><div class=\"rating\"></div><div class=\"col\"><dl><dt>Pieces</dt><dd><a class=\"plain\" href=\"/inventories/10922-1\">35</a></dd><dt>Minifigs</dt><dd><a class=\"plain\" href=\"/minifigs/in-10922-1\">1</a> (1 unique to this set)</dd><dt>Minifigs</dt><dd class=\"tags\"><a href=\"/minifigs/dupmermaid02\">dupmermaid02</a> </dd><dt>RRP</dt><dd>$29.99, €29.99 | <a class=\"popuplink plain\" href=\"prices?set=10922-1\">More</a></dd><dt>PPP</dt><dd>85.7c, 85.7c</dd><dt>Packaging</dt><dd>Box</dd><dt>Instructions</dt><dd><a class=\"popuplink plain\" href=\"instructions2?set=10922-1&s=1\">Yes</a></dd><dt>Additional images</dt><dd><a class=\"plain\" href=\"/sets/10922-1?more-images\">11</a></dd></dl></div><div class=\"col\"><dl><dt>Launch/exit</dt><dd>1 Jun 2020 - 31 Dec 2021 (1y 6m 30d)</dd><dt>Value new</dt><dd><a class=\"plain\" href=\"https://www.bricklink.com/catalogPG.asp?S=10922-1-&colorID=0&v=D&viewExclude=Y&cID=Y\">~$45.00</a></dd><dt>Value used</dt><dd><a class=\"plain\" href=\"https://www.bricklink.com/catalogPG.asp?S=10922-1-&colorID=0&v=D&viewExclude=Y&cID=Y\">~$18.22</a></dd></dl><dl class=\"highlight\"></dl></div></div></dd></dl><div class=\"action\"><dl class=\"admin\"><dt class=\"hideingallery\">Our community</dt><dd class=\"hideingallery\">218 own this set, 76 want it</dd></dl><dl class=\"admin\"><dt class=\"hideingallery\">Your collection</dt><dd><a href=\"/signup\">Sign up</a> for a free account to record your LEGO collection here at Brickset.</dd></dl><dl class=\"buylinks\"><dt>Buy this set at</dt><dd><ul><li>\\n</li><li><a class=\"amazon\" href=\"https://www.amazon.com/gp/search?ie=UTF8&amp;tag=brickset-20&amp;linkCode=ur2&amp;linkId=8bc40397baeb4fbd44872856235b47d1&amp;camp=1789&amp;creative=9325&amp;index=toys-and-games&amp;keywords=LEGO%2010922\">Amazon</a>\\n</li><li>\\n</li><li>\\n<a class=\"bricklink\" href=\"http://alpha.bricklink.com/pages/clone/catalogitem.page?S=10922-1#T=S&O={&quot;ss&quot;:&quot;US&quot;}\">BrickLink</a>\\n</li></ul></dd></dl></div></article><article class=\"set\">\\n<a href=\"https://images.brickset.com/sets/large/10924-1.jpg?202005270831\" class=\"highslide plain mainimg\" onclick=\"return hs.expand(this)\">\\n<img src=\"https://images.brickset.com/sets/small/10924-1.jpg?202005270831\" title=\"10924-1: Lightning McQueen\\'s Race Day\" onError=\"this.src=\\'/assets/images/spacer2.png\\'\" loading=\"lazy\" alt=\"<h1>Lightning McQueen\\'s Race Day</h1><div class=\\'tags floatleft\\'><a href=\\'/sets/10924-1/Lightning-McQueen-s-Race-Day\\'>10924-1</a> <a href=\\'/sets/theme-Duplo\\'>Duplo</a> <a class=\\'subtheme\\' href=\\'/sets/subtheme-Cars\\'>Cars</a> <a class=\\'year\\' href=\\'/sets/theme-Duplo/year-2020\\'>2020</a> </div><div class=\\'floatright\\'>&copy;2020 LEGO Group</div>\" />\\n</a><div class=\"highslide-caption\">\\n<h1>Lightning McQueen\\'s Race Day</h1><div class=\"tags floatleft\"><a href=\"/sets/10924-1/Lightning-McQueen-s-Race-Day\">10924-1</a> <a href=\"/sets/theme-Duplo\">Duplo</a> <a class=\"subtheme\" href=\"/sets/subtheme-Cars\">Cars</a> <a class=\"year\" href=\"/sets/theme-Duplo/year-2020\">2020</a> </div><div class=\"floatright\">&copy;2020 LEGO Group</div>\\n<div class=\"pn\">\\n<a href=\"#\" onclick=\"return hs.previous(this)\" title=\"Previous (left arrow key)\">&#171; Previous</a>\\n<a href=\"#\" onclick=\"return hs.next(this)\" title=\"Next (right arrow key)\">Next &#187;</a>\\n</div>\\n</div>\\n<div class=\"meta\"><h1><a href=\"/sets/10924-1/Lightning-McQueen-s-Race-Day\"><span>10924: </span> Lightning McQueen\\'s Race Day</a></h1><div class=\"tags\"><a href=\"/sets/10924-1/Lightning-McQueen-s-Race-Day\">10924-1</a> <a href=\"/sets/theme-Duplo\">Duplo</a> <a class=\"subtheme\" href=\"/sets/subtheme-Cars\">Cars</a> <a class=\"year\" href=\"/sets/theme-Duplo/year-2020\">2020</a> </div><div class=\"tags\"><div class=\"viewtags\"><a class=\"plain\" href=\"#\">View tags »</a></div><div id=\"tags30352\"><a class=\"name\" href=\"/sets/tag-Lightning-McQueen\">Lightning McQueen</a> <a class=\"name\" href=\"/sets/tag-Mater\">Mater</a> <br/><a href=\"/sets/tag-Award-Podium\">Award Podium</a> <a href=\"/sets/tag-Car\">Car</a> <a href=\"/sets/tag-Cars\">Cars</a> <a href=\"/sets/tag-Disney\">Disney</a> <a href=\"/sets/tag-Finish-Line\">Finish Line</a> <a href=\"/sets/tag-Modern-Disney\">Modern Disney</a> <a href=\"/sets/tag-Multibuild\">Multibuild</a> <a href=\"/sets/tag-Piston-Cup\">Piston Cup</a> <a href=\"/sets/tag-Pit-Stop\">Pit Stop</a> <a href=\"/sets/tag-Pixar\">Pixar</a> <a href=\"/sets/tag-Racing\">Racing</a> <a href=\"/sets/tag-Racing-Car\">Racing Car</a> <a href=\"/sets/tag-Rust-Eze\">Rust-Eze</a> <a href=\"/sets/tag-Service-Vehicle\">Service Vehicle</a> <a href=\"/sets/tag-Tow-Truck\">Tow Truck</a> <a href=\"/sets/tag-Truck\">Truck</a> <a href=\"/sets/tag-Workshop\">Workshop</a> </div></div><div class=\"rating\"></div><div class=\"col\"><dl><dt>Pieces</dt><dd><a class=\"plain\" href=\"/inventories/10924-1\">42</a></dd><dt>Minifigs</dt><dd><a class=\"plain\" href=\"/minifigs/in-10924-1\">2</a> (1 unique to this set)</dd><dt>Minifigs</dt><dd class=\"tags\"><a href=\"/minifigs/crs021\">crs021</a> <a href=\"/minifigs/crs044\">crs044</a> </dd><dt>RRP</dt><dd>$29.99, €29.99 | <a class=\"popuplink plain\" href=\"prices?set=10924-1\">More</a></dd><dt>PPP</dt><dd>71.4c, 71.4c</dd><dt>Packaging</dt><dd>Box</dd><dt>Instructions</dt><dd><a class=\"popuplink plain\" href=\"instructions2?set=10924-1&s=1\">Yes</a></dd><dt>Additional images</dt><dd><a class=\"plain\" href=\"/sets/10924-1?more-images\">9</a></dd></dl></div><div class=\"col\"><dl><dt>Launch/exit</dt><dd>1 Jun 2020 - 31 Dec 2021 (1y 6m 30d)</dd><dt>Value new</dt><dd><a class=\"plain\" href=\"https://www.bricklink.com/catalogPG.asp?S=10924-1-&colorID=0&v=D&viewExclude=Y&cID=Y\">~$53.97</a></dd><dt>Value used</dt><dd><a class=\"plain\" href=\"https://www.bricklink.com/catalogPG.asp?S=10924-1-&colorID=0&v=D&viewExclude=Y&cID=Y\">~$24.00</a></dd></dl><dl class=\"highlight\"></dl></div></div></dd></dl><div class=\"action\"><dl class=\"admin\"><dt class=\"hideingallery\">Our community</dt><dd class=\"hideingallery\">229 own this set, 73 want it</dd></dl><dl class=\"admin\"><dt class=\"hideingallery\">Your collection</dt><dd><a href=\"/signup\">Sign up</a> for a free account to record your LEGO collection here at Brickset.</dd></dl><dl class=\"buylinks\"><dt>Buy this set at</dt><dd><ul><li>\\n</li><li><a class=\"amazon\" href=\"https://www.amazon.com/gp/search?ie=UTF8&amp;tag=brickset-20&amp;linkCode=ur2&amp;linkId=8bc40397baeb4fbd44872856235b47d1&amp;camp=1789&amp;creative=9325&amp;index=toys-and-games&amp;keywords=LEGO%2010924\">Amazon</a>\\n</li><li>\\n</li><li>\\n<a class=\"bricklink\" href=\"http://alpha.bricklink.com/pages/clone/catalogitem.page?S=10924-1#T=S&O={&quot;ss&quot;:&quot;US&quot;}\">BrickLink</a>\\n</li></ul></dd></dl></div></article><article class=\"set\">\\n<a href=\"https://images.brickset.com/sets/large/10925-1.jpg?201912050531\" class=\"highslide plain mainimg\" onclick=\"return hs.expand(this)\">\\n<img src=\"https://images.brickset.com/sets/small/10925-1.jpg?201912050531\" title=\"10925-1: Playroom\" onError=\"this.src=\\'/assets/images/spacer2.png\\'\" loading=\"lazy\" alt=\"<h1>Playroom</h1><div class=\\'tags floatleft\\'><a href=\\'/sets/10925-1/Playroom\\'>10925-1</a> <a href=\\'/sets/theme-Duplo\\'>Duplo</a> <a class=\\'year\\' href=\\'/sets/theme-Duplo/year-2020\\'>2020</a> </div><div class=\\'floatright\\'>&copy;2020 LEGO Group</div>\" />\\n</a><div class=\"highslide-caption\">\\n<h1>Playroom</h1><div class=\"tags floatleft\"><a href=\"/sets/10925-1/Playroom\">10925-1</a> <a href=\"/sets/theme-Duplo\">Duplo</a> <a class=\"year\" href=\"/sets/theme-Duplo/year-2020\">2020</a> </div><div class=\"floatright\">&copy;2020 LEGO Group</div>\\n<div class=\"pn\">\\n<a href=\"#\" onclick=\"return hs.previous(this)\" title=\"Previous (left arrow key)\">&#171; Previous</a>\\n<a href=\"#\" onclick=\"return hs.next(this)\" title=\"Next (right arrow key)\">Next &#187;</a>\\n</div>\\n</div>\\n<div class=\"meta\"><h1><a href=\"/sets/10925-1/Playroom\"><span>10925: </span> Playroom</a></h1><div class=\"tags\"><a href=\"/sets/10925-1/Playroom\">10925-1</a> <a href=\"/sets/theme-Duplo\">Duplo</a> <a class=\"year\" href=\"/sets/theme-Duplo/year-2020\">2020</a> </div><div class=\"tags\"><div class=\"viewtags\"><a class=\"plain\" href=\"#\">View tags »</a></div><div id=\"tags29759\"><a href=\"/sets/tag-Baked-Goods\">Baked Goods</a> <a href=\"/sets/tag-Balloons\">Balloons</a> <a href=\"/sets/tag-Unicorn\">Unicorn</a> </div></div><div class=\"rating\"></div><div class=\"col\"><dl><dt>Pieces</dt><dd><a class=\"plain\" href=\"/inventories/10925-1\">17</a></dd><dt>Minifigs</dt><dd><a class=\"plain\" href=\"/minifigs/in-10925-1\">2</a> (1 unique to this set)</dd><dt>Minifigs</dt><dd class=\"tags\"><a href=\"/minifigs/47205pb070\">47205pb070</a> <a href=\"/minifigs/47205pb074\">47205pb074</a> </dd><dt>RRP</dt><dd>$14.99, €14.99 | <a class=\"popuplink plain\" href=\"prices?set=10925-1\">More</a></dd><dt>PPP</dt><dd>88.2c, 88.2c</dd><dt>Packaging</dt><dd>Box</dd><dt>Instructions</dt><dd><a class=\"popuplink plain\" href=\"instructions2?set=10925-1&s=1\">Yes</a></dd><dt>Additional images</dt><dd><a class=\"plain\" href=\"/sets/10925-1?more-images\">4</a></dd></dl></div><div class=\"col\"><dl><dt>Designer</dt><dd class=\"tags\"><a href=\"/sets/designer-Chiara-Biscontin\">Chiara Biscontin</a> </dd><dt>Launch/exit</dt><dd>1 Jan 2020 - 31 Dec 2021 (1y 11m 29d)</dd><dt>Value new</dt><dd><a class=\"plain\" href=\"https://www.bricklink.com/catalogPG.asp?S=10925-1-&colorID=0&v=D&viewExclude=Y&cID=Y\">~$12.50</a></dd></dl><dl class=\"highlight\"></dl></div></div></dd></dl><div class=\"action\"><dl class=\"admin\"><dt class=\"hideingallery\">Our community</dt><dd class=\"hideingallery\">352 own this set, 62 want it</dd></dl><dl class=\"admin\"><dt class=\"hideingallery\">Your collection</dt><dd><a href=\"/signup\">Sign up</a> for a free account to record your LEGO collection here at Brickset.</dd></dl><dl class=\"buylinks\"><dt>Buy this set at</dt><dd><ul><li>\\n</li><li><a class=\"amazon\" href=\"https://www.amazon.com/gp/search?ie=UTF8&amp;tag=brickset-20&amp;linkCode=ur2&amp;linkId=8bc40397baeb4fbd44872856235b47d1&amp;camp=1789&amp;creative=9325&amp;index=toys-and-games&amp;keywords=LEGO%2010925\">Amazon</a>\\n</li><li>\\n</li><li>\\n<a class=\"bricklink\" href=\"http://alpha.bricklink.com/pages/clone/catalogitem.page?S=10925-1#T=S&O={&quot;ss&quot;:&quot;US&quot;}\">BrickLink</a>\\n</li></ul></dd></dl></div></article><article class=\"set\">\\n<a href=\"https://images.brickset.com/sets/large/10926-1.jpg?201912050531\" class=\"highslide plain mainimg\" onclick=\"return hs.expand(this)\">\\n<img src=\"https://images.brickset.com/sets/small/10926-1.jpg?201912050531\" title=\"10926-1: Bedroom\" onError=\"this.src=\\'/assets/images/spacer2.png\\'\" loading=\"lazy\" alt=\"<h1>Bedroom</h1><div class=\\'tags floatleft\\'><a href=\\'/sets/10926-1/Bedroom\\'>10926-1</a> <a href=\\'/sets/theme-Duplo\\'>Duplo</a> <a class=\\'year\\' href=\\'/sets/theme-Duplo/year-2020\\'>2020</a> </div><div class=\\'floatright\\'>&copy;2020 LEGO Group</div>\" />\\n</a><div class=\"highslide-caption\">\\n<h1>Bedroom</h1><div class=\"tags floatleft\"><a href=\"/sets/10926-1/Bedroom\">10926-1</a> <a href=\"/sets/theme-Duplo\">Duplo</a> <a class=\"year\" href=\"/sets/theme-Duplo/year-2020\">2020</a> </div><div class=\"floatright\">&copy;2020 LEGO Group</div>\\n<div class=\"pn\">\\n<a href=\"#\" onclick=\"return hs.previous(this)\" title=\"Previous (left arrow key)\">&#171; Previous</a>\\n<a href=\"#\" onclick=\"return hs.next(this)\" title=\"Next (right arrow key)\">Next &#187;</a>\\n</div>\\n</div>\\n<div class=\"meta\"><h1><a href=\"/sets/10926-1/Bedroom\"><span>10926: </span> Bedroom</a></h1><div class=\"tags\"><a href=\"/sets/10926-1/Bedroom\">10926-1</a> <a href=\"/sets/theme-Duplo\">Duplo</a> <a class=\"year\" href=\"/sets/theme-Duplo/year-2020\">2020</a> </div><div class=\"tags\"><div class=\"viewtags\"><a class=\"plain\" href=\"#\">View tags »</a></div><div id=\"tags29760\"><a href=\"/sets/tag-Bear\">Bear</a> <a href=\"/sets/tag-Bedroom\">Bedroom</a> <a href=\"/sets/tag-Musical\">Musical</a> <a href=\"/sets/tag-Slide\">Slide</a> </div></div><div class=\"rating\"></div><div class=\"col\"><dl><dt>Pieces</dt><dd><a class=\"plain\" href=\"/inventories/10926-1\">16</a></dd><dt>Minifigs</dt><dd><a class=\"plain\" href=\"/minifigs/in-10926-1\">2</a> </dd><dt>Minifigs</dt><dd class=\"tags\"><a href=\"/minifigs/47205pb069\">47205pb069</a> <a href=\"/minifigs/47205pb071\">47205pb071</a> </dd><dt>RRP</dt><dd>$14.99, €14.99 | <a class=\"popuplink plain\" href=\"prices?set=10926-1\">More</a></dd><dt>PPP</dt><dd>93.7c, 93.7c</dd><dt>Packaging</dt><dd>Box</dd><dt>Instructions</dt><dd><a class=\"popuplink plain\" href=\"instructions2?set=10926-1&s=1\">Yes</a></dd><dt>Additional images</dt><dd><a class=\"plain\" href=\"/sets/10926-1?more-images\">4</a></dd></dl></div><div class=\"col\"><dl><dt>Designer</dt><dd class=\"tags\"><a href=\"/sets/designer-Chiara-Biscontin\">Chiara Biscontin</a> </dd><dt>Launch/exit</dt><dd>1 Jan 2020 - 31 Dec 2021 (1y 11m 29d)</dd><dt>Value new</dt><dd><a class=\"plain\" href=\"https://www.bricklink.com/catalogPG.asp?S=10926-1-&colorID=0&v=D&viewExclude=Y&cID=Y\">~$10.91</a></dd></dl><dl class=\"highlight\"></dl></div></div></dd></dl><div class=\"action\"><dl class=\"admin\"><dt class=\"hideingallery\">Our community</dt><dd class=\"hideingallery\">333 own this set, 62 want it</dd></dl><dl class=\"admin\"><dt class=\"hideingallery\">Your collection</dt><dd><a href=\"/signup\">Sign up</a> for a free account to record your LEGO collection here at Brickset.</dd></dl><dl class=\"buylinks\"><dt>Buy this set at</dt><dd><ul><li>\\n</li><li><a class=\"amazon\" href=\"https://www.amazon.com/gp/search?ie=UTF8&amp;tag=brickset-20&amp;linkCode=ur2&amp;linkId=8bc40397baeb4fbd44872856235b47d1&amp;camp=1789&amp;creative=9325&amp;index=toys-and-games&amp;keywords=LEGO%2010926\">Amazon</a>\\n</li><li>\\n</li><li>\\n<a class=\"bricklink\" href=\"http://alpha.bricklink.com/pages/clone/catalogitem.page?S=10926-1#T=S&O={&quot;ss&quot;:&quot;US&quot;}\">BrickLink</a>\\n</li></ul></dd></dl></div></article><article class=\"set\">\\n<a href=\"https://images.brickset.com/sets/large/10927-1.jpg?201912050531\" class=\"highslide plain mainimg\" onclick=\"return hs.expand(this)\">\\n<img src=\"https://images.brickset.com/sets/small/10927-1.jpg?201912050531\" title=\"10927-1: Pizza Stand\" onError=\"this.src=\\'/assets/images/spacer2.png\\'\" loading=\"lazy\" alt=\"<h1>Pizza Stand</h1><div class=\\'tags floatleft\\'><a href=\\'/sets/10927-1/Pizza-Stand\\'>10927-1</a> <a href=\\'/sets/theme-Duplo\\'>Duplo</a> <a class=\\'year\\' href=\\'/sets/theme-Duplo/year-2020\\'>2020</a> </div><div class=\\'floatright\\'>&copy;2020 LEGO Group</div>\" />\\n</a><div class=\"highslide-caption\">\\n<h1>Pizza Stand</h1><div class=\"tags floatleft\"><a href=\"/sets/10927-1/Pizza-Stand\">10927-1</a> <a href=\"/sets/theme-Duplo\">Duplo</a> <a class=\"year\" href=\"/sets/theme-Duplo/year-2020\">2020</a> </div><div class=\"floatright\">&copy;2020 LEGO Group</div>\\n<div class=\"pn\">\\n<a href=\"#\" onclick=\"return hs.previous(this)\" title=\"Previous (left arrow key)\">&#171; Previous</a>\\n<a href=\"#\" onclick=\"return hs.next(this)\" title=\"Next (right arrow key)\">Next &#187;</a>\\n</div>\\n</div>\\n<div class=\"meta\"><h1><a href=\"/sets/10927-1/Pizza-Stand\"><span>10927: </span> Pizza Stand</a></h1><div class=\"tags\"><a href=\"/sets/10927-1/Pizza-Stand\">10927-1</a> <a href=\"/sets/theme-Duplo\">Duplo</a> <a class=\"year\" href=\"/sets/theme-Duplo/year-2020\">2020</a> </div><div class=\"tags\"><div class=\"viewtags\"><a class=\"plain\" href=\"#\">View tags »</a></div><div id=\"tags29761\"><a href=\"/sets/tag-Dog\">Dog</a> <a href=\"/sets/tag-Pizza\">Pizza</a> <a href=\"/sets/tag-Pizzeria\">Pizzeria</a> <a href=\"/sets/tag-Restaurant\">Restaurant</a> </div></div><div class=\"rating\"><span><span class=\"full\">&#10029;</span><span class=\"full\">&#10029;</span><span class=\"full\">&#10029;</span><span class=\"full\">&#10029;</span><span class=\"empty\">&#10025;</span> 3.8</span> <a class=\"popuplink plain\" href=\"ratings?set=10927-1\">24 ratings</a></div><div class=\"col\"><dl><dt>Pieces</dt><dd><a class=\"plain\" href=\"/inventories/10927-1\">18</a></dd><dt>Minifigs</dt><dd><a class=\"plain\" href=\"/minifigs/in-10927-1\">1</a> </dd><dt>Minifigs</dt><dd class=\"tags\"><a href=\"/minifigs/47394pb280\">47394pb280</a> </dd><dt>RRP</dt><dd>$9.99, €9.99 | <a class=\"popuplink plain\" href=\"prices?set=10927-1\">More</a></dd><dt>PPP</dt><dd>55.5c, 55.5c</dd><dt>Packaging</dt><dd>Box</dd><dt>Instructions</dt><dd><a class=\"popuplink plain\" href=\"instructions2?set=10927-1&s=1\">Yes</a></dd><dt>Additional images</dt><dd><a class=\"plain\" href=\"/sets/10927-1?more-images\">4</a></dd></dl></div><div class=\"col\"><dl><dt>Launch/exit</dt><dd>1 Jan 2020 - 31 Dec 2021 (1y 11m 29d)</dd><dt>Value new</dt><dd><a class=\"plain\" href=\"https://www.bricklink.com/catalogPG.asp?S=10927-1-&colorID=0&v=D&viewExclude=Y&cID=Y\">~$10.89</a></dd></dl><dl class=\"highlight\"></dl></div></div></dd></dl><div class=\"action\"><dl class=\"admin\"><dt class=\"hideingallery\">Our community</dt><dd class=\"hideingallery\">669 own this set, 92 want it</dd></dl><dl class=\"admin\"><dt class=\"hideingallery\">Your collection</dt><dd><a href=\"/signup\">Sign up</a> for a free account to record your LEGO collection here at Brickset.</dd></dl><dl class=\"buylinks\"><dt>Buy this set at</dt><dd><ul><li>\\n</li><li><a class=\"amazon\" href=\"https://www.amazon.com/gp/search?ie=UTF8&amp;tag=brickset-20&amp;linkCode=ur2&amp;linkId=8bc40397baeb4fbd44872856235b47d1&amp;camp=1789&amp;creative=9325&amp;index=toys-and-games&amp;keywords=LEGO%2010927\">Amazon</a>\\n</li><li>\\n</li><li>\\n<a class=\"bricklink\" href=\"http://alpha.bricklink.com/pages/clone/catalogitem.page?S=10927-1#T=S&O={&quot;ss&quot;:&quot;US&quot;}\">BrickLink</a>\\n</li></ul></dd></dl></div></article><article class=\"set\">\\n<a href=\"https://images.brickset.com/sets/large/10928-1.jpg?201912050531\" class=\"highslide plain mainimg\" onclick=\"return hs.expand(this)\">\\n<img src=\"https://images.brickset.com/sets/small/10928-1.jpg?201912050531\" title=\"10928-1: Bakery\" onError=\"this.src=\\'/assets/images/spacer2.png\\'\" loading=\"lazy\" alt=\"<h1>Bakery</h1><div class=\\'tags floatleft\\'><a href=\\'/sets/10928-1/Bakery\\'>10928-1</a> <a href=\\'/sets/theme-Duplo\\'>Duplo</a> <a class=\\'year\\' href=\\'/sets/theme-Duplo/year-2020\\'>2020</a> </div><div class=\\'floatright\\'>&copy;2020 LEGO Group</div>\" />\\n</a><div class=\"highslide-caption\">\\n<h1>Bakery</h1><div class=\"tags floatleft\"><a href=\"/sets/10928-1/Bakery\">10928-1</a> <a href=\"/sets/theme-Duplo\">Duplo</a> <a class=\"year\" href=\"/sets/theme-Duplo/year-2020\">2020</a> </div><div class=\"floatright\">&copy;2020 LEGO Group</div>\\n<div class=\"pn\">\\n<a href=\"#\" onclick=\"return hs.previous(this)\" title=\"Previous (left arrow key)\">&#171; Previous</a>\\n<a href=\"#\" onclick=\"return hs.next(this)\" title=\"Next (right arrow key)\">Next &#187;</a>\\n</div>\\n</div>\\n<div class=\"meta\"><h1><a href=\"/sets/10928-1/Bakery\"><span>10928: </span> Bakery</a></h1><div class=\"tags\"><a href=\"/sets/10928-1/Bakery\">10928-1</a> <a href=\"/sets/theme-Duplo\">Duplo</a> <a class=\"year\" href=\"/sets/theme-Duplo/year-2020\">2020</a> </div><div class=\"tags\"><div class=\"viewtags\"><a class=\"plain\" href=\"#\">View tags »</a></div><div id=\"tags29762\"><a href=\"/sets/tag-Baked-Goods\">Baked Goods</a> <a href=\"/sets/tag-Delivery-Truck\">Delivery Truck</a> <a href=\"/sets/tag-Kitchen\">Kitchen</a> <a href=\"/sets/tag-Restaurant\">Restaurant</a> <a href=\"/sets/tag-Shop\">Shop</a> <a href=\"/sets/tag-Truck\">Truck</a> </div></div><div class=\"rating\"></div><div class=\"col\"><dl><dt>Pieces</dt><dd><a class=\"plain\" href=\"/inventories/10928-1\">46</a></dd><dt>Minifigs</dt><dd><a class=\"plain\" href=\"/minifigs/in-10928-1\">2</a> </dd><dt>Minifigs</dt><dd class=\"tags\"><a href=\"/minifigs/47205pb072\">47205pb072</a> <a href=\"/minifigs/47394pb283\">47394pb283</a> </dd><dt>RRP</dt><dd>$34.99, €39.99 | <a class=\"popuplink plain\" href=\"prices?set=10928-1\">More</a></dd><dt>PPP</dt><dd>76.1c, 86.9c</dd><dt>Packaging</dt><dd>Box</dd><dt>Instructions</dt><dd><a class=\"popuplink plain\" href=\"instructions2?set=10928-1&s=1\">Yes</a></dd><dt>Additional images</dt><dd><a class=\"plain\" href=\"/sets/10928-1?more-images\">4</a></dd></dl></div><div class=\"col\"><dl><dt>Launch/exit</dt><dd>1 Jan 2020 - 31 Jul 2021 (1y 6m 29d)</dd><dt>Value new</dt><dd><a class=\"plain\" href=\"https://www.bricklink.com/catalogPG.asp?S=10928-1-&colorID=0&v=D&viewExclude=Y&cID=Y\">~$27.05</a></dd></dl><dl class=\"highlight\"></dl></div></div></dd></dl><div class=\"action\"><dl class=\"admin\"><dt class=\"hideingallery\">Our community</dt><dd class=\"hideingallery\">201 own this set, 75 want it</dd></dl><dl class=\"admin\"><dt class=\"hideingallery\">Your collection</dt><dd><a href=\"/signup\">Sign up</a> for a free account to record your LEGO collection here at Brickset.</dd></dl><dl class=\"buylinks\"><dt>Buy this set at</dt><dd><ul><li>\\n</li><li><a class=\"amazon\" href=\"https://www.amazon.com/gp/search?ie=UTF8&amp;tag=brickset-20&amp;linkCode=ur2&amp;linkId=8bc40397baeb4fbd44872856235b47d1&amp;camp=1789&amp;creative=9325&amp;index=toys-and-games&amp;keywords=LEGO%2010928\">Amazon</a>\\n</li><li>\\n</li><li>\\n<a class=\"bricklink\" href=\"http://alpha.bricklink.com/pages/clone/catalogitem.page?S=10928-1#T=S&O={&quot;ss&quot;:&quot;US&quot;}\">BrickLink</a>\\n</li></ul></dd></dl></div></article><article class=\"set\">\\n<a href=\"https://images.brickset.com/sets/large/10929-1.jpg?201912050531\" class=\"highslide plain mainimg\" onclick=\"return hs.expand(this)\">\\n<img src=\"https://images.brickset.com/sets/small/10929-1.jpg?201912050531\" title=\"10929-1: Modular Playhouse\" onError=\"this.src=\\'/assets/images/spacer2.png\\'\" loading=\"lazy\" alt=\"<h1>Modular Playhouse</h1><div class=\\'tags floatleft\\'><a href=\\'/sets/10929-1/Modular-Playhouse\\'>10929-1</a> <a href=\\'/sets/theme-Duplo\\'>Duplo</a> <a class=\\'year\\' href=\\'/sets/theme-Duplo/year-2020\\'>2020</a> </div><div class=\\'floatright\\'>&copy;2020 LEGO Group</div>\" />\\n</a><div class=\"highslide-caption\">\\n<h1>Modular Playhouse</h1><div class=\"tags floatleft\"><a href=\"/sets/10929-1/Modular-Playhouse\">10929-1</a> <a href=\"/sets/theme-Duplo\">Duplo</a> <a class=\"year\" href=\"/sets/theme-Duplo/year-2020\">2020</a> </div><div class=\"floatright\">&copy;2020 LEGO Group</div>\\n<div class=\"pn\">\\n<a href=\"#\" onclick=\"return hs.previous(this)\" title=\"Previous (left arrow key)\">&#171; Previous</a>\\n<a href=\"#\" onclick=\"return hs.next(this)\" title=\"Next (right arrow key)\">Next &#187;</a>\\n</div>\\n</div>\\n<div class=\"meta\"><h1><a href=\"/sets/10929-1/Modular-Playhouse\"><span>10929: </span> Modular Playhouse</a></h1><div class=\"tags\"><a href=\"/sets/10929-1/Modular-Playhouse\">10929-1</a> <a href=\"/sets/theme-Duplo\">Duplo</a> <a class=\"year\" href=\"/sets/theme-Duplo/year-2020\">2020</a> </div><div class=\"tags\"><div class=\"viewtags\"><a class=\"plain\" href=\"#\">View tags »</a></div><div id=\"tags29763\"><a href=\"/sets/tag-Baked-Goods\">Baked Goods</a> <a href=\"/sets/tag-Bathroom\">Bathroom</a> <a href=\"/sets/tag-Bear\">Bear</a> <a href=\"/sets/tag-Bedroom\">Bedroom</a> <a href=\"/sets/tag-Dog\">Dog</a> <a href=\"/sets/tag-Horse\">Horse</a> <a href=\"/sets/tag-House\">House</a> <a href=\"/sets/tag-Kitchen\">Kitchen</a> <a href=\"/sets/tag-Multibuild\">Multibuild</a> </div></div><div class=\"rating\"><span><span class=\"full\">&#10029;</span><span class=\"full\">&#10029;</span><span class=\"full\">&#10029;</span><span class=\"full\">&#10029;</span><span class=\"half\">&#10029;</span> 4.4</span> <a class=\"popuplink plain\" href=\"ratings?set=10929-1\">24 ratings</a> <a href=\"/reviews/set-10929-1\">2&nbsp;reviews</a></div><div class=\"col\"><dl><dt>Pieces</dt><dd><a class=\"plain\" href=\"/inventories/10929-1\">129</a></dd><dt>Minifigs</dt><dd><a class=\"plain\" href=\"/minifigs/in-10929-1\">3</a> </dd><dt>Minifigs</dt><dd class=\"tags\"><a href=\"/minifigs/47205pb073\">47205pb073</a> <a href=\"/minifigs/47394pb280\">47394pb280</a> <a href=\"/minifigs/47394pb284\">47394pb284</a> </dd><dt>RRP</dt><dd>$59.99, €59.99 | <a class=\"popuplink plain\" href=\"prices?set=10929-1\">More</a></dd><dt>PPP</dt><dd>46.5c, 46.5c</dd><dt>Packaging</dt><dd>Box</dd><dt>Instructions</dt><dd><a class=\"popuplink plain\" href=\"instructions2?set=10929-1&s=1\">Yes</a></dd><dt>Additional images</dt><dd><a class=\"plain\" href=\"/sets/10929-1?more-images\">4</a></dd></dl></div><div class=\"col\"><dl><dt>Launch/exit</dt><dd>1 Jan 2020 - 31 Dec 2022 (2y 11m 29d)</dd><dt>Value new</dt><dd><a class=\"plain\" href=\"https://www.bricklink.com/catalogPG.asp?S=10929-1-&colorID=0&v=D&viewExclude=Y&cID=Y\">~$79.24</a></dd></dl><dl class=\"highlight\"></dl></div></div></dd></dl><div class=\"action\"><dl class=\"admin\"><dt class=\"hideingallery\">Our community</dt><dd class=\"hideingallery\">632 own this set, 124 want it</dd></dl><dl class=\"admin\"><dt class=\"hideingallery\">Your collection</dt><dd><a href=\"/signup\">Sign up</a> for a free account to record your LEGO collection here at Brickset.</dd></dl><dl class=\"buylinks\"><dt>Buy this set at</dt><dd><ul><li>\\n</li><li><a class=\"amazon\" href=\"https://www.amazon.com/gp/search?ie=UTF8&amp;tag=brickset-20&amp;linkCode=ur2&amp;linkId=8bc40397baeb4fbd44872856235b47d1&amp;camp=1789&amp;creative=9325&amp;index=toys-and-games&amp;keywords=LEGO%2010929\">Amazon</a>\\n</li><li>\\n</li><li>\\n<a class=\"bricklink\" href=\"http://alpha.bricklink.com/pages/clone/catalogitem.page?S=10929-1#T=S&O={&quot;ss&quot;:&quot;US&quot;}\">BrickLink</a>\\n</li></ul></dd></dl></div></article><article class=\"set\">\\n<a href=\"https://images.brickset.com/sets/large/10930-1.jpg?202005210856\" class=\"highslide plain mainimg\" onclick=\"return hs.expand(this)\">\\n<img src=\"https://images.brickset.com/sets/small/10930-1.jpg?202005210856\" title=\"10930-1: Bulldozer\" onError=\"this.src=\\'/assets/images/spacer2.png\\'\" loading=\"lazy\" alt=\"<h1>Bulldozer</h1><div class=\\'tags floatleft\\'><a href=\\'/sets/10930-1/Bulldozer\\'>10930-1</a> <a href=\\'/sets/theme-Duplo\\'>Duplo</a> <a class=\\'year\\' href=\\'/sets/theme-Duplo/year-2020\\'>2020</a> </div><div class=\\'floatright\\'>&copy;2020 LEGO Group</div>\" />\\n</a><div class=\"highslide-caption\">\\n<h1>Bulldozer</h1><div class=\"tags floatleft\"><a href=\"/sets/10930-1/Bulldozer\">10930-1</a> <a href=\"/sets/theme-Duplo\">Duplo</a> <a class=\"year\" href=\"/sets/theme-Duplo/year-2020\">2020</a> </div><div class=\"floatright\">&copy;2020 LEGO Group</div>\\n<div class=\"pn\">\\n<a href=\"#\" onclick=\"return hs.previous(this)\" title=\"Previous (left arrow key)\">&#171; Previous</a>\\n<a href=\"#\" onclick=\"return hs.next(this)\" title=\"Next (right arrow key)\">Next &#187;</a>\\n</div>\\n</div>\\n<div class=\"meta\"><h1><a href=\"/sets/10930-1/Bulldozer\"><span>10930: </span> Bulldozer</a></h1><div class=\"tags\"><a href=\"/sets/10930-1/Bulldozer\">10930-1</a> <a href=\"/sets/theme-Duplo\">Duplo</a> <a class=\"year\" href=\"/sets/theme-Duplo/year-2020\">2020</a> </div><div class=\"tags\"><div class=\"viewtags\"><a class=\"plain\" href=\"#\">View tags »</a></div><div id=\"tags30349\"><a href=\"/sets/tag-Bulldozer\">Bulldozer</a> <a href=\"/sets/tag-Construction\">Construction</a> <a href=\"/sets/tag-Road-Signs\">Road Signs</a> </div></div><div class=\"rating\"></div><div class=\"col\"><dl><dt>Pieces</dt><dd><a class=\"plain\" href=\"/inventories/10930-1\">10</a></dd><dt>Minifigs</dt><dd><a class=\"plain\" href=\"/minifigs/in-10930-1\">1</a> </dd><dt>Minifigs</dt><dd class=\"tags\"><a href=\"/minifigs/47394pb288\">47394pb288</a> </dd><dt>RRP</dt><dd>$9.99, €9.99 | <a class=\"popuplink plain\" href=\"prices?set=10930-1\">More</a></dd><dt>PPP</dt><dd>99.9c, 99.9c</dd><dt>Packaging</dt><dd>Box</dd><dt>Instructions</dt><dd><a class=\"popuplink plain\" href=\"instructions2?set=10930-1&s=1\">Yes</a></dd><dt>Additional images</dt><dd><a class=\"plain\" href=\"/sets/10930-1?more-images\">8</a></dd></dl></div><div class=\"col\"><dl><dt>Launch/exit</dt><dd>1 Jun 2020 - 31 Dec 2023 (3y 6m 29d)</dd><dt>Value new</dt><dd><a class=\"plain\" href=\"https://www.bricklink.com/catalogPG.asp?S=10930-1-&colorID=0&v=D&viewExclude=Y&cID=Y\">~$7.67</a></dd></dl><dl class=\"highlight\"></dl></div></div></dd></dl><div class=\"action\"><dl class=\"admin\"><dt class=\"hideingallery\">Our community</dt><dd class=\"hideingallery\">630 own this set, 52 want it</dd></dl><dl class=\"admin\"><dt class=\"hideingallery\">Your collection</dt><dd><a href=\"/signup\">Sign up</a> for a free account to record your LEGO collection here at Brickset.</dd></dl><dl class=\"buylinks\"><dt>Buy this set at</dt><dd><ul><li>\\n</li><li><a class=\"amazon\" href=\"https://www.amazon.com/gp/search?ie=UTF8&amp;tag=brickset-20&amp;linkCode=ur2&amp;linkId=8bc40397baeb4fbd44872856235b47d1&amp;camp=1789&amp;creative=9325&amp;index=toys-and-games&amp;keywords=LEGO%2010930\">Amazon</a>\\n</li><li>\\n</li><li>\\n<a class=\"bricklink\" href=\"http://alpha.bricklink.com/pages/clone/catalogitem.page?S=10930-1#T=S&O={&quot;ss&quot;:&quot;US&quot;}\">BrickLink</a>\\n</li></ul></dd></dl></div></article>\\n</section>\\n<div class=\"pagination\">\\n<ul class=\"pagelength\">\\n<li class=\"first\">\\n<span>&#171;</span>\\n</li>\\n<li class=\"previous\">\\n<span>&#8249;</span>\\n</li>\\n<li class=\"active\"><span>1</span></li> <li class=\"page\"><a href=\"https://brickset.com/sets/year-2020/page-2\">2</a></li> <li class=\"page\"><a href=\"https://brickset.com/sets/year-2020/page-3\">3</a></li> <li class=\"page\"><a href=\"https://brickset.com/sets/year-2020/page-4\">4</a></li> <li class=\"page\"><a href=\"https://brickset.com/sets/year-2020/page-5\">5</a></li> <li class=\"page\"><a href=\"https://brickset.com/sets/year-2020/page-6\">6</a></li> <li class=\"page\"><a href=\"https://brickset.com/sets/year-2020/page-7\">7</a></li>\\n<li class=\"next\">\\n<a href=\"https://brickset.com/sets/year-2020/page-2\">&#8250;</a>\\n</li>\\n<li class=\"last\">\\n<a href=\"https://brickset.com/sets/year-2020/page-35\">&#187;</a>\\n</li>\\n</ul>\\n</div>\\n<aside role=\"complementary\" class=\"nocols sets\">\\n<div class=\"browselinks\">\\n<div class=\"col\"><a href=\"/sets/year-2019\">&#171; 2019</a></div>\\n<div class=\"col\"></div>\\n<div class=\"col\"><a href=\"/sets/year-2021\">2021 &#187;</a></div>\\n</div>\\n</aside>\\n</div>\\n<div id=\"ajaxContainer\"></div>\\n</div>\\n<section class=\"ad\">\\n<div data-pw-desk=\"leaderboard_btf\" id=\"pwLeaderboardBtf1\"></div>\\n<script>window.ramp.que.push(function () { window.ramp.addTag(\\'pwLeaderboardBtf1\\'); });</script>\\n<div data-fixed=\"“true”\" data-pw-mobi=\"leaderboard_btf\" id=\"pwLeaderboardBtf2\"></div>\\n<script>window.ramp.que.push(function () { window.ramp.addTag(\\'pwLeaderboardBtf2\\'); });</script>\\n</section>\\n<footer role=\"navigation\">\\n<div class=\"wrap\">\\n<nav role=\"navigation\" class=\"breadcrumbs\">\\nYou are here:\\n<ul><li><a href=\"/\">Home</a></li><li><a href=\"/browse\">Browse</a></li><li><a href=\"/sets\">Sets</a></li><li>2020</li></ul>\\n</nav>\\n</div>\\n</footer>\\n<footer role=\"contentinfo\">\\n<div class=\"wrap\">\\n<section class=\"stats\">\\n<h3>Site Statistics</h3>\\n<ul>\\n<li>There are <mark>20,619 items</mark> in the Brickset database</li>\\n<li>Brickset members have written <mark>39,332 set reviews</mark></li>\\n<li><mark>9,531 members</mark> have logged in in the last 24 hours, <mark>22,015</mark> in the last 7 days, <mark>37,278</mark> in the last month</li>\\n<li><mark>495 people</mark> have joined this week. There are now <mark>322,066 members</mark></li>\\n<li>Between us we own <mark>41,573,565 sets</mark> worth at least <mark>US$1,477,111,329</mark> and containing <mark>15,040,353,709 pieces</mark></li>\\n</ul>\\n</section>\\n<section class=\"contact\">\\n<h3>Get in touch</h3>\\n<p>If you have LEGO news, new images or something else to tell us about, send us a message. If you have a lot to tell us, use <a href=\"/contact\">this contact form</a>.</p>\\n<p id=\"contactFormResult\" class=\"alert\"></p>\\n<form id=\"contactForm\" method=\"post\" action=\"/contact\">\\n<div class=\"col\">\\n<input type=\"text\" placeholder=\"Name\" id=\"contactFormName\" value name=\"name\" required />\\n<input type=\"email\" placeholder=\"Email\" id=\"contactFormEmail\" value name=\"email\" required />\\n</div>\\n<div class=\"col\">\\n<textarea placeholder=\"Message\" id=\"contactFormMessage\" name=\"message\"></textarea>\\n</div>\\n<input type=\"submit\" value=\"Send message\" />\\n</form>\\n</section>\\n<small class=\"links\">\\n<a href=\"/faq\">Frequently Asked Questions</a> |\\n<a href=\"/article/52659/about-brickset\">About Brickset</a> |\\n<a href=\"/article/52660/privacy-and-cookies\">Privacy and Cookies</a> |\\n<a href=\"/article/52661/affiliate-marketing-disclosure\">Affiliate Marketing Disclosure</a> |\\n<a href=\"/sitemap\">Site Map</a> |\\n<a href=\"/contact\">Contact Us</a>\\n</small>\\n<small>LEGO, the LEGO logo, the Minifigure, and the Brick and Knob configurations are trademarks of the LEGO Group of Companies. &copy;2024 The LEGO Group.</small>\\n<small>Brickset, the Brickset logo and all content not covered by The LEGO Group\\'s copyright is, unless otherwise stated, &copy;1997-2024 Brickset ltd.</small>\\n<small>&nbsp;</small>\\n<small><a href=\"https://lan.lego.com\"><img src=\"/assets/images/misc/rlfm-white-logo.png\" alt=\"Recognised LEGO Fan Media\" /></a></small>\\n<small>&nbsp;</small>\\n<small class=\"onlineusers\"></small>\\n</div>\\n</footer>\\n</div>\\n<div id=\"toTop\">^ Top</div>\\n<script src=\"/assets/template/js/vendor/modernizr-2.6.2.min.js\"></script>\\n<script src=\"//ajax.googleapis.com/ajax/libs/jquery/1.9.1/jquery.min.js\"></script>\\n<script src=\"//ajax.googleapis.com/ajax/libs/jqueryui/1.9.2/jquery-ui.min.js\"></script>\\n<script>window.jQuery || document.write(\\'<script src=\"/assets/template/js/vendor/jquery-1.9.1.min.js\"><\\\\/script><script src=\"/assets/template/js/vendor/jquery-ui-1.9.1.min.js\"><\\\\/script>\\')</script>\\n<script src=\"/assets/template/js/main.js?v=20\"></script>\\n<script src=\"/assets/js/brickset.js?v=20\"></script>\\n<script src=\"/assets/js/highslide/highslide-with-html.packed.js\"></script>\\n<script src=\"//cdn.intergient.com/ramp_core.js\"></script>\\n<script type=\"text/javascript\" src=\"/assets/js/jeditable/jquery.jeditable.min.js\"></script>\\n<script type=\"text/javascript\">\\r\\n        \\r\\n    </script>\\n</body>\\n</html>'"
            ],
            "application/vnd.google.colaboratory.intrinsic+json": {
              "type": "string"
            }
          },
          "metadata": {},
          "execution_count": 5
        }
      ],
      "id": "K1qlITi9HHK6"
    },
    {
      "cell_type": "code",
      "source": [
        "from bs4 import BeautifulSoup\n",
        "\n",
        "soup = BeautifulSoup(site.text)"
      ],
      "metadata": {
        "id": "_c99oQt_eEd7"
      },
      "id": "_c99oQt_eEd7",
      "execution_count": 14,
      "outputs": []
    },
    {
      "cell_type": "code",
      "source": [
        "#want to find the prices of all the sets on the page\n",
        "prices = soup.find('article').find('dt', string = 'RRP' ).find_next_sibling().text"
      ],
      "metadata": {
        "id": "t_oF8zHgMlLg"
      },
      "execution_count": 15,
      "outputs": [],
      "id": "t_oF8zHgMlLg"
    },
    {
      "cell_type": "code",
      "source": [
        "#now want to try to isolate the price in euro using regular expression to isolate a part of teh string and collect it as our value\n",
        "import re\n",
        "\n",
        "#(\\u20AC) will give us euros (its a unit code)\n",
        "\n",
        "float(re.search(r'(\\u20AC)(\\d+[.]\\d{2})', prices).groups()[1]) #I dont understand what the last part of this could with groups is doing"
      ],
      "metadata": {
        "colab": {
          "base_uri": "https://localhost:8080/"
        },
        "id": "0FxjLyNBMIHu",
        "outputId": "543301e6-6420-48d8-805e-5611c5167e30"
      },
      "execution_count": 16,
      "outputs": [
        {
          "output_type": "execute_result",
          "data": {
            "text/plain": [
              "199.99"
            ]
          },
          "metadata": {},
          "execution_count": 16
        }
      ],
      "id": "0FxjLyNBMIHu"
    },
    {
      "cell_type": "code",
      "source": [
        "#make a list that finds all of the minfig stuff IDk im a struggler (was able to get teh code to look at the minfig text on the website! yay)\n",
        "\n",
        "\n",
        "minifigs_s = soup.find('dt', string = 'Minifigs').find_next_sibling().text\n",
        "\n",
        "print(minifigs_s)\n",
        "\n",
        "minifigs = (re.search(r'^[0-9]+$', minifigs_s)) #I want the result to only print out the number\n",
        "row.append(minifigs)"
      ],
      "metadata": {
        "colab": {
          "base_uri": "https://localhost:8080/",
          "height": 211
        },
        "id": "09rUMfDAgmO6",
        "outputId": "08186ca6-c9f0-4a59-af4a-3d2d7704bc6f"
      },
      "id": "09rUMfDAgmO6",
      "execution_count": 32,
      "outputs": [
        {
          "output_type": "error",
          "ename": "NameError",
          "evalue": "name 'articles' is not defined",
          "traceback": [
            "\u001b[0;31m---------------------------------------------------------------------------\u001b[0m",
            "\u001b[0;31mNameError\u001b[0m                                 Traceback (most recent call last)",
            "\u001b[0;32m<ipython-input-32-8d62e95c4c61>\u001b[0m in \u001b[0;36m<cell line: 2>\u001b[0;34m()\u001b[0m\n\u001b[1;32m      1\u001b[0m \u001b[0;31m#make a list that finds all of the minfig stuff IDk im a struggler (was able to get teh code to look at the minfig text on the website! yay)\u001b[0m\u001b[0;34m\u001b[0m\u001b[0;34m\u001b[0m\u001b[0m\n\u001b[0;32m----> 2\u001b[0;31m \u001b[0;32mfor\u001b[0m \u001b[0mi\u001b[0m \u001b[0;32min\u001b[0m \u001b[0marticles\u001b[0m\u001b[0;34m:\u001b[0m\u001b[0;34m\u001b[0m\u001b[0;34m\u001b[0m\u001b[0m\n\u001b[0m\u001b[1;32m      3\u001b[0m     \u001b[0mrow\u001b[0m \u001b[0;34m=\u001b[0m \u001b[0;34m[\u001b[0m\u001b[0;34m]\u001b[0m\u001b[0;34m\u001b[0m\u001b[0;34m\u001b[0m\u001b[0m\n\u001b[1;32m      4\u001b[0m \u001b[0;34m\u001b[0m\u001b[0m\n\u001b[1;32m      5\u001b[0m \u001b[0mminifigs_s\u001b[0m \u001b[0;34m=\u001b[0m \u001b[0msoup\u001b[0m\u001b[0;34m.\u001b[0m\u001b[0mfind\u001b[0m\u001b[0;34m(\u001b[0m\u001b[0;34m'dt'\u001b[0m\u001b[0;34m,\u001b[0m \u001b[0mstring\u001b[0m \u001b[0;34m=\u001b[0m \u001b[0;34m'Minifigs'\u001b[0m\u001b[0;34m)\u001b[0m\u001b[0;34m.\u001b[0m\u001b[0mfind_next_sibling\u001b[0m\u001b[0;34m(\u001b[0m\u001b[0;34m)\u001b[0m\u001b[0;34m.\u001b[0m\u001b[0mtext\u001b[0m\u001b[0;34m\u001b[0m\u001b[0;34m\u001b[0m\u001b[0m\n",
            "\u001b[0;31mNameError\u001b[0m: name 'articles' is not defined"
          ]
        }
      ]
    },
    {
      "cell_type": "code",
      "source": [
        "[i.find('dt' , string = 'Minifigs').text for i in soup.find_all('article')]"
      ],
      "metadata": {
        "colab": {
          "base_uri": "https://localhost:8080/",
          "height": 193
        },
        "id": "fENTlvgWlOZH",
        "outputId": "165c7ff7-5806-482d-8dbb-db5b5e764f88"
      },
      "id": "fENTlvgWlOZH",
      "execution_count": 50,
      "outputs": [
        {
          "output_type": "error",
          "ename": "AttributeError",
          "evalue": "'NoneType' object has no attribute 'text'",
          "traceback": [
            "\u001b[0;31m---------------------------------------------------------------------------\u001b[0m",
            "\u001b[0;31mAttributeError\u001b[0m                            Traceback (most recent call last)",
            "\u001b[0;32m<ipython-input-50-3d7fe7091f60>\u001b[0m in \u001b[0;36m<cell line: 1>\u001b[0;34m()\u001b[0m\n\u001b[0;32m----> 1\u001b[0;31m \u001b[0;34m[\u001b[0m\u001b[0mi\u001b[0m\u001b[0;34m.\u001b[0m\u001b[0mfind\u001b[0m\u001b[0;34m(\u001b[0m\u001b[0;34m'dt'\u001b[0m \u001b[0;34m,\u001b[0m \u001b[0mstring\u001b[0m \u001b[0;34m=\u001b[0m \u001b[0;34m'Minifigs'\u001b[0m\u001b[0;34m)\u001b[0m\u001b[0;34m.\u001b[0m\u001b[0mtext\u001b[0m \u001b[0;32mfor\u001b[0m \u001b[0mi\u001b[0m \u001b[0;32min\u001b[0m \u001b[0msoup\u001b[0m\u001b[0;34m.\u001b[0m\u001b[0mfind_all\u001b[0m\u001b[0;34m(\u001b[0m\u001b[0;34m'article'\u001b[0m\u001b[0;34m)\u001b[0m\u001b[0;34m]\u001b[0m\u001b[0;34m\u001b[0m\u001b[0;34m\u001b[0m\u001b[0m\n\u001b[0m",
            "\u001b[0;32m<ipython-input-50-3d7fe7091f60>\u001b[0m in \u001b[0;36m<listcomp>\u001b[0;34m(.0)\u001b[0m\n\u001b[0;32m----> 1\u001b[0;31m \u001b[0;34m[\u001b[0m\u001b[0mi\u001b[0m\u001b[0;34m.\u001b[0m\u001b[0mfind\u001b[0m\u001b[0;34m(\u001b[0m\u001b[0;34m'dt'\u001b[0m \u001b[0;34m,\u001b[0m \u001b[0mstring\u001b[0m \u001b[0;34m=\u001b[0m \u001b[0;34m'Minifigs'\u001b[0m\u001b[0;34m)\u001b[0m\u001b[0;34m.\u001b[0m\u001b[0mtext\u001b[0m \u001b[0;32mfor\u001b[0m \u001b[0mi\u001b[0m \u001b[0;32min\u001b[0m \u001b[0msoup\u001b[0m\u001b[0;34m.\u001b[0m\u001b[0mfind_all\u001b[0m\u001b[0;34m(\u001b[0m\u001b[0;34m'article'\u001b[0m\u001b[0;34m)\u001b[0m\u001b[0;34m]\u001b[0m\u001b[0;34m\u001b[0m\u001b[0;34m\u001b[0m\u001b[0m\n\u001b[0m",
            "\u001b[0;31mAttributeError\u001b[0m: 'NoneType' object has no attribute 'text'"
          ]
        }
      ]
    },
    {
      "cell_type": "code",
      "source": [
        "#make a list that finds all of the Piece set numbers\n",
        "[i.find('dd').text for i in soup.find_all('article')]"
      ],
      "metadata": {
        "colab": {
          "base_uri": "https://localhost:8080/"
        },
        "id": "WQ2Chn12KgrO",
        "outputId": "913e1263-01ae-4df3-ed1c-119942105e49"
      },
      "execution_count": 33,
      "outputs": [
        {
          "output_type": "execute_result",
          "data": {
            "text/plain": [
              "['2504',\n",
              " '960',\n",
              " '3898',\n",
              " '3231',\n",
              " '2352',\n",
              " '1197',\n",
              " '9036',\n",
              " '1271',\n",
              " '80',\n",
              " '65',\n",
              " '85',\n",
              " '36',\n",
              " '6',\n",
              " '7',\n",
              " '33',\n",
              " '17',\n",
              " '30',\n",
              " '35',\n",
              " '42',\n",
              " '17',\n",
              " '16',\n",
              " '18',\n",
              " '46',\n",
              " '129',\n",
              " '10']"
            ]
          },
          "metadata": {},
          "execution_count": 33
        }
      ],
      "id": "WQ2Chn12KgrO"
    },
    {
      "cell_type": "code",
      "source": [
        "#grab peice information\n",
        "minfigs = soup.find('dd').find_next_sibling().text\n",
        "\n",
        "float(re.search(r'\\d+', minfigs))"
      ],
      "metadata": {
        "colab": {
          "base_uri": "https://localhost:8080/",
          "height": 176
        },
        "id": "4PYqRPqkehAZ",
        "outputId": "d98f36a5-a216-41e1-b852-b10047560d4d"
      },
      "id": "4PYqRPqkehAZ",
      "execution_count": 34,
      "outputs": [
        {
          "output_type": "error",
          "ename": "TypeError",
          "evalue": "float() argument must be a string or a real number, not 'NoneType'",
          "traceback": [
            "\u001b[0;31m---------------------------------------------------------------------------\u001b[0m",
            "\u001b[0;31mTypeError\u001b[0m                                 Traceback (most recent call last)",
            "\u001b[0;32m<ipython-input-34-8db0cea03a02>\u001b[0m in \u001b[0;36m<cell line: 4>\u001b[0;34m()\u001b[0m\n\u001b[1;32m      2\u001b[0m \u001b[0mminfigs\u001b[0m \u001b[0;34m=\u001b[0m \u001b[0msoup\u001b[0m\u001b[0;34m.\u001b[0m\u001b[0mfind\u001b[0m\u001b[0;34m(\u001b[0m\u001b[0;34m'dd'\u001b[0m\u001b[0;34m)\u001b[0m\u001b[0;34m.\u001b[0m\u001b[0mfind_next_sibling\u001b[0m\u001b[0;34m(\u001b[0m\u001b[0;34m)\u001b[0m\u001b[0;34m.\u001b[0m\u001b[0mtext\u001b[0m\u001b[0;34m\u001b[0m\u001b[0;34m\u001b[0m\u001b[0m\n\u001b[1;32m      3\u001b[0m \u001b[0;34m\u001b[0m\u001b[0m\n\u001b[0;32m----> 4\u001b[0;31m \u001b[0mfloat\u001b[0m\u001b[0;34m(\u001b[0m\u001b[0mre\u001b[0m\u001b[0;34m.\u001b[0m\u001b[0msearch\u001b[0m\u001b[0;34m(\u001b[0m\u001b[0;34mr'\\d+'\u001b[0m\u001b[0;34m,\u001b[0m \u001b[0mminfigs\u001b[0m\u001b[0;34m)\u001b[0m\u001b[0;34m)\u001b[0m\u001b[0;34m\u001b[0m\u001b[0;34m\u001b[0m\u001b[0m\n\u001b[0m",
            "\u001b[0;31mTypeError\u001b[0m: float() argument must be a string or a real number, not 'NoneType'"
          ]
        }
      ]
    },
    {
      "cell_type": "code",
      "source": [
        "#Trying with just one page\n",
        "\n",
        "import pandas as pd\n",
        "import requests\n",
        "import re\n",
        "from bs4 import BeautifulSoup\n",
        "import numpy as np #want to incorporate numpy into our float column (idk this one) but it allows us to collect everything even with missing data\n",
        "import time\n",
        "\n",
        "\n",
        "def collectLegoSets(url):\n",
        "  time.sleep(4 + np.random.rand()*3) #has teh code run much more slowly and will be random pauses to prevent the website from detecting the scrpae function as bot\n",
        "  print(url)\n",
        "  site = requests.get(url)\n",
        "  soup = BeautifulSoup(site.text)\n",
        "\n",
        "  articles = soup.find_all('article')\n",
        "\n",
        "  #make a list with length 2 list will include: (title of lego set, price of lego set)<-- later need to add #of pieces and minifigs to this as well so it will be a list of 4\n",
        "\n",
        "  data = []\n",
        "\n",
        "  for i in articles:\n",
        "    row = [] #empty list where we will stick the title and the price\n",
        "    try:\n",
        "      title = i.find('h1').text\n",
        "      row.append(title) #adds the title to the row\n",
        "    except:\n",
        "      row.append('')\n",
        "\n",
        "    try:\n",
        "      price_s = i.find('dt', string = 'RRP' ).find_next_sibling().text\n",
        "      price = float(re.search(r'(\\u20AC)(\\d+[.]\\d{2})', price_s).groups()[1]) #adding the one at the end made it so that when we print out the expression it will only give us the numeric part (so the price) and not the euro symbol\n",
        "      row.append(price) #adds the found price to the row\n",
        "    except:\n",
        "      row.append(np.nan) #if we cant find a price then it will attribute teh result with np (so a missing value) this prevents teh code from failing when certain listing are missing a price\n",
        "\n",
        "    data.append(row) #adds the title and row to our empty row that we added at the begining of the is for lop\n",
        "\n",
        "    #Code for mini figs (continuation as part of homework)\n",
        "    try:\n",
        "      minifigs_s = soup.find('dt', string = 'Minifigs').find_next_sibling().text\n",
        "      minifigs = (re.search(r'^[0-9]+$', minifigs_s)) #I want the result to only print out the number\n",
        "      row.append(minifigs)\n",
        "    except:\n",
        "      row.append(np.nan)\n",
        "\n",
        "  data = pd.DataFrame(data, columns = ['Set', 'Price_Euro','Minifigs']) #created a data fram and then created a title column and a price_euro\n",
        "  data.to_csv(\"lego2019.csv\", index=False)\n",
        "\n",
        "\n",
        "\n"
      ],
      "metadata": {
        "id": "R8PcjlYcDW3J"
      },
      "id": "R8PcjlYcDW3J",
      "execution_count": 65,
      "outputs": []
    },
    {
      "cell_type": "code",
      "source": [
        "collectLegoSets('https://brickset.com/sets/year-2020')\n",
        "\n",
        "\n",
        "data.head()"
      ],
      "metadata": {
        "colab": {
          "base_uri": "https://localhost:8080/",
          "height": 70
        },
        "id": "Vz97uBKYDlBx",
        "outputId": "9d759b31-d4c3-4981-ef7f-681587c243d7"
      },
      "id": "Vz97uBKYDlBx",
      "execution_count": 66,
      "outputs": [
        {
          "output_type": "stream",
          "name": "stdout",
          "text": [
            "https://brickset.com/sets/year-2020\n"
          ]
        },
        {
          "output_type": "execute_result",
          "data": {
            "text/plain": [
              "Empty DataFrame\n",
              "Columns: [Set, Price_Euro, Minifigs]\n",
              "Index: []"
            ],
            "text/html": [
              "\n",
              "  <div id=\"df-8ce43c20-ca0d-4907-a755-3f1ece783fe0\" class=\"colab-df-container\">\n",
              "    <div>\n",
              "<style scoped>\n",
              "    .dataframe tbody tr th:only-of-type {\n",
              "        vertical-align: middle;\n",
              "    }\n",
              "\n",
              "    .dataframe tbody tr th {\n",
              "        vertical-align: top;\n",
              "    }\n",
              "\n",
              "    .dataframe thead th {\n",
              "        text-align: right;\n",
              "    }\n",
              "</style>\n",
              "<table border=\"1\" class=\"dataframe\">\n",
              "  <thead>\n",
              "    <tr style=\"text-align: right;\">\n",
              "      <th></th>\n",
              "      <th>Set</th>\n",
              "      <th>Price_Euro</th>\n",
              "      <th>Minifigs</th>\n",
              "    </tr>\n",
              "  </thead>\n",
              "  <tbody>\n",
              "  </tbody>\n",
              "</table>\n",
              "</div>\n",
              "    <div class=\"colab-df-buttons\">\n",
              "\n",
              "  <div class=\"colab-df-container\">\n",
              "    <button class=\"colab-df-convert\" onclick=\"convertToInteractive('df-8ce43c20-ca0d-4907-a755-3f1ece783fe0')\"\n",
              "            title=\"Convert this dataframe to an interactive table.\"\n",
              "            style=\"display:none;\">\n",
              "\n",
              "  <svg xmlns=\"http://www.w3.org/2000/svg\" height=\"24px\" viewBox=\"0 -960 960 960\">\n",
              "    <path d=\"M120-120v-720h720v720H120Zm60-500h600v-160H180v160Zm220 220h160v-160H400v160Zm0 220h160v-160H400v160ZM180-400h160v-160H180v160Zm440 0h160v-160H620v160ZM180-180h160v-160H180v160Zm440 0h160v-160H620v160Z\"/>\n",
              "  </svg>\n",
              "    </button>\n",
              "\n",
              "  <style>\n",
              "    .colab-df-container {\n",
              "      display:flex;\n",
              "      gap: 12px;\n",
              "    }\n",
              "\n",
              "    .colab-df-convert {\n",
              "      background-color: #E8F0FE;\n",
              "      border: none;\n",
              "      border-radius: 50%;\n",
              "      cursor: pointer;\n",
              "      display: none;\n",
              "      fill: #1967D2;\n",
              "      height: 32px;\n",
              "      padding: 0 0 0 0;\n",
              "      width: 32px;\n",
              "    }\n",
              "\n",
              "    .colab-df-convert:hover {\n",
              "      background-color: #E2EBFA;\n",
              "      box-shadow: 0px 1px 2px rgba(60, 64, 67, 0.3), 0px 1px 3px 1px rgba(60, 64, 67, 0.15);\n",
              "      fill: #174EA6;\n",
              "    }\n",
              "\n",
              "    .colab-df-buttons div {\n",
              "      margin-bottom: 4px;\n",
              "    }\n",
              "\n",
              "    [theme=dark] .colab-df-convert {\n",
              "      background-color: #3B4455;\n",
              "      fill: #D2E3FC;\n",
              "    }\n",
              "\n",
              "    [theme=dark] .colab-df-convert:hover {\n",
              "      background-color: #434B5C;\n",
              "      box-shadow: 0px 1px 3px 1px rgba(0, 0, 0, 0.15);\n",
              "      filter: drop-shadow(0px 1px 2px rgba(0, 0, 0, 0.3));\n",
              "      fill: #FFFFFF;\n",
              "    }\n",
              "  </style>\n",
              "\n",
              "    <script>\n",
              "      const buttonEl =\n",
              "        document.querySelector('#df-8ce43c20-ca0d-4907-a755-3f1ece783fe0 button.colab-df-convert');\n",
              "      buttonEl.style.display =\n",
              "        google.colab.kernel.accessAllowed ? 'block' : 'none';\n",
              "\n",
              "      async function convertToInteractive(key) {\n",
              "        const element = document.querySelector('#df-8ce43c20-ca0d-4907-a755-3f1ece783fe0');\n",
              "        const dataTable =\n",
              "          await google.colab.kernel.invokeFunction('convertToInteractive',\n",
              "                                                    [key], {});\n",
              "        if (!dataTable) return;\n",
              "\n",
              "        const docLinkHtml = 'Like what you see? Visit the ' +\n",
              "          '<a target=\"_blank\" href=https://colab.research.google.com/notebooks/data_table.ipynb>data table notebook</a>'\n",
              "          + ' to learn more about interactive tables.';\n",
              "        element.innerHTML = '';\n",
              "        dataTable['output_type'] = 'display_data';\n",
              "        await google.colab.output.renderOutput(dataTable, element);\n",
              "        const docLink = document.createElement('div');\n",
              "        docLink.innerHTML = docLinkHtml;\n",
              "        element.appendChild(docLink);\n",
              "      }\n",
              "    </script>\n",
              "  </div>\n",
              "\n",
              "\n",
              "    </div>\n",
              "  </div>\n"
            ],
            "application/vnd.google.colaboratory.intrinsic+json": {
              "type": "dataframe",
              "variable_name": "data",
              "repr_error": "Out of range float values are not JSON compliant: nan"
            }
          },
          "metadata": {},
          "execution_count": 66
        }
      ]
    }
  ],
  "metadata": {
    "kernelspec": {
      "display_name": "Python 3 (ipykernel)",
      "language": "python",
      "name": "python3"
    },
    "language_info": {
      "codemirror_mode": {
        "name": "ipython",
        "version": 3
      },
      "file_extension": ".py",
      "mimetype": "text/x-python",
      "name": "python",
      "nbconvert_exporter": "python",
      "pygments_lexer": "ipython3",
      "version": "3.9.13"
    },
    "colab": {
      "provenance": []
    }
  },
  "nbformat": 4,
  "nbformat_minor": 5
}